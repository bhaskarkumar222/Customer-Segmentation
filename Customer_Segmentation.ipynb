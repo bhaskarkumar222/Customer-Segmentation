{
 "cells": [
  {
   "cell_type": "code",
   "execution_count": 1,
   "id": "e202be0b-3e59-439b-a89b-37d177d33f90",
   "metadata": {},
   "outputs": [],
   "source": [
    "from datetime import date\n",
    "from datetime import datetime\n",
    "import pandas as pd\n",
    "import numpy as np\n",
    "import matplotlib.pyplot as plt\n",
    "import seaborn as sns\n",
    "plt.style.use('ggplot')\n",
    "%matplotlib inline"
   ]
  },
  {
   "cell_type": "markdown",
   "id": "2b98eecb-cc49-4561-aef3-40f7464dfd43",
   "metadata": {},
   "source": [
    "# **Data Cleaning and Processing**"
   ]
  },
  {
   "cell_type": "markdown",
   "id": "e71ff58d-b375-4b4a-bd94-c7d797982ee7",
   "metadata": {},
   "source": [
    "## Customer Address\n"
   ]
  },
  {
   "cell_type": "code",
   "execution_count": 2,
   "id": "5eb69089-b62a-43f9-b026-d810d483f9d6",
   "metadata": {},
   "outputs": [],
   "source": [
    "# Loading the Customer Address Data from the excel file\n",
    "\n",
    "cust_address = pd.read_excel('Raw_data.xlsx' , sheet_name='CustomerAddress')"
   ]
  },
  {
   "cell_type": "code",
   "execution_count": 3,
   "id": "2cde471f-c512-4067-af43-e84f62cdaa20",
   "metadata": {},
   "outputs": [
    {
     "data": {
      "text/html": [
       "<div>\n",
       "<style scoped>\n",
       "    .dataframe tbody tr th:only-of-type {\n",
       "        vertical-align: middle;\n",
       "    }\n",
       "\n",
       "    .dataframe tbody tr th {\n",
       "        vertical-align: top;\n",
       "    }\n",
       "\n",
       "    .dataframe thead th {\n",
       "        text-align: right;\n",
       "    }\n",
       "</style>\n",
       "<table border=\"1\" class=\"dataframe\">\n",
       "  <thead>\n",
       "    <tr style=\"text-align: right;\">\n",
       "      <th></th>\n",
       "      <th>customer_id</th>\n",
       "      <th>address</th>\n",
       "      <th>postcode</th>\n",
       "      <th>state</th>\n",
       "      <th>country</th>\n",
       "      <th>property_valuation</th>\n",
       "    </tr>\n",
       "  </thead>\n",
       "  <tbody>\n",
       "    <tr>\n",
       "      <th>0</th>\n",
       "      <td>1</td>\n",
       "      <td>060 Morning Avenue</td>\n",
       "      <td>2016</td>\n",
       "      <td>New South Wales</td>\n",
       "      <td>Australia</td>\n",
       "      <td>10</td>\n",
       "    </tr>\n",
       "    <tr>\n",
       "      <th>1</th>\n",
       "      <td>2</td>\n",
       "      <td>6 Meadow Vale Court</td>\n",
       "      <td>2153</td>\n",
       "      <td>New South Wales</td>\n",
       "      <td>Australia</td>\n",
       "      <td>10</td>\n",
       "    </tr>\n",
       "    <tr>\n",
       "      <th>2</th>\n",
       "      <td>4</td>\n",
       "      <td>0 Holy Cross Court</td>\n",
       "      <td>4211</td>\n",
       "      <td>QLD</td>\n",
       "      <td>Australia</td>\n",
       "      <td>9</td>\n",
       "    </tr>\n",
       "    <tr>\n",
       "      <th>3</th>\n",
       "      <td>5</td>\n",
       "      <td>17979 Del Mar Point</td>\n",
       "      <td>2448</td>\n",
       "      <td>New South Wales</td>\n",
       "      <td>Australia</td>\n",
       "      <td>4</td>\n",
       "    </tr>\n",
       "    <tr>\n",
       "      <th>4</th>\n",
       "      <td>6</td>\n",
       "      <td>9 Oakridge Court</td>\n",
       "      <td>3216</td>\n",
       "      <td>VIC</td>\n",
       "      <td>Australia</td>\n",
       "      <td>9</td>\n",
       "    </tr>\n",
       "  </tbody>\n",
       "</table>\n",
       "</div>"
      ],
      "text/plain": [
       "   customer_id              address  postcode            state    country  \\\n",
       "0            1   060 Morning Avenue      2016  New South Wales  Australia   \n",
       "1            2  6 Meadow Vale Court      2153  New South Wales  Australia   \n",
       "2            4   0 Holy Cross Court      4211              QLD  Australia   \n",
       "3            5  17979 Del Mar Point      2448  New South Wales  Australia   \n",
       "4            6     9 Oakridge Court      3216              VIC  Australia   \n",
       "\n",
       "   property_valuation  \n",
       "0                  10  \n",
       "1                  10  \n",
       "2                   9  \n",
       "3                   4  \n",
       "4                   9  "
      ]
     },
     "execution_count": 3,
     "metadata": {},
     "output_type": "execute_result"
    }
   ],
   "source": [
    "# Checking first 5 rows\n",
    "\n",
    "cust_address.head()"
   ]
  },
  {
   "cell_type": "code",
   "execution_count": 4,
   "id": "54757c8a-b265-45c1-974d-3836146c0889",
   "metadata": {},
   "outputs": [
    {
     "name": "stdout",
     "output_type": "stream",
     "text": [
      "<class 'pandas.core.frame.DataFrame'>\n",
      "RangeIndex: 3999 entries, 0 to 3998\n",
      "Data columns (total 6 columns):\n",
      " #   Column              Non-Null Count  Dtype \n",
      "---  ------              --------------  ----- \n",
      " 0   customer_id         3999 non-null   int64 \n",
      " 1   address             3999 non-null   object\n",
      " 2   postcode            3999 non-null   int64 \n",
      " 3   state               3999 non-null   object\n",
      " 4   country             3999 non-null   object\n",
      " 5   property_valuation  3999 non-null   int64 \n",
      "dtypes: int64(3), object(3)\n",
      "memory usage: 187.6+ KB\n"
     ]
    }
   ],
   "source": [
    "# Checking information of columns and data-types of Customer Address Data.\n",
    "\n",
    "cust_address.info()"
   ]
  },
  {
   "cell_type": "code",
   "execution_count": 5,
   "id": "8b1c0a76-9bdf-47ab-84a4-c91a6a94edfe",
   "metadata": {},
   "outputs": [
    {
     "data": {
      "text/plain": [
       "customer_id           0\n",
       "address               0\n",
       "postcode              0\n",
       "state                 0\n",
       "country               0\n",
       "property_valuation    0\n",
       "dtype: int64"
      ]
     },
     "execution_count": 5,
     "metadata": {},
     "output_type": "execute_result"
    }
   ],
   "source": [
    "# Checking for null value\n",
    "\n",
    "cust_address.isnull().sum()"
   ]
  },
  {
   "cell_type": "markdown",
   "id": "a8e308f7-cb15-4e07-9a25-9b8e2926e7a7",
   "metadata": {},
   "source": [
    "**There is no missing value in DataFrame**"
   ]
  },
  {
   "cell_type": "code",
   "execution_count": 6,
   "id": "2b21d8f3-1e5c-47df-813d-7bc861b0f846",
   "metadata": {},
   "outputs": [
    {
     "name": "stdout",
     "output_type": "stream",
     "text": [
      "Total records (rows) and (column) in the dataset: (3999, 6)\n"
     ]
    }
   ],
   "source": [
    "# Checking for total row and column in data frame\n",
    "\n",
    "print(f\"Total records (rows) and (column) in the dataset: {cust_address.shape}\")"
   ]
  },
  {
   "cell_type": "markdown",
   "id": "fcdf7589-0b37-4381-b0af-3ef19d9afd20",
   "metadata": {},
   "source": [
    "## 1. Check for Inconsistency in Data"
   ]
  },
  {
   "cell_type": "markdown",
   "id": "88f39fca-78a9-4f71-9e04-8cc329d738a6",
   "metadata": {},
   "source": [
    "Checking for inconsistent data / typo error data in colum **address, postcode, state and country**"
   ]
  },
  {
   "cell_type": "markdown",
   "id": "36079f3c-49bb-40f7-b61c-34fc9c6882e7",
   "metadata": {},
   "source": [
    "## **State Column**"
   ]
  },
  {
   "cell_type": "code",
   "execution_count": 7,
   "id": "9929c449-2d85-470f-9de8-77e6f0ef4b75",
   "metadata": {},
   "outputs": [
    {
     "data": {
      "text/plain": [
       "array(['New South Wales', 'QLD', 'VIC', 'NSW', 'Victoria'], dtype=object)"
      ]
     },
     "execution_count": 7,
     "metadata": {},
     "output_type": "execute_result"
    }
   ],
   "source": [
    "cust_address['state'].unique()"
   ]
  },
  {
   "cell_type": "code",
   "execution_count": 8,
   "id": "57afb501-717f-42b1-8274-9e109f74ce8a",
   "metadata": {},
   "outputs": [
    {
     "data": {
      "text/plain": [
       "state\n",
       "NSW                2054\n",
       "VIC                 939\n",
       "QLD                 838\n",
       "New South Wales      86\n",
       "Victoria             82\n",
       "Name: count, dtype: int64"
      ]
     },
     "execution_count": 8,
     "metadata": {},
     "output_type": "execute_result"
    }
   ],
   "source": [
    "cust_address['state'].value_counts()"
   ]
  },
  {
   "cell_type": "markdown",
   "id": "3e68e3de-915e-401a-979f-f5ca6bd551c7",
   "metadata": {},
   "source": [
    "In state column there is inconsistent. As **New South Wales** will be replaced by **NSW** and **Victoria** will be replaced by **VIC**"
   ]
  },
  {
   "cell_type": "code",
   "execution_count": 9,
   "id": "fdfcbb10-3be8-4d6c-9b33-45e24dab86c8",
   "metadata": {},
   "outputs": [],
   "source": [
    "# Function to replace full state names with their short forms.\n",
    "\n",
    "# def replace_state_name(state_name):\n",
    "#     if state_name == 'New South Wales':\n",
    "#         return 'NSW'\n",
    "#     if state_name == 'Victoria':\n",
    "#         return 'VIC'\n",
    "#     else: \n",
    "#         return state_name\n",
    "\n",
    "cust_address['state'] = cust_address['state'].replace('New South Wales','NSW').replace('Victoria','VIC')"
   ]
  },
  {
   "cell_type": "code",
   "execution_count": 10,
   "id": "09dc6eb4-88c9-43ff-899a-77b3ea9bb645",
   "metadata": {},
   "outputs": [
    {
     "data": {
      "text/plain": [
       "state\n",
       "NSW    2140\n",
       "VIC    1021\n",
       "QLD     838\n",
       "Name: count, dtype: int64"
      ]
     },
     "execution_count": 10,
     "metadata": {},
     "output_type": "execute_result"
    }
   ],
   "source": [
    "# Rechecking state column\n",
    "\n",
    "cust_address['state'].value_counts()"
   ]
  },
  {
   "cell_type": "markdown",
   "id": "b6dec98c-8c80-467a-b129-f6569b015a24",
   "metadata": {},
   "source": [
    "# **Country Column**"
   ]
  },
  {
   "cell_type": "code",
   "execution_count": 11,
   "id": "f028d970-4439-4352-906d-d7c4f1b15d3a",
   "metadata": {},
   "outputs": [
    {
     "data": {
      "text/plain": [
       "country\n",
       "Australia    3999\n",
       "Name: count, dtype: int64"
      ]
     },
     "execution_count": 11,
     "metadata": {},
     "output_type": "execute_result"
    }
   ],
   "source": [
    "cust_address['country'].value_counts()"
   ]
  },
  {
   "cell_type": "markdown",
   "id": "4f35cd99-15d2-4457-befe-7e2a1b1cb5f7",
   "metadata": {},
   "source": [
    "Country column don't have any inconsistent"
   ]
  },
  {
   "cell_type": "markdown",
   "id": "7004ecd6-edb4-4c74-bc50-0b2513480dea",
   "metadata": {},
   "source": [
    "## **Postcode Column**"
   ]
  },
  {
   "cell_type": "code",
   "execution_count": 12,
   "id": "fc17e7e8-2917-41bd-a2cd-946fbc3b6187",
   "metadata": {},
   "outputs": [
    {
     "data": {
      "text/plain": [
       "address     3999\n",
       "postcode    3999\n",
       "state       3999\n",
       "country     3999\n",
       "dtype: int64"
      ]
     },
     "execution_count": 12,
     "metadata": {},
     "output_type": "execute_result"
    }
   ],
   "source": [
    "cust_address[['address','postcode', 'state' , 'country']].drop_duplicates().count()"
   ]
  },
  {
   "cell_type": "markdown",
   "id": "96691bc6-4f39-451f-b267-40ad1274d4ea",
   "metadata": {},
   "source": [
    "There is no inconsistent"
   ]
  },
  {
   "cell_type": "markdown",
   "id": "1f5c968d-fa00-4155-9b96-67e8ef568c1c",
   "metadata": {},
   "source": [
    "## 2. Duplication Checks"
   ]
  },
  {
   "cell_type": "markdown",
   "id": "6e3e037a-af42-42cd-b926-b61a0ce757b8",
   "metadata": {},
   "source": [
    "We need to ensure that there is no duplication of records in the dataset. This may lead to error in data analysis due to poor data quality. If there are duplicate rows of data then we need to drop such records."
   ]
  },
  {
   "cell_type": "code",
   "execution_count": 13,
   "id": "6045b0a1-c6a1-4014-ad32-968e76469ce9",
   "metadata": {},
   "outputs": [
    {
     "data": {
      "text/plain": [
       "np.int64(0)"
      ]
     },
     "execution_count": 13,
     "metadata": {},
     "output_type": "execute_result"
    }
   ],
   "source": [
    "# Taking count of customer ID as this column is primery key\n",
    "\n",
    "cust_address['customer_id'].duplicated().sum()"
   ]
  },
  {
   "cell_type": "code",
   "execution_count": 14,
   "id": "3e5037e5-4fec-48b1-a0a3-9adc05ca4f10",
   "metadata": {},
   "outputs": [
    {
     "data": {
      "text/plain": [
       "3999"
      ]
     },
     "execution_count": 14,
     "metadata": {},
     "output_type": "execute_result"
    }
   ],
   "source": [
    "# taking the count of full dataset\n",
    "cust_address.shape[0]"
   ]
  },
  {
   "cell_type": "code",
   "execution_count": 15,
   "id": "7117d83c-c508-4e63-8ad3-09a01a34900c",
   "metadata": {},
   "outputs": [
    {
     "data": {
      "text/plain": [
       "np.int64(3999)"
      ]
     },
     "execution_count": 15,
     "metadata": {},
     "output_type": "execute_result"
    }
   ],
   "source": [
    "# Taking count of customer ID as this column is primery key\n",
    "\n",
    "cust_address['customer_id'].count()"
   ]
  },
  {
   "cell_type": "markdown",
   "id": "0e4a4a81-4918-4ddb-9d3a-d7fff6d5a963",
   "metadata": {},
   "source": [
    "**Since the total count of customer id column and the count of whole dataset are same. There are no duplicate records in the dataset**"
   ]
  },
  {
   "cell_type": "markdown",
   "id": "1012cd21-983c-4ab2-9c01-a2d672850f8a",
   "metadata": {},
   "source": [
    "## 3. Exporting the Cleaned Customer Adderss DataSet to csv"
   ]
  },
  {
   "cell_type": "code",
   "execution_count": 16,
   "id": "77e60a76-3d27-4cec-8ed2-1f99d19b304e",
   "metadata": {},
   "outputs": [],
   "source": [
    "cust_address.to_csv('CustomerAddress_Cleaned.csv', index=False)"
   ]
  },
  {
   "cell_type": "code",
   "execution_count": null,
   "id": "bcffcc94-cd50-4da4-b518-29772c3c9f77",
   "metadata": {},
   "outputs": [],
   "source": []
  },
  {
   "cell_type": "markdown",
   "id": "fd73f005-2dd3-45ac-8c06-01127ee4564b",
   "metadata": {},
   "source": [
    "## ------------------------------------------------- END -------------------------------------------------------"
   ]
  },
  {
   "cell_type": "markdown",
   "id": "960353f9-d568-4127-adb7-bfcc39ed4917",
   "metadata": {},
   "source": [
    "## Customer Demographic"
   ]
  },
  {
   "cell_type": "code",
   "execution_count": null,
   "id": "e34892e6-dc38-4dbc-9764-aaca72e78a48",
   "metadata": {},
   "outputs": [],
   "source": []
  },
  {
   "cell_type": "code",
   "execution_count": 17,
   "id": "46572e3f-c376-4194-acbe-ab2fef71942c",
   "metadata": {},
   "outputs": [],
   "source": [
    "# Loading the Customer Demographics Data from the excel file\n",
    "\n",
    "cust_demo = pd.read_excel('Raw_data.xlsx' , sheet_name='CustomerDemographic')"
   ]
  },
  {
   "cell_type": "code",
   "execution_count": 18,
   "id": "b73d7686-ad0c-4bef-a4fc-4977ccef3d17",
   "metadata": {},
   "outputs": [
    {
     "data": {
      "text/html": [
       "<div>\n",
       "<style scoped>\n",
       "    .dataframe tbody tr th:only-of-type {\n",
       "        vertical-align: middle;\n",
       "    }\n",
       "\n",
       "    .dataframe tbody tr th {\n",
       "        vertical-align: top;\n",
       "    }\n",
       "\n",
       "    .dataframe thead th {\n",
       "        text-align: right;\n",
       "    }\n",
       "</style>\n",
       "<table border=\"1\" class=\"dataframe\">\n",
       "  <thead>\n",
       "    <tr style=\"text-align: right;\">\n",
       "      <th></th>\n",
       "      <th>customer_id</th>\n",
       "      <th>first_name</th>\n",
       "      <th>last_name</th>\n",
       "      <th>gender</th>\n",
       "      <th>past_3_years_bike_related_purchases</th>\n",
       "      <th>DOB</th>\n",
       "      <th>job_title</th>\n",
       "      <th>job_industry_category</th>\n",
       "      <th>wealth_segment</th>\n",
       "      <th>deceased_indicator</th>\n",
       "      <th>default</th>\n",
       "      <th>owns_car</th>\n",
       "      <th>tenure</th>\n",
       "    </tr>\n",
       "  </thead>\n",
       "  <tbody>\n",
       "    <tr>\n",
       "      <th>0</th>\n",
       "      <td>1</td>\n",
       "      <td>Laraine</td>\n",
       "      <td>Medendorp</td>\n",
       "      <td>F</td>\n",
       "      <td>93</td>\n",
       "      <td>1953-10-12 00:00:00</td>\n",
       "      <td>Executive Secretary</td>\n",
       "      <td>Health</td>\n",
       "      <td>Mass Customer</td>\n",
       "      <td>N</td>\n",
       "      <td>\"'</td>\n",
       "      <td>Yes</td>\n",
       "      <td>11.0</td>\n",
       "    </tr>\n",
       "    <tr>\n",
       "      <th>1</th>\n",
       "      <td>2</td>\n",
       "      <td>Eli</td>\n",
       "      <td>Bockman</td>\n",
       "      <td>Male</td>\n",
       "      <td>81</td>\n",
       "      <td>1980-12-16 00:00:00</td>\n",
       "      <td>Administrative Officer</td>\n",
       "      <td>Financial Services</td>\n",
       "      <td>Mass Customer</td>\n",
       "      <td>N</td>\n",
       "      <td>&lt;script&gt;alert('hi')&lt;/script&gt;</td>\n",
       "      <td>Yes</td>\n",
       "      <td>16.0</td>\n",
       "    </tr>\n",
       "    <tr>\n",
       "      <th>2</th>\n",
       "      <td>3</td>\n",
       "      <td>Arlin</td>\n",
       "      <td>Dearle</td>\n",
       "      <td>Male</td>\n",
       "      <td>61</td>\n",
       "      <td>1954-01-20 00:00:00</td>\n",
       "      <td>Recruiting Manager</td>\n",
       "      <td>Property</td>\n",
       "      <td>Mass Customer</td>\n",
       "      <td>N</td>\n",
       "      <td>2018-02-01 00:00:00</td>\n",
       "      <td>Yes</td>\n",
       "      <td>15.0</td>\n",
       "    </tr>\n",
       "    <tr>\n",
       "      <th>3</th>\n",
       "      <td>4</td>\n",
       "      <td>Talbot</td>\n",
       "      <td>NaN</td>\n",
       "      <td>Male</td>\n",
       "      <td>33</td>\n",
       "      <td>1961-10-03 00:00:00</td>\n",
       "      <td>NaN</td>\n",
       "      <td>IT</td>\n",
       "      <td>Mass Customer</td>\n",
       "      <td>N</td>\n",
       "      <td>() { _; } &gt;_[$($())] { touch /tmp/blns.shellsh...</td>\n",
       "      <td>No</td>\n",
       "      <td>7.0</td>\n",
       "    </tr>\n",
       "    <tr>\n",
       "      <th>4</th>\n",
       "      <td>5</td>\n",
       "      <td>Sheila-kathryn</td>\n",
       "      <td>Calton</td>\n",
       "      <td>Female</td>\n",
       "      <td>56</td>\n",
       "      <td>1977-05-13 00:00:00</td>\n",
       "      <td>Senior Editor</td>\n",
       "      <td>NaN</td>\n",
       "      <td>Affluent Customer</td>\n",
       "      <td>N</td>\n",
       "      <td>NIL</td>\n",
       "      <td>Yes</td>\n",
       "      <td>8.0</td>\n",
       "    </tr>\n",
       "  </tbody>\n",
       "</table>\n",
       "</div>"
      ],
      "text/plain": [
       "   customer_id      first_name  last_name  gender  \\\n",
       "0            1         Laraine  Medendorp       F   \n",
       "1            2             Eli    Bockman    Male   \n",
       "2            3           Arlin     Dearle    Male   \n",
       "3            4          Talbot        NaN    Male   \n",
       "4            5  Sheila-kathryn     Calton  Female   \n",
       "\n",
       "   past_3_years_bike_related_purchases                  DOB  \\\n",
       "0                                   93  1953-10-12 00:00:00   \n",
       "1                                   81  1980-12-16 00:00:00   \n",
       "2                                   61  1954-01-20 00:00:00   \n",
       "3                                   33  1961-10-03 00:00:00   \n",
       "4                                   56  1977-05-13 00:00:00   \n",
       "\n",
       "                job_title job_industry_category     wealth_segment  \\\n",
       "0     Executive Secretary                Health      Mass Customer   \n",
       "1  Administrative Officer    Financial Services      Mass Customer   \n",
       "2      Recruiting Manager              Property      Mass Customer   \n",
       "3                     NaN                    IT      Mass Customer   \n",
       "4           Senior Editor                   NaN  Affluent Customer   \n",
       "\n",
       "  deceased_indicator                                            default  \\\n",
       "0                  N                                                 \"'   \n",
       "1                  N                       <script>alert('hi')</script>   \n",
       "2                  N                                2018-02-01 00:00:00   \n",
       "3                  N  () { _; } >_[$($())] { touch /tmp/blns.shellsh...   \n",
       "4                  N                                                NIL   \n",
       "\n",
       "  owns_car  tenure  \n",
       "0      Yes    11.0  \n",
       "1      Yes    16.0  \n",
       "2      Yes    15.0  \n",
       "3       No     7.0  \n",
       "4      Yes     8.0  "
      ]
     },
     "execution_count": 18,
     "metadata": {},
     "output_type": "execute_result"
    }
   ],
   "source": [
    "cust_demo.head()"
   ]
  },
  {
   "cell_type": "code",
   "execution_count": 19,
   "id": "bfde48ee-f0fb-46ce-b616-4be5c154996a",
   "metadata": {},
   "outputs": [
    {
     "name": "stdout",
     "output_type": "stream",
     "text": [
      "<class 'pandas.core.frame.DataFrame'>\n",
      "RangeIndex: 4000 entries, 0 to 3999\n",
      "Data columns (total 13 columns):\n",
      " #   Column                               Non-Null Count  Dtype  \n",
      "---  ------                               --------------  -----  \n",
      " 0   customer_id                          4000 non-null   int64  \n",
      " 1   first_name                           4000 non-null   object \n",
      " 2   last_name                            3875 non-null   object \n",
      " 3   gender                               4000 non-null   object \n",
      " 4   past_3_years_bike_related_purchases  4000 non-null   int64  \n",
      " 5   DOB                                  3913 non-null   object \n",
      " 6   job_title                            3494 non-null   object \n",
      " 7   job_industry_category                3344 non-null   object \n",
      " 8   wealth_segment                       4000 non-null   object \n",
      " 9   deceased_indicator                   4000 non-null   object \n",
      " 10  default                              3698 non-null   object \n",
      " 11  owns_car                             4000 non-null   object \n",
      " 12  tenure                               3913 non-null   float64\n",
      "dtypes: float64(1), int64(2), object(10)\n",
      "memory usage: 406.4+ KB\n"
     ]
    }
   ],
   "source": [
    "cust_demo.info()"
   ]
  },
  {
   "cell_type": "code",
   "execution_count": 20,
   "id": "ebae30dd-7a7f-4bf0-be30-f960d8a3247d",
   "metadata": {},
   "outputs": [
    {
     "data": {
      "text/plain": [
       "customer_id                              0\n",
       "first_name                               0\n",
       "last_name                              125\n",
       "gender                                   0\n",
       "past_3_years_bike_related_purchases      0\n",
       "DOB                                     87\n",
       "job_title                              506\n",
       "job_industry_category                  656\n",
       "wealth_segment                           0\n",
       "deceased_indicator                       0\n",
       "default                                302\n",
       "owns_car                                 0\n",
       "tenure                                  87\n",
       "dtype: int64"
      ]
     },
     "execution_count": 20,
     "metadata": {},
     "output_type": "execute_result"
    }
   ],
   "source": [
    "cust_demo.isnull().sum()"
   ]
  },
  {
   "cell_type": "code",
   "execution_count": 21,
   "id": "a2616b9b-ed17-4c22-9064-4c79e3cc2a70",
   "metadata": {},
   "outputs": [
    {
     "data": {
      "text/plain": [
       "(4000, 13)"
      ]
     },
     "execution_count": 21,
     "metadata": {},
     "output_type": "execute_result"
    }
   ],
   "source": [
    "cust_demo.shape"
   ]
  },
  {
   "cell_type": "markdown",
   "id": "2b30a30d-49fc-4d17-b01b-a15fb4f872a5",
   "metadata": {},
   "source": [
    "## 1. Dropping Irrelevent Columns"
   ]
  },
  {
   "cell_type": "markdown",
   "id": "beefc029-35b0-47ec-aa61-9c25db5c366d",
   "metadata": {},
   "source": [
    "**default is an irrelevent column. Hence it should be dropped.**"
   ]
  },
  {
   "cell_type": "code",
   "execution_count": 22,
   "id": "2f236e48-c9ef-4c92-961a-3acdcc467f1c",
   "metadata": {},
   "outputs": [],
   "source": [
    "# Dropping the default column\n",
    "\n",
    "cust_demo.drop(columns={'default'}, axis=1, inplace = True)"
   ]
  },
  {
   "cell_type": "code",
   "execution_count": 23,
   "id": "edec1e84-7fca-4aad-b80f-2aec3999eedb",
   "metadata": {},
   "outputs": [
    {
     "data": {
      "text/plain": [
       "Index(['customer_id', 'first_name', 'last_name', 'gender',\n",
       "       'past_3_years_bike_related_purchases', 'DOB', 'job_title',\n",
       "       'job_industry_category', 'wealth_segment', 'deceased_indicator',\n",
       "       'owns_car', 'tenure'],\n",
       "      dtype='object')"
      ]
     },
     "execution_count": 23,
     "metadata": {},
     "output_type": "execute_result"
    }
   ],
   "source": [
    "cust_demo.columns"
   ]
  },
  {
   "cell_type": "markdown",
   "id": "ed189ffd-fa7a-4cd4-9191-977cf2398f8f",
   "metadata": {},
   "source": [
    "## 2. Missing Values Check"
   ]
  },
  {
   "cell_type": "code",
   "execution_count": 24,
   "id": "0093809a-ea98-4627-b71d-9db0a14eb8c2",
   "metadata": {},
   "outputs": [
    {
     "data": {
      "text/plain": [
       "customer_id                              0\n",
       "first_name                               0\n",
       "last_name                              125\n",
       "gender                                   0\n",
       "past_3_years_bike_related_purchases      0\n",
       "DOB                                     87\n",
       "job_title                              506\n",
       "job_industry_category                  656\n",
       "wealth_segment                           0\n",
       "deceased_indicator                       0\n",
       "owns_car                                 0\n",
       "tenure                                  87\n",
       "dtype: int64"
      ]
     },
     "execution_count": 24,
     "metadata": {},
     "output_type": "execute_result"
    }
   ],
   "source": [
    "cust_demo.isnull().sum()"
   ]
  },
  {
   "cell_type": "markdown",
   "id": "633bbc30-834d-402a-b071-e4f1b591cd09",
   "metadata": {},
   "source": [
    "**last_name, DOB, job_title, job_industry_category, tenure** all this column have missing values."
   ]
  },
  {
   "cell_type": "markdown",
   "id": "20dcfedb-6613-41f7-a61c-81f388d972a9",
   "metadata": {},
   "source": [
    "## Last Name"
   ]
  },
  {
   "cell_type": "code",
   "execution_count": 25,
   "id": "b1dbbc78-b958-40f8-96a3-ff2af3051ac4",
   "metadata": {},
   "outputs": [
    {
     "data": {
      "text/plain": [
       "customer_id    0\n",
       "first_name     0\n",
       "dtype: int64"
      ]
     },
     "execution_count": 25,
     "metadata": {},
     "output_type": "execute_result"
    }
   ],
   "source": [
    "# Checking for the presence of first name and customer id in records where last name is missing.\n",
    "cust_demo[cust_demo['last_name'].isnull()][['customer_id', 'first_name']].isnull().sum()"
   ]
  },
  {
   "cell_type": "markdown",
   "id": "3b5909b9-f7a2-4718-bc59-852324f9c337",
   "metadata": {},
   "source": [
    "Since All customers have a customer_id and First name, all the customers are identifiable. Hence it is okay for to not have a last name. **Filling null last names with \"None\"**."
   ]
  },
  {
   "cell_type": "code",
   "execution_count": 26,
   "id": "2eb32637-da36-4af5-8ef5-25a03c9da331",
   "metadata": {},
   "outputs": [
    {
     "name": "stderr",
     "output_type": "stream",
     "text": [
      "C:\\Users\\Bhask\\AppData\\Local\\Temp\\ipykernel_15380\\3781475646.py:1: FutureWarning: A value is trying to be set on a copy of a DataFrame or Series through chained assignment using an inplace method.\n",
      "The behavior will change in pandas 3.0. This inplace method will never work because the intermediate object on which we are setting values always behaves as a copy.\n",
      "\n",
      "For example, when doing 'df[col].method(value, inplace=True)', try using 'df.method({col: value}, inplace=True)' or df[col] = df[col].method(value) instead, to perform the operation inplace on the original object.\n",
      "\n",
      "\n",
      "  cust_demo['last_name'].fillna('None', axis = 0, inplace = True)\n"
     ]
    }
   ],
   "source": [
    "cust_demo['last_name'].fillna('None', axis = 0, inplace = True)"
   ]
  },
  {
   "cell_type": "code",
   "execution_count": 27,
   "id": "c2c6ec3d-c9cf-4504-b8d7-7f3f010749e1",
   "metadata": {},
   "outputs": [
    {
     "data": {
      "text/plain": [
       "np.int64(0)"
      ]
     },
     "execution_count": 27,
     "metadata": {},
     "output_type": "execute_result"
    }
   ],
   "source": [
    "cust_demo['last_name'].isnull().sum()"
   ]
  },
  {
   "cell_type": "markdown",
   "id": "4d6a9d27-894b-4792-98c3-b7d7e9f088f9",
   "metadata": {},
   "source": [
    "## Date of Birth"
   ]
  },
  {
   "cell_type": "code",
   "execution_count": 28,
   "id": "8f4d77a0-89a4-44c5-81b4-460925b2d6f8",
   "metadata": {},
   "outputs": [
    {
     "data": {
      "text/plain": [
       "np.float64(2.175)"
      ]
     },
     "execution_count": 28,
     "metadata": {},
     "output_type": "execute_result"
    }
   ],
   "source": [
    "cust_demo['DOB'].isnull().mean()*100"
   ]
  },
  {
   "cell_type": "markdown",
   "id": "49066e1e-060f-4388-8f57-cd94890fc738",
   "metadata": {},
   "source": [
    "**Since less than 5 % of data has null date of birth. we can remove the records where date of birth is null.**"
   ]
  },
  {
   "cell_type": "code",
   "execution_count": 29,
   "id": "6809543a-8065-4438-9fef-d0cbe8c18a6b",
   "metadata": {},
   "outputs": [
    {
     "data": {
      "text/plain": [
       "Index([ 143,  167,  266,  289,  450,  452,  453,  479,  512,  525,  547,  581,\n",
       "        598,  679,  684,  798,  838,  882,  891,  949,  974,  982,  995, 1037,\n",
       "       1043, 1081, 1173, 1209, 1243, 1350, 1476, 1508, 1582, 1627, 1682, 1739,\n",
       "       1772, 1779, 1805, 1917, 1937, 1989, 1999, 2020, 2068, 2164, 2204, 2251,\n",
       "       2294, 2334, 2340, 2413, 2425, 2468, 2539, 2641, 2646, 2695, 2696, 2853,\n",
       "       2919, 2962, 2998, 3011, 3085, 3150, 3221, 3222, 3254, 3287, 3297, 3311,\n",
       "       3321, 3342, 3364, 3472, 3509, 3512, 3564, 3653, 3717, 3726, 3778, 3882,\n",
       "       3930, 3934, 3997],\n",
       "      dtype='int64')"
      ]
     },
     "execution_count": 29,
     "metadata": {},
     "output_type": "execute_result"
    }
   ],
   "source": [
    "drop_index = cust_demo[cust_demo['DOB'].isnull()].index\n",
    "drop_index"
   ]
  },
  {
   "cell_type": "code",
   "execution_count": 30,
   "id": "9b2a21c8-ce22-41ba-a7ae-a1406c85b0da",
   "metadata": {},
   "outputs": [],
   "source": [
    "cust_demo.drop(index = drop_index, axis = 0, inplace = True)"
   ]
  },
  {
   "cell_type": "code",
   "execution_count": 31,
   "id": "6eac12d9-ef03-4913-92c1-a661aa0e6d1d",
   "metadata": {},
   "outputs": [
    {
     "data": {
      "text/plain": [
       "np.int64(0)"
      ]
     },
     "execution_count": 31,
     "metadata": {},
     "output_type": "execute_result"
    }
   ],
   "source": [
    "cust_demo['DOB'].isnull().sum()"
   ]
  },
  {
   "cell_type": "code",
   "execution_count": 32,
   "id": "8271caf4-32a1-4288-9032-d3d23448f73f",
   "metadata": {},
   "outputs": [],
   "source": [
    "# converting DOB to datetime datatype\n",
    "\n",
    "cust_demo['DOB'] = pd.to_datetime(cust_demo['DOB'], format = '%Y-%m-%d')"
   ]
  },
  {
   "cell_type": "markdown",
   "id": "5b1c45d7-6e41-46f5-81e4-0e3d9d17605c",
   "metadata": {},
   "source": [
    "### Creating Age Column for checking further descripency in data"
   ]
  },
  {
   "cell_type": "code",
   "execution_count": 33,
   "id": "5b652a22-b284-446f-a65a-c13fc0986985",
   "metadata": {},
   "outputs": [],
   "source": [
    "# calculating age\n",
    "\n",
    "today = date.today()\n",
    "cust_demo['age'] = cust_demo['DOB'].apply(lambda dob: today.year - dob.year - ((today.month, today.day) < (dob.month, dob.day)))"
   ]
  },
  {
   "cell_type": "code",
   "execution_count": 34,
   "id": "47fd3237-fbac-4ddf-8a03-34e7e3d5cd78",
   "metadata": {},
   "outputs": [
    {
     "data": {
      "text/plain": [
       "count    3913.000000\n",
       "mean       47.064401\n",
       "std        12.796921\n",
       "min        22.000000\n",
       "25%        37.000000\n",
       "50%        47.000000\n",
       "75%        57.000000\n",
       "max       181.000000\n",
       "Name: age, dtype: float64"
      ]
     },
     "execution_count": 34,
     "metadata": {},
     "output_type": "execute_result"
    }
   ],
   "source": [
    "cust_demo['age'].describe()"
   ]
  },
  {
   "cell_type": "code",
   "execution_count": 35,
   "id": "406e83c2-1000-448f-9010-5cbe803e532b",
   "metadata": {},
   "outputs": [
    {
     "data": {
      "text/html": [
       "<div>\n",
       "<style scoped>\n",
       "    .dataframe tbody tr th:only-of-type {\n",
       "        vertical-align: middle;\n",
       "    }\n",
       "\n",
       "    .dataframe tbody tr th {\n",
       "        vertical-align: top;\n",
       "    }\n",
       "\n",
       "    .dataframe thead th {\n",
       "        text-align: right;\n",
       "    }\n",
       "</style>\n",
       "<table border=\"1\" class=\"dataframe\">\n",
       "  <thead>\n",
       "    <tr style=\"text-align: right;\">\n",
       "      <th></th>\n",
       "      <th>customer_id</th>\n",
       "      <th>first_name</th>\n",
       "      <th>last_name</th>\n",
       "      <th>gender</th>\n",
       "      <th>past_3_years_bike_related_purchases</th>\n",
       "      <th>DOB</th>\n",
       "      <th>job_title</th>\n",
       "      <th>job_industry_category</th>\n",
       "      <th>wealth_segment</th>\n",
       "      <th>deceased_indicator</th>\n",
       "      <th>owns_car</th>\n",
       "      <th>tenure</th>\n",
       "      <th>age</th>\n",
       "    </tr>\n",
       "  </thead>\n",
       "  <tbody>\n",
       "    <tr>\n",
       "      <th>33</th>\n",
       "      <td>34</td>\n",
       "      <td>Jephthah</td>\n",
       "      <td>Bachmann</td>\n",
       "      <td>U</td>\n",
       "      <td>59</td>\n",
       "      <td>1843-12-21</td>\n",
       "      <td>Legal Assistant</td>\n",
       "      <td>IT</td>\n",
       "      <td>Affluent Customer</td>\n",
       "      <td>N</td>\n",
       "      <td>No</td>\n",
       "      <td>20.0</td>\n",
       "      <td>181</td>\n",
       "    </tr>\n",
       "  </tbody>\n",
       "</table>\n",
       "</div>"
      ],
      "text/plain": [
       "    customer_id first_name last_name gender  \\\n",
       "33           34   Jephthah  Bachmann      U   \n",
       "\n",
       "    past_3_years_bike_related_purchases        DOB        job_title  \\\n",
       "33                                   59 1843-12-21  Legal Assistant   \n",
       "\n",
       "   job_industry_category     wealth_segment deceased_indicator owns_car  \\\n",
       "33                    IT  Affluent Customer                  N       No   \n",
       "\n",
       "    tenure  age  \n",
       "33    20.0  181  "
      ]
     },
     "execution_count": 35,
     "metadata": {},
     "output_type": "execute_result"
    }
   ],
   "source": [
    "cust_demo[cust_demo['age'] > 100]"
   ]
  },
  {
   "cell_type": "markdown",
   "id": "43c30f09-0b9d-4618-aba7-0509652cff85",
   "metadata": {},
   "source": [
    "**Here we see a customer with age 181 which is an outlier. hence we need to remove this record.**"
   ]
  },
  {
   "cell_type": "code",
   "execution_count": 36,
   "id": "ab6a1594-c1f0-4876-bdfb-b6db26c9a8d4",
   "metadata": {},
   "outputs": [],
   "source": [
    "# droping column\n",
    "\n",
    "age_index_drop = cust_demo[cust_demo['age']>100].index\n",
    "\n",
    "cust_demo.drop(index=age_index_drop, inplace=True , axis=0)"
   ]
  },
  {
   "cell_type": "markdown",
   "id": "ffda63da-faa1-4f8a-b5b4-eab2c72c6d2d",
   "metadata": {},
   "source": [
    "## Tenure"
   ]
  },
  {
   "cell_type": "code",
   "execution_count": 37,
   "id": "b79bbbce-6c30-48b8-b1c9-e65318c7bc45",
   "metadata": {},
   "outputs": [
    {
     "data": {
      "text/plain": [
       "np.int64(0)"
      ]
     },
     "execution_count": 37,
     "metadata": {},
     "output_type": "execute_result"
    }
   ],
   "source": [
    "cust_demo['tenure'].isnull().sum()"
   ]
  },
  {
   "cell_type": "markdown",
   "id": "d169bec2-97db-4c94-94d3-a7d0e04340cb",
   "metadata": {},
   "source": [
    "Ther is no missing value in Tenure"
   ]
  },
  {
   "cell_type": "markdown",
   "id": "0b4e61bd-35fa-4bd2-b572-b31729891b2e",
   "metadata": {},
   "source": [
    "## Job Title"
   ]
  },
  {
   "cell_type": "code",
   "execution_count": 38,
   "id": "451ddcf4-f0ad-4f08-817f-919b05757568",
   "metadata": {},
   "outputs": [
    {
     "data": {
      "text/plain": [
       "np.int64(497)"
      ]
     },
     "execution_count": 38,
     "metadata": {},
     "output_type": "execute_result"
    }
   ],
   "source": [
    "# cheking for null\n",
    "\n",
    "cust_demo['job_title'].isnull().sum()"
   ]
  },
  {
   "cell_type": "code",
   "execution_count": 39,
   "id": "bff120cf-8ee3-4fdf-80ae-845ba8efdf51",
   "metadata": {},
   "outputs": [
    {
     "data": {
      "text/plain": [
       "np.float64(14.553440702781845)"
      ]
     },
     "execution_count": 39,
     "metadata": {},
     "output_type": "execute_result"
    }
   ],
   "source": [
    "# checking how much percent of value is null\n",
    "(cust_demo['job_title'].isnull().sum())/(cust_demo['job_title'].count())*100"
   ]
  },
  {
   "cell_type": "markdown",
   "id": "efaee3d0-6c0e-40ed-94f3-a089d5e6ea17",
   "metadata": {},
   "source": [
    "**Since 14% of missing Job title is missing. We will replace null values with Missing**"
   ]
  },
  {
   "cell_type": "code",
   "execution_count": 40,
   "id": "bfed3ae2-ac11-43c3-9b42-9d3e5ac1f0eb",
   "metadata": {},
   "outputs": [
    {
     "name": "stderr",
     "output_type": "stream",
     "text": [
      "C:\\Users\\Bhask\\AppData\\Local\\Temp\\ipykernel_15380\\2814115009.py:3: FutureWarning: A value is trying to be set on a copy of a DataFrame or Series through chained assignment using an inplace method.\n",
      "The behavior will change in pandas 3.0. This inplace method will never work because the intermediate object on which we are setting values always behaves as a copy.\n",
      "\n",
      "For example, when doing 'df[col].method(value, inplace=True)', try using 'df.method({col: value}, inplace=True)' or df[col] = df[col].method(value) instead, to perform the operation inplace on the original object.\n",
      "\n",
      "\n",
      "  cust_demo['job_title'].fillna('Missing', axis = 0 , inplace = True)\n"
     ]
    }
   ],
   "source": [
    "## replacing null values with Missing\n",
    "\n",
    "cust_demo['job_title'].fillna('Missing', axis = 0 , inplace = True)"
   ]
  },
  {
   "cell_type": "code",
   "execution_count": 41,
   "id": "9852e8ad-180e-4b4f-ab49-ee5b6b735cb7",
   "metadata": {},
   "outputs": [
    {
     "data": {
      "text/plain": [
       "np.int64(0)"
      ]
     },
     "execution_count": 41,
     "metadata": {},
     "output_type": "execute_result"
    }
   ],
   "source": [
    "cust_demo['job_title'].isnull().sum()"
   ]
  },
  {
   "cell_type": "markdown",
   "id": "598183a0-2ade-4116-a0f7-b268f1b4491e",
   "metadata": {},
   "source": [
    "## Job Industry Category"
   ]
  },
  {
   "cell_type": "code",
   "execution_count": 42,
   "id": "901ba14b-c184-4676-972f-08795fdb5081",
   "metadata": {},
   "outputs": [
    {
     "data": {
      "text/plain": [
       "np.int64(656)"
      ]
     },
     "execution_count": 42,
     "metadata": {},
     "output_type": "execute_result"
    }
   ],
   "source": [
    "# checking for null value\n",
    "cust_demo['job_industry_category'].isnull().sum()"
   ]
  },
  {
   "cell_type": "code",
   "execution_count": 43,
   "id": "0af7486d-5d49-45fc-9a95-b3879cc7ed8b",
   "metadata": {},
   "outputs": [
    {
     "data": {
      "text/plain": [
       "np.int64(3256)"
      ]
     },
     "execution_count": 43,
     "metadata": {},
     "output_type": "execute_result"
    }
   ],
   "source": [
    "# taking the count of total row\n",
    "cust_demo['job_industry_category'].count()"
   ]
  },
  {
   "cell_type": "code",
   "execution_count": 44,
   "id": "84bcef41-61be-4604-b090-562a7ca5086b",
   "metadata": {},
   "outputs": [
    {
     "data": {
      "text/plain": [
       "np.float64(20.14742014742015)"
      ]
     },
     "execution_count": 44,
     "metadata": {},
     "output_type": "execute_result"
    }
   ],
   "source": [
    "# checking how much percent of value is null\n",
    "(cust_demo['job_industry_category'].isnull().sum())/cust_demo['job_industry_category'].count()*100"
   ]
  },
  {
   "cell_type": "markdown",
   "id": "f8b9846c-13c4-49b8-8ed4-3d45c3a71fb2",
   "metadata": {},
   "source": [
    "**Since 20% of missing Job Industry Category is missing. We will replace null values with Missing**"
   ]
  },
  {
   "cell_type": "code",
   "execution_count": 45,
   "id": "2e800cc6-7490-43fd-a979-98b8fcd1a511",
   "metadata": {},
   "outputs": [
    {
     "name": "stderr",
     "output_type": "stream",
     "text": [
      "C:\\Users\\Bhask\\AppData\\Local\\Temp\\ipykernel_15380\\833752843.py:2: FutureWarning: A value is trying to be set on a copy of a DataFrame or Series through chained assignment using an inplace method.\n",
      "The behavior will change in pandas 3.0. This inplace method will never work because the intermediate object on which we are setting values always behaves as a copy.\n",
      "\n",
      "For example, when doing 'df[col].method(value, inplace=True)', try using 'df.method({col: value}, inplace=True)' or df[col] = df[col].method(value) instead, to perform the operation inplace on the original object.\n",
      "\n",
      "\n",
      "  cust_demo['job_industry_category'].fillna('Missing', axis = 0, inplace = True)\n"
     ]
    }
   ],
   "source": [
    "# replacing null value with Missing\n",
    "cust_demo['job_industry_category'].fillna('Missing', axis = 0, inplace = True)"
   ]
  },
  {
   "cell_type": "code",
   "execution_count": 46,
   "id": "68e51d41-0223-46df-899f-5c6a81f7d75c",
   "metadata": {},
   "outputs": [
    {
     "data": {
      "text/plain": [
       "np.int64(0)"
      ]
     },
     "execution_count": 46,
     "metadata": {},
     "output_type": "execute_result"
    }
   ],
   "source": [
    "cust_demo['job_industry_category'].isnull().sum()"
   ]
  },
  {
   "cell_type": "code",
   "execution_count": 47,
   "id": "0d8a5819-8235-418e-af39-a9d6d3d92552",
   "metadata": {},
   "outputs": [
    {
     "data": {
      "text/plain": [
       "customer_id                            0\n",
       "first_name                             0\n",
       "last_name                              0\n",
       "gender                                 0\n",
       "past_3_years_bike_related_purchases    0\n",
       "DOB                                    0\n",
       "job_title                              0\n",
       "job_industry_category                  0\n",
       "wealth_segment                         0\n",
       "deceased_indicator                     0\n",
       "owns_car                               0\n",
       "tenure                                 0\n",
       "age                                    0\n",
       "dtype: int64"
      ]
     },
     "execution_count": 47,
     "metadata": {},
     "output_type": "execute_result"
    }
   ],
   "source": [
    "cust_demo.isnull().sum()"
   ]
  },
  {
   "cell_type": "markdown",
   "id": "604dfdfc-9683-4f82-8ec4-e8b2285f960e",
   "metadata": {},
   "source": [
    "**There is no missing value**"
   ]
  },
  {
   "cell_type": "markdown",
   "id": "dbda39b6-880c-4ad0-a095-634436d85321",
   "metadata": {},
   "source": [
    "## 3. Inconsistency Check in Data\n",
    "We will check whether there is inconsistent data / typo error data is present in the categorical columns.\n",
    "\n",
    "The columns to be checked are **'gender', 'wealth_segment' ,'deceased_indicator', 'owns_car'**"
   ]
  },
  {
   "cell_type": "markdown",
   "id": "53d65896-0ab7-45c4-9cc9-8d7fab89d3bf",
   "metadata": {},
   "source": [
    "## Gender"
   ]
  },
  {
   "cell_type": "code",
   "execution_count": 48,
   "id": "2a8a3727-31ca-42c1-bac8-bcfe23ea07de",
   "metadata": {},
   "outputs": [
    {
     "data": {
      "text/plain": [
       "gender\n",
       "Female    2037\n",
       "Male      1872\n",
       "F            1\n",
       "Femal        1\n",
       "M            1\n",
       "Name: count, dtype: int64"
      ]
     },
     "execution_count": 48,
     "metadata": {},
     "output_type": "execute_result"
    }
   ],
   "source": [
    "cust_demo['gender'].value_counts()"
   ]
  },
  {
   "cell_type": "code",
   "execution_count": 49,
   "id": "8b339ee3-c7eb-425c-8869-3d9a04ace976",
   "metadata": {},
   "outputs": [],
   "source": [
    "# replacing values\n",
    "\n",
    "cust_demo['gender'] = cust_demo['gender'].replace('F', 'Female').replace('M', 'Male').replace('Femal', 'Female')"
   ]
  },
  {
   "cell_type": "code",
   "execution_count": 50,
   "id": "2625c702-d18e-475c-b3c1-166df35e7a96",
   "metadata": {},
   "outputs": [
    {
     "data": {
      "text/plain": [
       "gender\n",
       "Female    2039\n",
       "Male      1873\n",
       "Name: count, dtype: int64"
      ]
     },
     "execution_count": 50,
     "metadata": {},
     "output_type": "execute_result"
    }
   ],
   "source": [
    "cust_demo['gender'].value_counts()"
   ]
  },
  {
   "cell_type": "markdown",
   "id": "0bdab8b8-4acc-4be7-8552-6ba8bf88b4bf",
   "metadata": {},
   "source": [
    "## Wealth Segment"
   ]
  },
  {
   "cell_type": "code",
   "execution_count": 51,
   "id": "9b8e7f23-a7f7-4e03-9986-d59b6f1a71a4",
   "metadata": {},
   "outputs": [
    {
     "data": {
      "text/plain": [
       "wealth_segment\n",
       "Mass Customer        1954\n",
       "High Net Worth        996\n",
       "Affluent Customer     962\n",
       "Name: count, dtype: int64"
      ]
     },
     "execution_count": 51,
     "metadata": {},
     "output_type": "execute_result"
    }
   ],
   "source": [
    "# checking for wealth_segment\n",
    "cust_demo['wealth_segment'].value_counts()"
   ]
  },
  {
   "cell_type": "markdown",
   "id": "46dedcb1-9648-4269-b9b6-8019b5d388da",
   "metadata": {},
   "source": [
    "There is no Inconsistency"
   ]
  },
  {
   "cell_type": "markdown",
   "id": "948f215d-3ca8-4e1f-9f60-e189ed7ea936",
   "metadata": {},
   "source": [
    "## Deceased Indicator"
   ]
  },
  {
   "cell_type": "code",
   "execution_count": 52,
   "id": "aae7b372-c644-46b9-b71c-146eaad874f9",
   "metadata": {},
   "outputs": [
    {
     "data": {
      "text/plain": [
       "deceased_indicator\n",
       "N    3910\n",
       "Y       2\n",
       "Name: count, dtype: int64"
      ]
     },
     "execution_count": 52,
     "metadata": {},
     "output_type": "execute_result"
    }
   ],
   "source": [
    "cust_demo['deceased_indicator'].value_counts()"
   ]
  },
  {
   "cell_type": "markdown",
   "id": "53b2f246-f6c6-4958-b70a-5f92cb02efc6",
   "metadata": {},
   "source": [
    "## Owns a Car"
   ]
  },
  {
   "cell_type": "code",
   "execution_count": 53,
   "id": "5f509bda-3e89-4655-99ea-086e77371bb3",
   "metadata": {},
   "outputs": [
    {
     "data": {
      "text/plain": [
       "owns_car\n",
       "Yes    1974\n",
       "No     1938\n",
       "Name: count, dtype: int64"
      ]
     },
     "execution_count": 53,
     "metadata": {},
     "output_type": "execute_result"
    }
   ],
   "source": [
    "cust_demo['owns_car'].value_counts()"
   ]
  },
  {
   "cell_type": "markdown",
   "id": "668b8d16-8bb3-4301-aef1-f8f7c39ad8b2",
   "metadata": {},
   "source": [
    "### Checking for duplicated row"
   ]
  },
  {
   "cell_type": "code",
   "execution_count": 54,
   "id": "e791f536-2cc3-4452-ab89-7bbe8d2a1fa4",
   "metadata": {},
   "outputs": [
    {
     "data": {
      "text/plain": [
       "np.int64(0)"
      ]
     },
     "execution_count": 54,
     "metadata": {},
     "output_type": "execute_result"
    }
   ],
   "source": [
    "cust_demo.duplicated().sum()"
   ]
  },
  {
   "cell_type": "markdown",
   "id": "ce36c912-2247-424c-9d1e-76d1f0e8fd24",
   "metadata": {},
   "source": [
    "## Exporting the Cleaned Customer Demographic Data Set to csv"
   ]
  },
  {
   "cell_type": "code",
   "execution_count": 55,
   "id": "f82a7ea4-100b-4dcd-bbc8-0a1775c7fc0b",
   "metadata": {},
   "outputs": [],
   "source": [
    "cust_demo.to_csv('CustomerDemographic_Cleaned.csv', index = False)"
   ]
  },
  {
   "cell_type": "markdown",
   "id": "f2ecadf8-d234-4722-ab98-c0591244fb44",
   "metadata": {},
   "source": [
    "## ------------------------------------------------- END -------------------------------------------------------"
   ]
  },
  {
   "cell_type": "markdown",
   "id": "05df507b-2f92-47cf-998e-25872783aa98",
   "metadata": {},
   "source": [
    "# New Customer"
   ]
  },
  {
   "cell_type": "code",
   "execution_count": 56,
   "id": "9e25792c-cb2c-4c05-876b-cca98c733379",
   "metadata": {},
   "outputs": [],
   "source": [
    "# Loading the New Customer Data from the excel file\n",
    "\n",
    "new_customer = pd.read_excel('Raw_data.xlsx' , sheet_name='NewCustomerList')"
   ]
  },
  {
   "cell_type": "code",
   "execution_count": 57,
   "id": "c83cbb09-f791-4ca6-8bd9-6d05958b76e3",
   "metadata": {},
   "outputs": [
    {
     "data": {
      "text/html": [
       "<div>\n",
       "<style scoped>\n",
       "    .dataframe tbody tr th:only-of-type {\n",
       "        vertical-align: middle;\n",
       "    }\n",
       "\n",
       "    .dataframe tbody tr th {\n",
       "        vertical-align: top;\n",
       "    }\n",
       "\n",
       "    .dataframe thead th {\n",
       "        text-align: right;\n",
       "    }\n",
       "</style>\n",
       "<table border=\"1\" class=\"dataframe\">\n",
       "  <thead>\n",
       "    <tr style=\"text-align: right;\">\n",
       "      <th></th>\n",
       "      <th>first_name</th>\n",
       "      <th>last_name</th>\n",
       "      <th>gender</th>\n",
       "      <th>past_3_years_bike_related_purchases</th>\n",
       "      <th>DOB</th>\n",
       "      <th>job_title</th>\n",
       "      <th>job_industry_category</th>\n",
       "      <th>wealth_segment</th>\n",
       "      <th>deceased_indicator</th>\n",
       "      <th>owns_car</th>\n",
       "      <th>...</th>\n",
       "      <th>state</th>\n",
       "      <th>country</th>\n",
       "      <th>property_valuation</th>\n",
       "      <th>Unnamed: 16</th>\n",
       "      <th>Unnamed: 17</th>\n",
       "      <th>Unnamed: 18</th>\n",
       "      <th>Unnamed: 19</th>\n",
       "      <th>Unnamed: 20</th>\n",
       "      <th>Rank</th>\n",
       "      <th>Value</th>\n",
       "    </tr>\n",
       "  </thead>\n",
       "  <tbody>\n",
       "    <tr>\n",
       "      <th>0</th>\n",
       "      <td>Chickie</td>\n",
       "      <td>Brister</td>\n",
       "      <td>Male</td>\n",
       "      <td>86</td>\n",
       "      <td>1957-07-12</td>\n",
       "      <td>General Manager</td>\n",
       "      <td>Manufacturing</td>\n",
       "      <td>Mass Customer</td>\n",
       "      <td>N</td>\n",
       "      <td>Yes</td>\n",
       "      <td>...</td>\n",
       "      <td>QLD</td>\n",
       "      <td>Australia</td>\n",
       "      <td>6</td>\n",
       "      <td>0.81</td>\n",
       "      <td>1.0125</td>\n",
       "      <td>1.265625</td>\n",
       "      <td>1.075781</td>\n",
       "      <td>1</td>\n",
       "      <td>1</td>\n",
       "      <td>1.718750</td>\n",
       "    </tr>\n",
       "    <tr>\n",
       "      <th>1</th>\n",
       "      <td>Morly</td>\n",
       "      <td>Genery</td>\n",
       "      <td>Male</td>\n",
       "      <td>69</td>\n",
       "      <td>1970-03-22</td>\n",
       "      <td>Structural Engineer</td>\n",
       "      <td>Property</td>\n",
       "      <td>Mass Customer</td>\n",
       "      <td>N</td>\n",
       "      <td>No</td>\n",
       "      <td>...</td>\n",
       "      <td>NSW</td>\n",
       "      <td>Australia</td>\n",
       "      <td>11</td>\n",
       "      <td>0.75</td>\n",
       "      <td>0.7500</td>\n",
       "      <td>0.937500</td>\n",
       "      <td>0.796875</td>\n",
       "      <td>1</td>\n",
       "      <td>1</td>\n",
       "      <td>1.718750</td>\n",
       "    </tr>\n",
       "    <tr>\n",
       "      <th>2</th>\n",
       "      <td>Ardelis</td>\n",
       "      <td>Forrester</td>\n",
       "      <td>Female</td>\n",
       "      <td>10</td>\n",
       "      <td>1974-08-28 00:00:00</td>\n",
       "      <td>Senior Cost Accountant</td>\n",
       "      <td>Financial Services</td>\n",
       "      <td>Affluent Customer</td>\n",
       "      <td>N</td>\n",
       "      <td>No</td>\n",
       "      <td>...</td>\n",
       "      <td>VIC</td>\n",
       "      <td>Australia</td>\n",
       "      <td>5</td>\n",
       "      <td>0.71</td>\n",
       "      <td>0.7100</td>\n",
       "      <td>0.710000</td>\n",
       "      <td>0.710000</td>\n",
       "      <td>1</td>\n",
       "      <td>1</td>\n",
       "      <td>1.718750</td>\n",
       "    </tr>\n",
       "    <tr>\n",
       "      <th>3</th>\n",
       "      <td>Lucine</td>\n",
       "      <td>Stutt</td>\n",
       "      <td>Female</td>\n",
       "      <td>64</td>\n",
       "      <td>1979-01-28</td>\n",
       "      <td>Account Representative III</td>\n",
       "      <td>Manufacturing</td>\n",
       "      <td>Affluent Customer</td>\n",
       "      <td>N</td>\n",
       "      <td>Yes</td>\n",
       "      <td>...</td>\n",
       "      <td>QLD</td>\n",
       "      <td>Australia</td>\n",
       "      <td>1</td>\n",
       "      <td>0.50</td>\n",
       "      <td>0.6250</td>\n",
       "      <td>0.625000</td>\n",
       "      <td>0.625000</td>\n",
       "      <td>4</td>\n",
       "      <td>4</td>\n",
       "      <td>1.703125</td>\n",
       "    </tr>\n",
       "    <tr>\n",
       "      <th>4</th>\n",
       "      <td>Melinda</td>\n",
       "      <td>Hadlee</td>\n",
       "      <td>Female</td>\n",
       "      <td>34</td>\n",
       "      <td>1965-09-21</td>\n",
       "      <td>Financial Analyst</td>\n",
       "      <td>Financial Services</td>\n",
       "      <td>Affluent Customer</td>\n",
       "      <td>N</td>\n",
       "      <td>No</td>\n",
       "      <td>...</td>\n",
       "      <td>NSW</td>\n",
       "      <td>Australia</td>\n",
       "      <td>9</td>\n",
       "      <td>0.99</td>\n",
       "      <td>0.9900</td>\n",
       "      <td>1.237500</td>\n",
       "      <td>1.237500</td>\n",
       "      <td>4</td>\n",
       "      <td>4</td>\n",
       "      <td>1.703125</td>\n",
       "    </tr>\n",
       "  </tbody>\n",
       "</table>\n",
       "<p>5 rows × 23 columns</p>\n",
       "</div>"
      ],
      "text/plain": [
       "  first_name  last_name  gender  past_3_years_bike_related_purchases  \\\n",
       "0    Chickie    Brister    Male                                   86   \n",
       "1      Morly     Genery    Male                                   69   \n",
       "2    Ardelis  Forrester  Female                                   10   \n",
       "3     Lucine      Stutt  Female                                   64   \n",
       "4    Melinda     Hadlee  Female                                   34   \n",
       "\n",
       "                   DOB                   job_title job_industry_category  \\\n",
       "0           1957-07-12             General Manager         Manufacturing   \n",
       "1           1970-03-22         Structural Engineer              Property   \n",
       "2  1974-08-28 00:00:00      Senior Cost Accountant    Financial Services   \n",
       "3           1979-01-28  Account Representative III         Manufacturing   \n",
       "4           1965-09-21           Financial Analyst    Financial Services   \n",
       "\n",
       "      wealth_segment deceased_indicator owns_car  ...  state    country  \\\n",
       "0      Mass Customer                  N      Yes  ...    QLD  Australia   \n",
       "1      Mass Customer                  N       No  ...    NSW  Australia   \n",
       "2  Affluent Customer                  N       No  ...    VIC  Australia   \n",
       "3  Affluent Customer                  N      Yes  ...    QLD  Australia   \n",
       "4  Affluent Customer                  N       No  ...    NSW  Australia   \n",
       "\n",
       "   property_valuation Unnamed: 16 Unnamed: 17  Unnamed: 18  Unnamed: 19  \\\n",
       "0                   6        0.81      1.0125     1.265625     1.075781   \n",
       "1                  11        0.75      0.7500     0.937500     0.796875   \n",
       "2                   5        0.71      0.7100     0.710000     0.710000   \n",
       "3                   1        0.50      0.6250     0.625000     0.625000   \n",
       "4                   9        0.99      0.9900     1.237500     1.237500   \n",
       "\n",
       "   Unnamed: 20  Rank     Value  \n",
       "0            1     1  1.718750  \n",
       "1            1     1  1.718750  \n",
       "2            1     1  1.718750  \n",
       "3            4     4  1.703125  \n",
       "4            4     4  1.703125  \n",
       "\n",
       "[5 rows x 23 columns]"
      ]
     },
     "execution_count": 57,
     "metadata": {},
     "output_type": "execute_result"
    }
   ],
   "source": [
    "new_customer.head()"
   ]
  },
  {
   "cell_type": "code",
   "execution_count": 58,
   "id": "7385d481-4c60-4547-af01-87d733590242",
   "metadata": {},
   "outputs": [
    {
     "data": {
      "text/plain": [
       "first_name                               0\n",
       "last_name                               29\n",
       "gender                                   0\n",
       "past_3_years_bike_related_purchases      0\n",
       "DOB                                     17\n",
       "job_title                              106\n",
       "job_industry_category                  165\n",
       "wealth_segment                           0\n",
       "deceased_indicator                       0\n",
       "owns_car                                 0\n",
       "tenure                                   0\n",
       "address                                  0\n",
       "postcode                                 0\n",
       "state                                    0\n",
       "country                                  0\n",
       "property_valuation                       0\n",
       "Unnamed: 16                              0\n",
       "Unnamed: 17                              0\n",
       "Unnamed: 18                              0\n",
       "Unnamed: 19                              0\n",
       "Unnamed: 20                              0\n",
       "Rank                                     0\n",
       "Value                                    0\n",
       "dtype: int64"
      ]
     },
     "execution_count": 58,
     "metadata": {},
     "output_type": "execute_result"
    }
   ],
   "source": [
    "new_customer.isnull().sum()"
   ]
  },
  {
   "cell_type": "markdown",
   "id": "bc5173fd-b3e6-47f7-ba39-565dc66326f9",
   "metadata": {},
   "source": [
    "## 1. Dropping Irrelevent Columns"
   ]
  },
  {
   "cell_type": "code",
   "execution_count": 59,
   "id": "53bd3f2a-702d-4d10-9ead-02d9a3ec36f0",
   "metadata": {},
   "outputs": [],
   "source": [
    "# droping unwanted column\n",
    "\n",
    "new_customer.drop(columns = ['Unnamed: 16', 'Unnamed: 17', 'Unnamed: 18', 'Unnamed: 19', 'Unnamed: 20'], axis = 1, inplace = True)"
   ]
  },
  {
   "cell_type": "code",
   "execution_count": 60,
   "id": "1ce0ec70-81a7-4132-82f0-bf7c9a0030ae",
   "metadata": {},
   "outputs": [
    {
     "data": {
      "text/plain": [
       "first_name                               0\n",
       "last_name                               29\n",
       "gender                                   0\n",
       "past_3_years_bike_related_purchases      0\n",
       "DOB                                     17\n",
       "job_title                              106\n",
       "job_industry_category                  165\n",
       "wealth_segment                           0\n",
       "deceased_indicator                       0\n",
       "owns_car                                 0\n",
       "tenure                                   0\n",
       "address                                  0\n",
       "postcode                                 0\n",
       "state                                    0\n",
       "country                                  0\n",
       "property_valuation                       0\n",
       "Rank                                     0\n",
       "Value                                    0\n",
       "dtype: int64"
      ]
     },
     "execution_count": 60,
     "metadata": {},
     "output_type": "execute_result"
    }
   ],
   "source": [
    "new_customer.isnull().sum()"
   ]
  },
  {
   "cell_type": "markdown",
   "id": "f6c8f14f-22d6-4f39-ae9e-4d04a49ea444",
   "metadata": {},
   "source": [
    "## 2. Missing Values Check"
   ]
  },
  {
   "cell_type": "markdown",
   "id": "4386d74b-12d3-4fe1-bfca-f1261d0a75d0",
   "metadata": {},
   "source": [
    "#### Last Name"
   ]
  },
  {
   "cell_type": "code",
   "execution_count": 61,
   "id": "906dffb5-2039-4861-9ae8-14c6db321b18",
   "metadata": {},
   "outputs": [
    {
     "data": {
      "text/plain": [
       "np.int64(29)"
      ]
     },
     "execution_count": 61,
     "metadata": {},
     "output_type": "execute_result"
    }
   ],
   "source": [
    "# checking for null value\n",
    "\n",
    "new_customer['last_name'].isnull().sum()"
   ]
  },
  {
   "cell_type": "code",
   "execution_count": 62,
   "id": "b35e24a0-a019-40ef-91c1-9a490a7c05f4",
   "metadata": {},
   "outputs": [
    {
     "name": "stderr",
     "output_type": "stream",
     "text": [
      "C:\\Users\\Bhask\\AppData\\Local\\Temp\\ipykernel_15380\\2784317267.py:3: FutureWarning: A value is trying to be set on a copy of a DataFrame or Series through chained assignment using an inplace method.\n",
      "The behavior will change in pandas 3.0. This inplace method will never work because the intermediate object on which we are setting values always behaves as a copy.\n",
      "\n",
      "For example, when doing 'df[col].method(value, inplace=True)', try using 'df.method({col: value}, inplace=True)' or df[col] = df[col].method(value) instead, to perform the operation inplace on the original object.\n",
      "\n",
      "\n",
      "  new_customer['last_name'].fillna('None', axis = 0, inplace = True)\n"
     ]
    }
   ],
   "source": [
    "# replacing null value with None\n",
    "\n",
    "new_customer['last_name'].fillna('None', axis = 0, inplace = True)"
   ]
  },
  {
   "cell_type": "code",
   "execution_count": 63,
   "id": "eddef790-88be-4bfb-a307-ff464b436389",
   "metadata": {},
   "outputs": [
    {
     "data": {
      "text/plain": [
       "np.int64(0)"
      ]
     },
     "execution_count": 63,
     "metadata": {},
     "output_type": "execute_result"
    }
   ],
   "source": [
    "new_customer['last_name'].isnull().sum()"
   ]
  },
  {
   "cell_type": "markdown",
   "id": "8f9ea27b-fd59-4c14-bfc7-063c9224a638",
   "metadata": {},
   "source": [
    "## Date of Birth"
   ]
  },
  {
   "cell_type": "code",
   "execution_count": 64,
   "id": "5884ab24-1c80-4dbf-99e9-08411456eb4d",
   "metadata": {},
   "outputs": [
    {
     "data": {
      "text/plain": [
       "np.int64(17)"
      ]
     },
     "execution_count": 64,
     "metadata": {},
     "output_type": "execute_result"
    }
   ],
   "source": [
    "# checking for null value\n",
    "\n",
    "new_customer['DOB'].isnull().sum()"
   ]
  },
  {
   "cell_type": "code",
   "execution_count": 65,
   "id": "ec59ee2e-88cc-4957-96bf-5a1216a5654d",
   "metadata": {},
   "outputs": [
    {
     "data": {
      "text/html": [
       "<div>\n",
       "<style scoped>\n",
       "    .dataframe tbody tr th:only-of-type {\n",
       "        vertical-align: middle;\n",
       "    }\n",
       "\n",
       "    .dataframe tbody tr th {\n",
       "        vertical-align: top;\n",
       "    }\n",
       "\n",
       "    .dataframe thead th {\n",
       "        text-align: right;\n",
       "    }\n",
       "</style>\n",
       "<table border=\"1\" class=\"dataframe\">\n",
       "  <thead>\n",
       "    <tr style=\"text-align: right;\">\n",
       "      <th></th>\n",
       "      <th>first_name</th>\n",
       "      <th>last_name</th>\n",
       "      <th>gender</th>\n",
       "      <th>past_3_years_bike_related_purchases</th>\n",
       "      <th>DOB</th>\n",
       "      <th>job_title</th>\n",
       "      <th>job_industry_category</th>\n",
       "      <th>wealth_segment</th>\n",
       "      <th>deceased_indicator</th>\n",
       "      <th>owns_car</th>\n",
       "      <th>tenure</th>\n",
       "      <th>address</th>\n",
       "      <th>postcode</th>\n",
       "      <th>state</th>\n",
       "      <th>country</th>\n",
       "      <th>property_valuation</th>\n",
       "      <th>Rank</th>\n",
       "      <th>Value</th>\n",
       "    </tr>\n",
       "  </thead>\n",
       "  <tbody>\n",
       "    <tr>\n",
       "      <th>59</th>\n",
       "      <td>Normy</td>\n",
       "      <td>Goodinge</td>\n",
       "      <td>U</td>\n",
       "      <td>5</td>\n",
       "      <td>NaN</td>\n",
       "      <td>Associate Professor</td>\n",
       "      <td>IT</td>\n",
       "      <td>Mass Customer</td>\n",
       "      <td>N</td>\n",
       "      <td>No</td>\n",
       "      <td>4</td>\n",
       "      <td>7232 Fulton Parkway</td>\n",
       "      <td>3810</td>\n",
       "      <td>VIC</td>\n",
       "      <td>Australia</td>\n",
       "      <td>5</td>\n",
       "      <td>57</td>\n",
       "      <td>1.375000</td>\n",
       "    </tr>\n",
       "    <tr>\n",
       "      <th>226</th>\n",
       "      <td>Hatti</td>\n",
       "      <td>Carletti</td>\n",
       "      <td>U</td>\n",
       "      <td>35</td>\n",
       "      <td>NaN</td>\n",
       "      <td>Legal Assistant</td>\n",
       "      <td>IT</td>\n",
       "      <td>Affluent Customer</td>\n",
       "      <td>N</td>\n",
       "      <td>Yes</td>\n",
       "      <td>11</td>\n",
       "      <td>6 Iowa Center</td>\n",
       "      <td>2519</td>\n",
       "      <td>NSW</td>\n",
       "      <td>Australia</td>\n",
       "      <td>9</td>\n",
       "      <td>226</td>\n",
       "      <td>1.112500</td>\n",
       "    </tr>\n",
       "    <tr>\n",
       "      <th>324</th>\n",
       "      <td>Rozamond</td>\n",
       "      <td>Turtle</td>\n",
       "      <td>U</td>\n",
       "      <td>69</td>\n",
       "      <td>NaN</td>\n",
       "      <td>Legal Assistant</td>\n",
       "      <td>IT</td>\n",
       "      <td>Mass Customer</td>\n",
       "      <td>N</td>\n",
       "      <td>Yes</td>\n",
       "      <td>3</td>\n",
       "      <td>57025 New Castle Street</td>\n",
       "      <td>3850</td>\n",
       "      <td>VIC</td>\n",
       "      <td>Australia</td>\n",
       "      <td>3</td>\n",
       "      <td>324</td>\n",
       "      <td>1.010000</td>\n",
       "    </tr>\n",
       "    <tr>\n",
       "      <th>358</th>\n",
       "      <td>Tamas</td>\n",
       "      <td>Swatman</td>\n",
       "      <td>U</td>\n",
       "      <td>65</td>\n",
       "      <td>NaN</td>\n",
       "      <td>Assistant Media Planner</td>\n",
       "      <td>Entertainment</td>\n",
       "      <td>Affluent Customer</td>\n",
       "      <td>N</td>\n",
       "      <td>No</td>\n",
       "      <td>5</td>\n",
       "      <td>78 Clarendon Drive</td>\n",
       "      <td>4551</td>\n",
       "      <td>QLD</td>\n",
       "      <td>Australia</td>\n",
       "      <td>8</td>\n",
       "      <td>358</td>\n",
       "      <td>0.980000</td>\n",
       "    </tr>\n",
       "    <tr>\n",
       "      <th>360</th>\n",
       "      <td>Tracy</td>\n",
       "      <td>Andrejevic</td>\n",
       "      <td>U</td>\n",
       "      <td>71</td>\n",
       "      <td>NaN</td>\n",
       "      <td>Programmer II</td>\n",
       "      <td>IT</td>\n",
       "      <td>Mass Customer</td>\n",
       "      <td>N</td>\n",
       "      <td>Yes</td>\n",
       "      <td>11</td>\n",
       "      <td>5675 Burning Wood Trail</td>\n",
       "      <td>3030</td>\n",
       "      <td>VIC</td>\n",
       "      <td>Australia</td>\n",
       "      <td>7</td>\n",
       "      <td>361</td>\n",
       "      <td>0.977500</td>\n",
       "    </tr>\n",
       "    <tr>\n",
       "      <th>374</th>\n",
       "      <td>Agneta</td>\n",
       "      <td>McAmish</td>\n",
       "      <td>U</td>\n",
       "      <td>66</td>\n",
       "      <td>NaN</td>\n",
       "      <td>Structural Analysis Engineer</td>\n",
       "      <td>IT</td>\n",
       "      <td>Mass Customer</td>\n",
       "      <td>N</td>\n",
       "      <td>No</td>\n",
       "      <td>15</td>\n",
       "      <td>5773 Acker Way</td>\n",
       "      <td>4207</td>\n",
       "      <td>QLD</td>\n",
       "      <td>Australia</td>\n",
       "      <td>6</td>\n",
       "      <td>375</td>\n",
       "      <td>0.960000</td>\n",
       "    </tr>\n",
       "    <tr>\n",
       "      <th>434</th>\n",
       "      <td>Gregg</td>\n",
       "      <td>Aimeric</td>\n",
       "      <td>U</td>\n",
       "      <td>52</td>\n",
       "      <td>NaN</td>\n",
       "      <td>Internal Auditor</td>\n",
       "      <td>IT</td>\n",
       "      <td>Mass Customer</td>\n",
       "      <td>N</td>\n",
       "      <td>No</td>\n",
       "      <td>7</td>\n",
       "      <td>72423 Surrey Street</td>\n",
       "      <td>3753</td>\n",
       "      <td>VIC</td>\n",
       "      <td>Australia</td>\n",
       "      <td>5</td>\n",
       "      <td>433</td>\n",
       "      <td>0.906250</td>\n",
       "    </tr>\n",
       "    <tr>\n",
       "      <th>439</th>\n",
       "      <td>Johna</td>\n",
       "      <td>Bunker</td>\n",
       "      <td>U</td>\n",
       "      <td>93</td>\n",
       "      <td>NaN</td>\n",
       "      <td>Tax Accountant</td>\n",
       "      <td>IT</td>\n",
       "      <td>Mass Customer</td>\n",
       "      <td>N</td>\n",
       "      <td>Yes</td>\n",
       "      <td>14</td>\n",
       "      <td>3686 Waubesa Way</td>\n",
       "      <td>3065</td>\n",
       "      <td>VIC</td>\n",
       "      <td>Australia</td>\n",
       "      <td>6</td>\n",
       "      <td>436</td>\n",
       "      <td>0.903125</td>\n",
       "    </tr>\n",
       "    <tr>\n",
       "      <th>574</th>\n",
       "      <td>Harlene</td>\n",
       "      <td>Nono</td>\n",
       "      <td>U</td>\n",
       "      <td>69</td>\n",
       "      <td>NaN</td>\n",
       "      <td>Human Resources Manager</td>\n",
       "      <td>IT</td>\n",
       "      <td>Mass Customer</td>\n",
       "      <td>N</td>\n",
       "      <td>No</td>\n",
       "      <td>12</td>\n",
       "      <td>0307 Namekagon Crossing</td>\n",
       "      <td>2170</td>\n",
       "      <td>NSW</td>\n",
       "      <td>Australia</td>\n",
       "      <td>7</td>\n",
       "      <td>575</td>\n",
       "      <td>0.796875</td>\n",
       "    </tr>\n",
       "    <tr>\n",
       "      <th>598</th>\n",
       "      <td>Gerianne</td>\n",
       "      <td>Kaysor</td>\n",
       "      <td>U</td>\n",
       "      <td>15</td>\n",
       "      <td>NaN</td>\n",
       "      <td>Project Manager</td>\n",
       "      <td>IT</td>\n",
       "      <td>Affluent Customer</td>\n",
       "      <td>N</td>\n",
       "      <td>No</td>\n",
       "      <td>5</td>\n",
       "      <td>882 Toban Lane</td>\n",
       "      <td>2121</td>\n",
       "      <td>NSW</td>\n",
       "      <td>Australia</td>\n",
       "      <td>11</td>\n",
       "      <td>599</td>\n",
       "      <td>0.775000</td>\n",
       "    </tr>\n",
       "    <tr>\n",
       "      <th>664</th>\n",
       "      <td>Chicky</td>\n",
       "      <td>Sinclar</td>\n",
       "      <td>U</td>\n",
       "      <td>43</td>\n",
       "      <td>NaN</td>\n",
       "      <td>Operator</td>\n",
       "      <td>IT</td>\n",
       "      <td>High Net Worth</td>\n",
       "      <td>N</td>\n",
       "      <td>Yes</td>\n",
       "      <td>0</td>\n",
       "      <td>5 Red Cloud Place</td>\n",
       "      <td>3222</td>\n",
       "      <td>VIC</td>\n",
       "      <td>Australia</td>\n",
       "      <td>4</td>\n",
       "      <td>662</td>\n",
       "      <td>0.711875</td>\n",
       "    </tr>\n",
       "    <tr>\n",
       "      <th>751</th>\n",
       "      <td>Adriana</td>\n",
       "      <td>Saundercock</td>\n",
       "      <td>U</td>\n",
       "      <td>20</td>\n",
       "      <td>NaN</td>\n",
       "      <td>Nurse</td>\n",
       "      <td>IT</td>\n",
       "      <td>High Net Worth</td>\n",
       "      <td>N</td>\n",
       "      <td>Yes</td>\n",
       "      <td>14</td>\n",
       "      <td>82 Gina Junction</td>\n",
       "      <td>3806</td>\n",
       "      <td>VIC</td>\n",
       "      <td>Australia</td>\n",
       "      <td>7</td>\n",
       "      <td>751</td>\n",
       "      <td>0.648125</td>\n",
       "    </tr>\n",
       "    <tr>\n",
       "      <th>775</th>\n",
       "      <td>Dmitri</td>\n",
       "      <td>Viant</td>\n",
       "      <td>U</td>\n",
       "      <td>62</td>\n",
       "      <td>NaN</td>\n",
       "      <td>Paralegal</td>\n",
       "      <td>Financial Services</td>\n",
       "      <td>Affluent Customer</td>\n",
       "      <td>N</td>\n",
       "      <td>No</td>\n",
       "      <td>5</td>\n",
       "      <td>95960 Warner Parkway</td>\n",
       "      <td>3842</td>\n",
       "      <td>VIC</td>\n",
       "      <td>Australia</td>\n",
       "      <td>1</td>\n",
       "      <td>774</td>\n",
       "      <td>0.626875</td>\n",
       "    </tr>\n",
       "    <tr>\n",
       "      <th>835</th>\n",
       "      <td>Porty</td>\n",
       "      <td>Hansed</td>\n",
       "      <td>U</td>\n",
       "      <td>88</td>\n",
       "      <td>NaN</td>\n",
       "      <td>General Manager</td>\n",
       "      <td>IT</td>\n",
       "      <td>Mass Customer</td>\n",
       "      <td>N</td>\n",
       "      <td>No</td>\n",
       "      <td>13</td>\n",
       "      <td>768 Southridge Drive</td>\n",
       "      <td>2112</td>\n",
       "      <td>NSW</td>\n",
       "      <td>Australia</td>\n",
       "      <td>11</td>\n",
       "      <td>832</td>\n",
       "      <td>0.575000</td>\n",
       "    </tr>\n",
       "    <tr>\n",
       "      <th>883</th>\n",
       "      <td>Shara</td>\n",
       "      <td>Bramhill</td>\n",
       "      <td>U</td>\n",
       "      <td>24</td>\n",
       "      <td>NaN</td>\n",
       "      <td>NaN</td>\n",
       "      <td>IT</td>\n",
       "      <td>Affluent Customer</td>\n",
       "      <td>N</td>\n",
       "      <td>No</td>\n",
       "      <td>2</td>\n",
       "      <td>01 Bunker Hill Drive</td>\n",
       "      <td>2230</td>\n",
       "      <td>NSW</td>\n",
       "      <td>Australia</td>\n",
       "      <td>10</td>\n",
       "      <td>883</td>\n",
       "      <td>0.531250</td>\n",
       "    </tr>\n",
       "    <tr>\n",
       "      <th>904</th>\n",
       "      <td>Roth</td>\n",
       "      <td>Crum</td>\n",
       "      <td>U</td>\n",
       "      <td>0</td>\n",
       "      <td>NaN</td>\n",
       "      <td>Legal Assistant</td>\n",
       "      <td>IT</td>\n",
       "      <td>Mass Customer</td>\n",
       "      <td>N</td>\n",
       "      <td>No</td>\n",
       "      <td>2</td>\n",
       "      <td>276 Anthes Court</td>\n",
       "      <td>2450</td>\n",
       "      <td>NSW</td>\n",
       "      <td>Australia</td>\n",
       "      <td>6</td>\n",
       "      <td>904</td>\n",
       "      <td>0.500000</td>\n",
       "    </tr>\n",
       "    <tr>\n",
       "      <th>984</th>\n",
       "      <td>Pauline</td>\n",
       "      <td>Dallosso</td>\n",
       "      <td>U</td>\n",
       "      <td>82</td>\n",
       "      <td>NaN</td>\n",
       "      <td>Desktop Support Technician</td>\n",
       "      <td>IT</td>\n",
       "      <td>Affluent Customer</td>\n",
       "      <td>N</td>\n",
       "      <td>Yes</td>\n",
       "      <td>0</td>\n",
       "      <td>9594 Badeau Street</td>\n",
       "      <td>2050</td>\n",
       "      <td>NSW</td>\n",
       "      <td>Australia</td>\n",
       "      <td>10</td>\n",
       "      <td>985</td>\n",
       "      <td>0.408000</td>\n",
       "    </tr>\n",
       "  </tbody>\n",
       "</table>\n",
       "</div>"
      ],
      "text/plain": [
       "    first_name    last_name gender  past_3_years_bike_related_purchases  DOB  \\\n",
       "59       Normy     Goodinge      U                                    5  NaN   \n",
       "226      Hatti     Carletti      U                                   35  NaN   \n",
       "324   Rozamond       Turtle      U                                   69  NaN   \n",
       "358      Tamas      Swatman      U                                   65  NaN   \n",
       "360      Tracy   Andrejevic      U                                   71  NaN   \n",
       "374     Agneta      McAmish      U                                   66  NaN   \n",
       "434      Gregg      Aimeric      U                                   52  NaN   \n",
       "439      Johna       Bunker      U                                   93  NaN   \n",
       "574    Harlene         Nono      U                                   69  NaN   \n",
       "598   Gerianne       Kaysor      U                                   15  NaN   \n",
       "664     Chicky      Sinclar      U                                   43  NaN   \n",
       "751    Adriana  Saundercock      U                                   20  NaN   \n",
       "775     Dmitri        Viant      U                                   62  NaN   \n",
       "835      Porty       Hansed      U                                   88  NaN   \n",
       "883      Shara     Bramhill      U                                   24  NaN   \n",
       "904       Roth         Crum      U                                    0  NaN   \n",
       "984    Pauline     Dallosso      U                                   82  NaN   \n",
       "\n",
       "                        job_title job_industry_category     wealth_segment  \\\n",
       "59            Associate Professor                    IT      Mass Customer   \n",
       "226               Legal Assistant                    IT  Affluent Customer   \n",
       "324               Legal Assistant                    IT      Mass Customer   \n",
       "358       Assistant Media Planner         Entertainment  Affluent Customer   \n",
       "360                 Programmer II                    IT      Mass Customer   \n",
       "374  Structural Analysis Engineer                    IT      Mass Customer   \n",
       "434              Internal Auditor                    IT      Mass Customer   \n",
       "439                Tax Accountant                    IT      Mass Customer   \n",
       "574       Human Resources Manager                    IT      Mass Customer   \n",
       "598               Project Manager                    IT  Affluent Customer   \n",
       "664                      Operator                    IT     High Net Worth   \n",
       "751                         Nurse                    IT     High Net Worth   \n",
       "775                     Paralegal    Financial Services  Affluent Customer   \n",
       "835               General Manager                    IT      Mass Customer   \n",
       "883                           NaN                    IT  Affluent Customer   \n",
       "904               Legal Assistant                    IT      Mass Customer   \n",
       "984    Desktop Support Technician                    IT  Affluent Customer   \n",
       "\n",
       "    deceased_indicator owns_car  tenure                  address  postcode  \\\n",
       "59                   N       No       4      7232 Fulton Parkway      3810   \n",
       "226                  N      Yes      11            6 Iowa Center      2519   \n",
       "324                  N      Yes       3  57025 New Castle Street      3850   \n",
       "358                  N       No       5       78 Clarendon Drive      4551   \n",
       "360                  N      Yes      11  5675 Burning Wood Trail      3030   \n",
       "374                  N       No      15           5773 Acker Way      4207   \n",
       "434                  N       No       7      72423 Surrey Street      3753   \n",
       "439                  N      Yes      14         3686 Waubesa Way      3065   \n",
       "574                  N       No      12  0307 Namekagon Crossing      2170   \n",
       "598                  N       No       5           882 Toban Lane      2121   \n",
       "664                  N      Yes       0        5 Red Cloud Place      3222   \n",
       "751                  N      Yes      14         82 Gina Junction      3806   \n",
       "775                  N       No       5     95960 Warner Parkway      3842   \n",
       "835                  N       No      13     768 Southridge Drive      2112   \n",
       "883                  N       No       2     01 Bunker Hill Drive      2230   \n",
       "904                  N       No       2         276 Anthes Court      2450   \n",
       "984                  N      Yes       0       9594 Badeau Street      2050   \n",
       "\n",
       "    state    country  property_valuation  Rank     Value  \n",
       "59    VIC  Australia                   5    57  1.375000  \n",
       "226   NSW  Australia                   9   226  1.112500  \n",
       "324   VIC  Australia                   3   324  1.010000  \n",
       "358   QLD  Australia                   8   358  0.980000  \n",
       "360   VIC  Australia                   7   361  0.977500  \n",
       "374   QLD  Australia                   6   375  0.960000  \n",
       "434   VIC  Australia                   5   433  0.906250  \n",
       "439   VIC  Australia                   6   436  0.903125  \n",
       "574   NSW  Australia                   7   575  0.796875  \n",
       "598   NSW  Australia                  11   599  0.775000  \n",
       "664   VIC  Australia                   4   662  0.711875  \n",
       "751   VIC  Australia                   7   751  0.648125  \n",
       "775   VIC  Australia                   1   774  0.626875  \n",
       "835   NSW  Australia                  11   832  0.575000  \n",
       "883   NSW  Australia                  10   883  0.531250  \n",
       "904   NSW  Australia                   6   904  0.500000  \n",
       "984   NSW  Australia                  10   985  0.408000  "
      ]
     },
     "execution_count": 65,
     "metadata": {},
     "output_type": "execute_result"
    }
   ],
   "source": [
    "new_customer[new_customer['DOB'].isnull()]"
   ]
  },
  {
   "cell_type": "code",
   "execution_count": 66,
   "id": "5899e20b-d2d5-4383-9afd-30bb01226c9e",
   "metadata": {},
   "outputs": [],
   "source": [
    "# droping row from date of birth column\n",
    "\n",
    "droping_index = new_customer[new_customer['DOB'].isnull()].index\n",
    "new_customer.drop(index = droping_index, axis = 0, inplace = True)"
   ]
  },
  {
   "cell_type": "code",
   "execution_count": 67,
   "id": "64a157e2-2748-4c2e-b82a-fa46a95baf0b",
   "metadata": {},
   "outputs": [
    {
     "data": {
      "text/plain": [
       "np.int64(0)"
      ]
     },
     "execution_count": 67,
     "metadata": {},
     "output_type": "execute_result"
    }
   ],
   "source": [
    "new_customer['DOB'].isnull().sum()"
   ]
  },
  {
   "cell_type": "markdown",
   "id": "54df0f3c-e43f-4e33-be9d-484797eeee95",
   "metadata": {},
   "source": [
    "## Creating Age Column"
   ]
  },
  {
   "cell_type": "code",
   "execution_count": 68,
   "id": "fad657c3-9603-4550-9e5f-2bf96c4fec9b",
   "metadata": {},
   "outputs": [],
   "source": [
    "# changing date of birth column datatype\n",
    "new_customer['DOB']= pd.to_datetime(new_customer['DOB'])"
   ]
  },
  {
   "cell_type": "code",
   "execution_count": 69,
   "id": "0b6d6986-2c3b-4cca-9e69-90e488fb8d2e",
   "metadata": {},
   "outputs": [
    {
     "data": {
      "text/plain": [
       "dtype('<M8[ns]')"
      ]
     },
     "execution_count": 69,
     "metadata": {},
     "output_type": "execute_result"
    }
   ],
   "source": [
    "new_customer['DOB'].dtypes"
   ]
  },
  {
   "cell_type": "code",
   "execution_count": 70,
   "id": "8a874343-be21-42aa-8f41-db5314541017",
   "metadata": {},
   "outputs": [],
   "source": [
    "# calculating age\n",
    "\n",
    "today = date.today()\n",
    "new_customer['age']= new_customer['DOB'].apply(lambda dob: today.year - dob.year - ((today.month, today.day) < (dob.month, dob.day)))"
   ]
  },
  {
   "cell_type": "code",
   "execution_count": 71,
   "id": "07bd3f8b-b8e6-4139-96f8-df81eca30fa8",
   "metadata": {},
   "outputs": [
    {
     "data": {
      "text/plain": [
       "count    983.000000\n",
       "mean      53.301119\n",
       "std       17.066865\n",
       "min       22.000000\n",
       "25%       41.000000\n",
       "50%       52.000000\n",
       "75%       67.000000\n",
       "max       86.000000\n",
       "Name: age, dtype: float64"
      ]
     },
     "execution_count": 71,
     "metadata": {},
     "output_type": "execute_result"
    }
   ],
   "source": [
    "new_customer['age'].describe()"
   ]
  },
  {
   "cell_type": "markdown",
   "id": "1a0797ee-0888-4591-b52d-1493150150a9",
   "metadata": {},
   "source": [
    "## Creating age group column"
   ]
  },
  {
   "cell_type": "code",
   "execution_count": 72,
   "id": "8c0ba204-fcc1-4880-943c-7ef990bd241f",
   "metadata": {},
   "outputs": [],
   "source": [
    "import math"
   ]
  },
  {
   "cell_type": "code",
   "execution_count": 73,
   "id": "098b100f-9e35-423e-9739-0be714154107",
   "metadata": {},
   "outputs": [],
   "source": [
    "new_customer['age_group'] = new_customer['age'].apply(lambda x : (math.floor(x/10)+1)*10)"
   ]
  },
  {
   "cell_type": "code",
   "execution_count": 74,
   "id": "9b09170b-eab4-4558-9cbc-153fc7659753",
   "metadata": {},
   "outputs": [
    {
     "data": {
      "text/plain": [
       "<Axes: xlabel='age_group', ylabel='Count'>"
      ]
     },
     "execution_count": 74,
     "metadata": {},
     "output_type": "execute_result"
    },
    {
     "data": {
      "image/png": "[encoded data removed]",
      "text/plain": [
       "<Figure size 640x480 with 1 Axes>"
      ]
     },
     "metadata": {},
     "output_type": "display_data"
    }
   ],
   "source": [
    "sns.histplot(data = new_customer, x= 'age_group')"
   ]
  },
  {
   "cell_type": "code",
   "execution_count": 75,
   "id": "e2092acb-f596-43b8-b54f-4b70b12a4005",
   "metadata": {},
   "outputs": [
    {
     "data": {
      "text/html": [
       "<div>\n",
       "<style scoped>\n",
       "    .dataframe tbody tr th:only-of-type {\n",
       "        vertical-align: middle;\n",
       "    }\n",
       "\n",
       "    .dataframe tbody tr th {\n",
       "        vertical-align: top;\n",
       "    }\n",
       "\n",
       "    .dataframe thead th {\n",
       "        text-align: right;\n",
       "    }\n",
       "</style>\n",
       "<table border=\"1\" class=\"dataframe\">\n",
       "  <thead>\n",
       "    <tr style=\"text-align: right;\">\n",
       "      <th></th>\n",
       "      <th>first_name</th>\n",
       "      <th>last_name</th>\n",
       "      <th>gender</th>\n",
       "      <th>past_3_years_bike_related_purchases</th>\n",
       "      <th>DOB</th>\n",
       "      <th>job_title</th>\n",
       "      <th>job_industry_category</th>\n",
       "      <th>wealth_segment</th>\n",
       "      <th>deceased_indicator</th>\n",
       "      <th>owns_car</th>\n",
       "      <th>tenure</th>\n",
       "      <th>address</th>\n",
       "      <th>postcode</th>\n",
       "      <th>state</th>\n",
       "      <th>country</th>\n",
       "      <th>property_valuation</th>\n",
       "      <th>Rank</th>\n",
       "      <th>Value</th>\n",
       "      <th>age</th>\n",
       "      <th>age_group</th>\n",
       "    </tr>\n",
       "  </thead>\n",
       "  <tbody>\n",
       "    <tr>\n",
       "      <th>0</th>\n",
       "      <td>Chickie</td>\n",
       "      <td>Brister</td>\n",
       "      <td>Male</td>\n",
       "      <td>86</td>\n",
       "      <td>1957-07-12</td>\n",
       "      <td>General Manager</td>\n",
       "      <td>Manufacturing</td>\n",
       "      <td>Mass Customer</td>\n",
       "      <td>N</td>\n",
       "      <td>Yes</td>\n",
       "      <td>14</td>\n",
       "      <td>45 Shopko Center</td>\n",
       "      <td>4500</td>\n",
       "      <td>QLD</td>\n",
       "      <td>Australia</td>\n",
       "      <td>6</td>\n",
       "      <td>1</td>\n",
       "      <td>1.718750</td>\n",
       "      <td>67</td>\n",
       "      <td>70</td>\n",
       "    </tr>\n",
       "    <tr>\n",
       "      <th>1</th>\n",
       "      <td>Morly</td>\n",
       "      <td>Genery</td>\n",
       "      <td>Male</td>\n",
       "      <td>69</td>\n",
       "      <td>1970-03-22</td>\n",
       "      <td>Structural Engineer</td>\n",
       "      <td>Property</td>\n",
       "      <td>Mass Customer</td>\n",
       "      <td>N</td>\n",
       "      <td>No</td>\n",
       "      <td>16</td>\n",
       "      <td>14 Mccormick Park</td>\n",
       "      <td>2113</td>\n",
       "      <td>NSW</td>\n",
       "      <td>Australia</td>\n",
       "      <td>11</td>\n",
       "      <td>1</td>\n",
       "      <td>1.718750</td>\n",
       "      <td>54</td>\n",
       "      <td>60</td>\n",
       "    </tr>\n",
       "    <tr>\n",
       "      <th>2</th>\n",
       "      <td>Ardelis</td>\n",
       "      <td>Forrester</td>\n",
       "      <td>Female</td>\n",
       "      <td>10</td>\n",
       "      <td>1974-08-28</td>\n",
       "      <td>Senior Cost Accountant</td>\n",
       "      <td>Financial Services</td>\n",
       "      <td>Affluent Customer</td>\n",
       "      <td>N</td>\n",
       "      <td>No</td>\n",
       "      <td>10</td>\n",
       "      <td>5 Colorado Crossing</td>\n",
       "      <td>3505</td>\n",
       "      <td>VIC</td>\n",
       "      <td>Australia</td>\n",
       "      <td>5</td>\n",
       "      <td>1</td>\n",
       "      <td>1.718750</td>\n",
       "      <td>50</td>\n",
       "      <td>60</td>\n",
       "    </tr>\n",
       "    <tr>\n",
       "      <th>3</th>\n",
       "      <td>Lucine</td>\n",
       "      <td>Stutt</td>\n",
       "      <td>Female</td>\n",
       "      <td>64</td>\n",
       "      <td>1979-01-28</td>\n",
       "      <td>Account Representative III</td>\n",
       "      <td>Manufacturing</td>\n",
       "      <td>Affluent Customer</td>\n",
       "      <td>N</td>\n",
       "      <td>Yes</td>\n",
       "      <td>5</td>\n",
       "      <td>207 Annamark Plaza</td>\n",
       "      <td>4814</td>\n",
       "      <td>QLD</td>\n",
       "      <td>Australia</td>\n",
       "      <td>1</td>\n",
       "      <td>4</td>\n",
       "      <td>1.703125</td>\n",
       "      <td>46</td>\n",
       "      <td>50</td>\n",
       "    </tr>\n",
       "    <tr>\n",
       "      <th>4</th>\n",
       "      <td>Melinda</td>\n",
       "      <td>Hadlee</td>\n",
       "      <td>Female</td>\n",
       "      <td>34</td>\n",
       "      <td>1965-09-21</td>\n",
       "      <td>Financial Analyst</td>\n",
       "      <td>Financial Services</td>\n",
       "      <td>Affluent Customer</td>\n",
       "      <td>N</td>\n",
       "      <td>No</td>\n",
       "      <td>19</td>\n",
       "      <td>115 Montana Place</td>\n",
       "      <td>2093</td>\n",
       "      <td>NSW</td>\n",
       "      <td>Australia</td>\n",
       "      <td>9</td>\n",
       "      <td>4</td>\n",
       "      <td>1.703125</td>\n",
       "      <td>59</td>\n",
       "      <td>60</td>\n",
       "    </tr>\n",
       "  </tbody>\n",
       "</table>\n",
       "</div>"
      ],
      "text/plain": [
       "  first_name  last_name  gender  past_3_years_bike_related_purchases  \\\n",
       "0    Chickie    Brister    Male                                   86   \n",
       "1      Morly     Genery    Male                                   69   \n",
       "2    Ardelis  Forrester  Female                                   10   \n",
       "3     Lucine      Stutt  Female                                   64   \n",
       "4    Melinda     Hadlee  Female                                   34   \n",
       "\n",
       "         DOB                   job_title job_industry_category  \\\n",
       "0 1957-07-12             General Manager         Manufacturing   \n",
       "1 1970-03-22         Structural Engineer              Property   \n",
       "2 1974-08-28      Senior Cost Accountant    Financial Services   \n",
       "3 1979-01-28  Account Representative III         Manufacturing   \n",
       "4 1965-09-21           Financial Analyst    Financial Services   \n",
       "\n",
       "      wealth_segment deceased_indicator owns_car  tenure              address  \\\n",
       "0      Mass Customer                  N      Yes      14     45 Shopko Center   \n",
       "1      Mass Customer                  N       No      16    14 Mccormick Park   \n",
       "2  Affluent Customer                  N       No      10  5 Colorado Crossing   \n",
       "3  Affluent Customer                  N      Yes       5   207 Annamark Plaza   \n",
       "4  Affluent Customer                  N       No      19    115 Montana Place   \n",
       "\n",
       "   postcode state    country  property_valuation  Rank     Value  age  \\\n",
       "0      4500   QLD  Australia                   6     1  1.718750   67   \n",
       "1      2113   NSW  Australia                  11     1  1.718750   54   \n",
       "2      3505   VIC  Australia                   5     1  1.718750   50   \n",
       "3      4814   QLD  Australia                   1     4  1.703125   46   \n",
       "4      2093   NSW  Australia                   9     4  1.703125   59   \n",
       "\n",
       "   age_group  \n",
       "0         70  \n",
       "1         60  \n",
       "2         60  \n",
       "3         50  \n",
       "4         60  "
      ]
     },
     "execution_count": 75,
     "metadata": {},
     "output_type": "execute_result"
    }
   ],
   "source": [
    "new_customer.head(5)"
   ]
  },
  {
   "cell_type": "markdown",
   "id": "57a90405-8451-406a-a674-5794796ea17e",
   "metadata": {},
   "source": [
    "## Job Title"
   ]
  },
  {
   "cell_type": "code",
   "execution_count": 76,
   "id": "614daeb0-b534-44f9-8589-cab140deb161",
   "metadata": {},
   "outputs": [
    {
     "data": {
      "text/plain": [
       "np.int64(105)"
      ]
     },
     "execution_count": 76,
     "metadata": {},
     "output_type": "execute_result"
    }
   ],
   "source": [
    "# checking for null value\n",
    "new_customer['job_title'].isnull().sum()"
   ]
  },
  {
   "cell_type": "code",
   "execution_count": 77,
   "id": "e709dfd4-274c-45f4-9395-5787908d8f26",
   "metadata": {},
   "outputs": [
    {
     "data": {
      "text/plain": [
       "np.int64(878)"
      ]
     },
     "execution_count": 77,
     "metadata": {},
     "output_type": "execute_result"
    }
   ],
   "source": [
    "# taking count of total row \n",
    "\n",
    "new_customer['job_title'].count()"
   ]
  },
  {
   "cell_type": "code",
   "execution_count": 78,
   "id": "e5db6ae4-6e97-4c78-87b8-420490fe1ac3",
   "metadata": {},
   "outputs": [
    {
     "data": {
      "text/plain": [
       "np.float64(11.958997722095672)"
      ]
     },
     "execution_count": 78,
     "metadata": {},
     "output_type": "execute_result"
    }
   ],
   "source": [
    "# checking how much percent of value is null\n",
    "(new_customer['job_title'].isnull().sum())/(new_customer['job_title'].count())*100"
   ]
  },
  {
   "cell_type": "markdown",
   "id": "f43422cd-811d-4e1f-9ee9-8fe47b1735d8",
   "metadata": {},
   "source": [
    "**Since 12% of missing Job title is missing. We will replace null values with Missing**"
   ]
  },
  {
   "cell_type": "code",
   "execution_count": 79,
   "id": "90ca2825-7ef4-4868-b8c0-778fba013940",
   "metadata": {},
   "outputs": [
    {
     "name": "stderr",
     "output_type": "stream",
     "text": [
      "C:\\Users\\Bhask\\AppData\\Local\\Temp\\ipykernel_15380\\935201011.py:1: FutureWarning: A value is trying to be set on a copy of a DataFrame or Series through chained assignment using an inplace method.\n",
      "The behavior will change in pandas 3.0. This inplace method will never work because the intermediate object on which we are setting values always behaves as a copy.\n",
      "\n",
      "For example, when doing 'df[col].method(value, inplace=True)', try using 'df.method({col: value}, inplace=True)' or df[col] = df[col].method(value) instead, to perform the operation inplace on the original object.\n",
      "\n",
      "\n",
      "  new_customer['job_title'].fillna('Missing', axis = 0, inplace = True)\n"
     ]
    }
   ],
   "source": [
    "new_customer['job_title'].fillna('Missing', axis = 0, inplace = True)"
   ]
  },
  {
   "cell_type": "code",
   "execution_count": 80,
   "id": "ed5b77db-52e5-4455-9bb4-a2ef04215e9a",
   "metadata": {},
   "outputs": [
    {
     "data": {
      "text/plain": [
       "np.int64(0)"
      ]
     },
     "execution_count": 80,
     "metadata": {},
     "output_type": "execute_result"
    }
   ],
   "source": [
    "new_customer['job_title'].isnull().sum()"
   ]
  },
  {
   "cell_type": "markdown",
   "id": "f24b1721-7bec-4312-85b2-b235d0c54add",
   "metadata": {},
   "source": [
    "## Job Industry Category"
   ]
  },
  {
   "cell_type": "code",
   "execution_count": 81,
   "id": "337fc398-68c3-4956-8bbc-015872e28ecb",
   "metadata": {},
   "outputs": [
    {
     "data": {
      "text/plain": [
       "np.int64(165)"
      ]
     },
     "execution_count": 81,
     "metadata": {},
     "output_type": "execute_result"
    }
   ],
   "source": [
    "# checking for null value\n",
    "new_customer['job_industry_category'].isnull().sum()"
   ]
  },
  {
   "cell_type": "code",
   "execution_count": 82,
   "id": "f8e5dfde-62a4-4d05-8009-35970f87fd98",
   "metadata": {},
   "outputs": [
    {
     "data": {
      "text/plain": [
       "np.int64(818)"
      ]
     },
     "execution_count": 82,
     "metadata": {},
     "output_type": "execute_result"
    }
   ],
   "source": [
    "# taking the count of total row\n",
    "new_customer['job_industry_category'].count()"
   ]
  },
  {
   "cell_type": "code",
   "execution_count": 83,
   "id": "5bbb97d4-e34e-4719-a627-59bf5558934c",
   "metadata": {},
   "outputs": [
    {
     "data": {
      "text/plain": [
       "np.float64(20.17114914425428)"
      ]
     },
     "execution_count": 83,
     "metadata": {},
     "output_type": "execute_result"
    }
   ],
   "source": [
    "# checking how much percent of value is null\n",
    "(new_customer['job_industry_category'].isnull().sum())/(new_customer['job_industry_category'].count())*100"
   ]
  },
  {
   "cell_type": "markdown",
   "id": "b7442ab3-163e-44b9-b6dd-c6e4890316bb",
   "metadata": {},
   "source": [
    "**Since 20% of missing Job title is missing. We will replace null values with Missing**"
   ]
  },
  {
   "cell_type": "code",
   "execution_count": 84,
   "id": "8da137d5-3653-4e14-8116-b21e59bdc2de",
   "metadata": {},
   "outputs": [
    {
     "name": "stderr",
     "output_type": "stream",
     "text": [
      "C:\\Users\\Bhask\\AppData\\Local\\Temp\\ipykernel_15380\\875540546.py:2: FutureWarning: A value is trying to be set on a copy of a DataFrame or Series through chained assignment using an inplace method.\n",
      "The behavior will change in pandas 3.0. This inplace method will never work because the intermediate object on which we are setting values always behaves as a copy.\n",
      "\n",
      "For example, when doing 'df[col].method(value, inplace=True)', try using 'df.method({col: value}, inplace=True)' or df[col] = df[col].method(value) instead, to perform the operation inplace on the original object.\n",
      "\n",
      "\n",
      "  new_customer['job_industry_category'].fillna('Missing', axis = 0, inplace = True)\n"
     ]
    }
   ],
   "source": [
    "# filling null value with Missing\n",
    "new_customer['job_industry_category'].fillna('Missing', axis = 0, inplace = True)"
   ]
  },
  {
   "cell_type": "code",
   "execution_count": 85,
   "id": "3a803238-1c36-4737-861c-67ddf5131b70",
   "metadata": {},
   "outputs": [
    {
     "data": {
      "text/plain": [
       "np.int64(0)"
      ]
     },
     "execution_count": 85,
     "metadata": {},
     "output_type": "execute_result"
    }
   ],
   "source": [
    "new_customer['job_industry_category'].isnull().sum()"
   ]
  },
  {
   "cell_type": "code",
   "execution_count": 86,
   "id": "c66941ee-148f-4218-85c7-91785a43c1ab",
   "metadata": {},
   "outputs": [
    {
     "data": {
      "text/plain": [
       "first_name                             0\n",
       "last_name                              0\n",
       "gender                                 0\n",
       "past_3_years_bike_related_purchases    0\n",
       "DOB                                    0\n",
       "job_title                              0\n",
       "job_industry_category                  0\n",
       "wealth_segment                         0\n",
       "deceased_indicator                     0\n",
       "owns_car                               0\n",
       "tenure                                 0\n",
       "address                                0\n",
       "postcode                               0\n",
       "state                                  0\n",
       "country                                0\n",
       "property_valuation                     0\n",
       "Rank                                   0\n",
       "Value                                  0\n",
       "age                                    0\n",
       "age_group                              0\n",
       "dtype: int64"
      ]
     },
     "execution_count": 86,
     "metadata": {},
     "output_type": "execute_result"
    }
   ],
   "source": [
    "new_customer.isnull().sum()"
   ]
  },
  {
   "cell_type": "markdown",
   "id": "c979bbeb-66e9-47b4-bd19-3a7d1f4eb3b0",
   "metadata": {},
   "source": [
    "## 3. Inconsistency Check in Data"
   ]
  },
  {
   "cell_type": "code",
   "execution_count": 87,
   "id": "dcbd0000-0926-4fb2-90e8-ce620de9f05b",
   "metadata": {},
   "outputs": [
    {
     "data": {
      "text/plain": [
       "Index(['first_name', 'last_name', 'gender',\n",
       "       'past_3_years_bike_related_purchases', 'DOB', 'job_title',\n",
       "       'job_industry_category', 'wealth_segment', 'deceased_indicator',\n",
       "       'owns_car', 'tenure', 'address', 'postcode', 'state', 'country',\n",
       "       'property_valuation', 'Rank', 'Value', 'age', 'age_group'],\n",
       "      dtype='object')"
      ]
     },
     "execution_count": 87,
     "metadata": {},
     "output_type": "execute_result"
    }
   ],
   "source": [
    "new_customer.columns"
   ]
  },
  {
   "cell_type": "code",
   "execution_count": 88,
   "id": "0296fb4b-69c4-4f13-b253-b9dec79cf385",
   "metadata": {},
   "outputs": [
    {
     "data": {
      "text/plain": [
       "gender\n",
       "Female    513\n",
       "Male      470\n",
       "Name: count, dtype: int64"
      ]
     },
     "execution_count": 88,
     "metadata": {},
     "output_type": "execute_result"
    }
   ],
   "source": [
    "new_customer['gender'].value_counts()"
   ]
  },
  {
   "cell_type": "code",
   "execution_count": 89,
   "id": "75504aa7-7666-49b9-834b-79444f91774f",
   "metadata": {},
   "outputs": [
    {
     "data": {
      "text/plain": [
       "owns_car\n",
       "No     497\n",
       "Yes    486\n",
       "Name: count, dtype: int64"
      ]
     },
     "execution_count": 89,
     "metadata": {},
     "output_type": "execute_result"
    }
   ],
   "source": [
    "new_customer['owns_car'].value_counts()"
   ]
  },
  {
   "cell_type": "code",
   "execution_count": 90,
   "id": "2f71e56c-79c2-4518-8f41-30545b38e761",
   "metadata": {},
   "outputs": [
    {
     "data": {
      "text/plain": [
       "wealth_segment\n",
       "Mass Customer        499\n",
       "High Net Worth       249\n",
       "Affluent Customer    235\n",
       "Name: count, dtype: int64"
      ]
     },
     "execution_count": 90,
     "metadata": {},
     "output_type": "execute_result"
    }
   ],
   "source": [
    "new_customer['wealth_segment'].value_counts()"
   ]
  },
  {
   "cell_type": "code",
   "execution_count": 91,
   "id": "e5efa142-e9fa-4fb9-825a-0577b8a621ae",
   "metadata": {},
   "outputs": [
    {
     "data": {
      "text/plain": [
       "deceased_indicator\n",
       "N    983\n",
       "Name: count, dtype: int64"
      ]
     },
     "execution_count": 91,
     "metadata": {},
     "output_type": "execute_result"
    }
   ],
   "source": [
    "new_customer['deceased_indicator'].value_counts()"
   ]
  },
  {
   "cell_type": "code",
   "execution_count": 92,
   "id": "8fa5f3d6-c689-4c20-9257-a0934f095fff",
   "metadata": {},
   "outputs": [
    {
     "data": {
      "text/plain": [
       "address     983\n",
       "postcode    983\n",
       "state       983\n",
       "dtype: int64"
      ]
     },
     "execution_count": 92,
     "metadata": {},
     "output_type": "execute_result"
    }
   ],
   "source": [
    "new_customer[['address','postcode','state']].count()"
   ]
  },
  {
   "cell_type": "code",
   "execution_count": 93,
   "id": "54b7cd89-ded0-46d3-9a69-c1c92d630ef2",
   "metadata": {},
   "outputs": [
    {
     "data": {
      "text/plain": [
       "state\n",
       "NSW    499\n",
       "VIC    258\n",
       "QLD    226\n",
       "Name: count, dtype: int64"
      ]
     },
     "execution_count": 93,
     "metadata": {},
     "output_type": "execute_result"
    }
   ],
   "source": [
    "new_customer['state'].value_counts()"
   ]
  },
  {
   "cell_type": "code",
   "execution_count": 94,
   "id": "7cb67a79-fb4e-4617-a5c8-a7a4dfa3a62c",
   "metadata": {},
   "outputs": [
    {
     "data": {
      "text/plain": [
       "country\n",
       "Australia    983\n",
       "Name: count, dtype: int64"
      ]
     },
     "execution_count": 94,
     "metadata": {},
     "output_type": "execute_result"
    }
   ],
   "source": [
    "new_customer['country'].value_counts()"
   ]
  },
  {
   "cell_type": "markdown",
   "id": "6c226a30-7784-4c27-b3fc-f1da99f2f470",
   "metadata": {},
   "source": [
    "## 4. Checking For Duplicates"
   ]
  },
  {
   "cell_type": "code",
   "execution_count": 95,
   "id": "7f2a1aa4-8eb0-457c-bfac-a232a53cd0b2",
   "metadata": {},
   "outputs": [
    {
     "data": {
      "text/plain": [
       "np.int64(983)"
      ]
     },
     "execution_count": 95,
     "metadata": {},
     "output_type": "execute_result"
    }
   ],
   "source": [
    "new_customer.duplicated().count()"
   ]
  },
  {
   "cell_type": "code",
   "execution_count": 96,
   "id": "fd22bfca-c0f4-4ab9-9813-e70b52251c80",
   "metadata": {},
   "outputs": [
    {
     "data": {
      "text/plain": [
       "first_name                             983\n",
       "last_name                              983\n",
       "gender                                 983\n",
       "past_3_years_bike_related_purchases    983\n",
       "DOB                                    983\n",
       "job_title                              983\n",
       "job_industry_category                  983\n",
       "wealth_segment                         983\n",
       "deceased_indicator                     983\n",
       "owns_car                               983\n",
       "tenure                                 983\n",
       "address                                983\n",
       "postcode                               983\n",
       "state                                  983\n",
       "country                                983\n",
       "property_valuation                     983\n",
       "Rank                                   983\n",
       "Value                                  983\n",
       "age                                    983\n",
       "age_group                              983\n",
       "dtype: int64"
      ]
     },
     "execution_count": 96,
     "metadata": {},
     "output_type": "execute_result"
    }
   ],
   "source": [
    "new_customer.count()"
   ]
  },
  {
   "cell_type": "markdown",
   "id": "bd9ac048-98bb-4277-9dc0-b7c60b6ee4e8",
   "metadata": {},
   "source": [
    "**There is no duplicate in data** "
   ]
  },
  {
   "cell_type": "markdown",
   "id": "aaeeb6cd-4648-4b36-941f-b1bc48194d50",
   "metadata": {},
   "source": [
    "## 5. Exporting the Cleaned New Customers Data Set to csv"
   ]
  },
  {
   "cell_type": "code",
   "execution_count": 97,
   "id": "7fd9b507-deaa-4be8-83f8-eb7ee08b3dda",
   "metadata": {},
   "outputs": [],
   "source": [
    "new_customer.to_csv('NewCustomer_Cleaned.csv', index = False)"
   ]
  },
  {
   "cell_type": "code",
   "execution_count": null,
   "id": "85b54c6a-6039-410a-bef7-6c5dab03de96",
   "metadata": {},
   "outputs": [],
   "source": []
  },
  {
   "cell_type": "markdown",
   "id": "cbc0e9a9-c631-4317-b590-c4a49e9eafa8",
   "metadata": {},
   "source": [
    "## ------------------------------------------------- END -------------------------------------------------------"
   ]
  },
  {
   "cell_type": "markdown",
   "id": "34e17df2-54d5-43e1-8a29-996e0b1feae9",
   "metadata": {},
   "source": [
    "# Transactions"
   ]
  },
  {
   "cell_type": "code",
   "execution_count": 98,
   "id": "712d1a59-a307-4c65-a446-c988160daef3",
   "metadata": {},
   "outputs": [],
   "source": [
    "# Loading the Transactions Data from the excel file\n",
    "\n",
    "transactions = pd.read_excel('Raw_data.xlsx' , sheet_name='Transactions')"
   ]
  },
  {
   "cell_type": "code",
   "execution_count": 99,
   "id": "e291d155-2405-4573-87c9-439a84d859e0",
   "metadata": {},
   "outputs": [
    {
     "data": {
      "text/html": [
       "<div>\n",
       "<style scoped>\n",
       "    .dataframe tbody tr th:only-of-type {\n",
       "        vertical-align: middle;\n",
       "    }\n",
       "\n",
       "    .dataframe tbody tr th {\n",
       "        vertical-align: top;\n",
       "    }\n",
       "\n",
       "    .dataframe thead th {\n",
       "        text-align: right;\n",
       "    }\n",
       "</style>\n",
       "<table border=\"1\" class=\"dataframe\">\n",
       "  <thead>\n",
       "    <tr style=\"text-align: right;\">\n",
       "      <th></th>\n",
       "      <th>transaction_id</th>\n",
       "      <th>product_id</th>\n",
       "      <th>customer_id</th>\n",
       "      <th>transaction_date</th>\n",
       "      <th>online_order</th>\n",
       "      <th>order_status</th>\n",
       "      <th>brand</th>\n",
       "      <th>product_line</th>\n",
       "      <th>product_class</th>\n",
       "      <th>product_size</th>\n",
       "      <th>list_price</th>\n",
       "      <th>standard_cost</th>\n",
       "      <th>product_first_sold_date</th>\n",
       "    </tr>\n",
       "  </thead>\n",
       "  <tbody>\n",
       "    <tr>\n",
       "      <th>0</th>\n",
       "      <td>1</td>\n",
       "      <td>2</td>\n",
       "      <td>2950</td>\n",
       "      <td>2017-02-25</td>\n",
       "      <td>0.0</td>\n",
       "      <td>Approved</td>\n",
       "      <td>Solex</td>\n",
       "      <td>Standard</td>\n",
       "      <td>medium</td>\n",
       "      <td>medium</td>\n",
       "      <td>71.49</td>\n",
       "      <td>53.62</td>\n",
       "      <td>41245.0</td>\n",
       "    </tr>\n",
       "    <tr>\n",
       "      <th>1</th>\n",
       "      <td>2</td>\n",
       "      <td>3</td>\n",
       "      <td>3120</td>\n",
       "      <td>2017-05-21</td>\n",
       "      <td>1.0</td>\n",
       "      <td>Approved</td>\n",
       "      <td>Trek Bicycles</td>\n",
       "      <td>Standard</td>\n",
       "      <td>medium</td>\n",
       "      <td>large</td>\n",
       "      <td>2091.47</td>\n",
       "      <td>388.92</td>\n",
       "      <td>41701.0</td>\n",
       "    </tr>\n",
       "    <tr>\n",
       "      <th>2</th>\n",
       "      <td>3</td>\n",
       "      <td>37</td>\n",
       "      <td>402</td>\n",
       "      <td>2017-10-16</td>\n",
       "      <td>0.0</td>\n",
       "      <td>Approved</td>\n",
       "      <td>OHM Cycles</td>\n",
       "      <td>Standard</td>\n",
       "      <td>low</td>\n",
       "      <td>medium</td>\n",
       "      <td>1793.43</td>\n",
       "      <td>248.82</td>\n",
       "      <td>36361.0</td>\n",
       "    </tr>\n",
       "    <tr>\n",
       "      <th>3</th>\n",
       "      <td>4</td>\n",
       "      <td>88</td>\n",
       "      <td>3135</td>\n",
       "      <td>2017-08-31</td>\n",
       "      <td>0.0</td>\n",
       "      <td>Approved</td>\n",
       "      <td>Norco Bicycles</td>\n",
       "      <td>Standard</td>\n",
       "      <td>medium</td>\n",
       "      <td>medium</td>\n",
       "      <td>1198.46</td>\n",
       "      <td>381.10</td>\n",
       "      <td>36145.0</td>\n",
       "    </tr>\n",
       "    <tr>\n",
       "      <th>4</th>\n",
       "      <td>5</td>\n",
       "      <td>78</td>\n",
       "      <td>787</td>\n",
       "      <td>2017-10-01</td>\n",
       "      <td>1.0</td>\n",
       "      <td>Approved</td>\n",
       "      <td>Giant Bicycles</td>\n",
       "      <td>Standard</td>\n",
       "      <td>medium</td>\n",
       "      <td>large</td>\n",
       "      <td>1765.30</td>\n",
       "      <td>709.48</td>\n",
       "      <td>42226.0</td>\n",
       "    </tr>\n",
       "  </tbody>\n",
       "</table>\n",
       "</div>"
      ],
      "text/plain": [
       "   transaction_id  product_id  customer_id transaction_date  online_order  \\\n",
       "0               1           2         2950       2017-02-25           0.0   \n",
       "1               2           3         3120       2017-05-21           1.0   \n",
       "2               3          37          402       2017-10-16           0.0   \n",
       "3               4          88         3135       2017-08-31           0.0   \n",
       "4               5          78          787       2017-10-01           1.0   \n",
       "\n",
       "  order_status           brand product_line product_class product_size  \\\n",
       "0     Approved           Solex     Standard        medium       medium   \n",
       "1     Approved   Trek Bicycles     Standard        medium        large   \n",
       "2     Approved      OHM Cycles     Standard           low       medium   \n",
       "3     Approved  Norco Bicycles     Standard        medium       medium   \n",
       "4     Approved  Giant Bicycles     Standard        medium        large   \n",
       "\n",
       "   list_price  standard_cost  product_first_sold_date  \n",
       "0       71.49          53.62                  41245.0  \n",
       "1     2091.47         388.92                  41701.0  \n",
       "2     1793.43         248.82                  36361.0  \n",
       "3     1198.46         381.10                  36145.0  \n",
       "4     1765.30         709.48                  42226.0  "
      ]
     },
     "execution_count": 99,
     "metadata": {},
     "output_type": "execute_result"
    }
   ],
   "source": [
    "transactions.head(5)"
   ]
  },
  {
   "cell_type": "code",
   "execution_count": 100,
   "id": "d563a095-794a-4e54-acde-de7108681d0b",
   "metadata": {},
   "outputs": [
    {
     "name": "stdout",
     "output_type": "stream",
     "text": [
      "<class 'pandas.core.frame.DataFrame'>\n",
      "RangeIndex: 20000 entries, 0 to 19999\n",
      "Data columns (total 13 columns):\n",
      " #   Column                   Non-Null Count  Dtype         \n",
      "---  ------                   --------------  -----         \n",
      " 0   transaction_id           20000 non-null  int64         \n",
      " 1   product_id               20000 non-null  int64         \n",
      " 2   customer_id              20000 non-null  int64         \n",
      " 3   transaction_date         20000 non-null  datetime64[ns]\n",
      " 4   online_order             19640 non-null  float64       \n",
      " 5   order_status             20000 non-null  object        \n",
      " 6   brand                    19803 non-null  object        \n",
      " 7   product_line             19803 non-null  object        \n",
      " 8   product_class            19803 non-null  object        \n",
      " 9   product_size             19803 non-null  object        \n",
      " 10  list_price               20000 non-null  float64       \n",
      " 11  standard_cost            19803 non-null  float64       \n",
      " 12  product_first_sold_date  19803 non-null  float64       \n",
      "dtypes: datetime64[ns](1), float64(4), int64(3), object(5)\n",
      "memory usage: 2.0+ MB\n"
     ]
    }
   ],
   "source": [
    "transactions.info()"
   ]
  },
  {
   "cell_type": "code",
   "execution_count": 101,
   "id": "40fc3f88-4abc-4c9f-b356-a6aac87191cb",
   "metadata": {},
   "outputs": [
    {
     "data": {
      "text/plain": [
       "transaction_id               0\n",
       "product_id                   0\n",
       "customer_id                  0\n",
       "transaction_date             0\n",
       "online_order               360\n",
       "order_status                 0\n",
       "brand                      197\n",
       "product_line               197\n",
       "product_class              197\n",
       "product_size               197\n",
       "list_price                   0\n",
       "standard_cost              197\n",
       "product_first_sold_date    197\n",
       "dtype: int64"
      ]
     },
     "execution_count": 101,
     "metadata": {},
     "output_type": "execute_result"
    }
   ],
   "source": [
    "transactions.isnull().sum()"
   ]
  },
  {
   "cell_type": "code",
   "execution_count": 102,
   "id": "822c0844-1dc5-4467-9e33-f69171b374b8",
   "metadata": {},
   "outputs": [
    {
     "data": {
      "text/plain": [
       "transaction_id             0.000\n",
       "product_id                 0.000\n",
       "customer_id                0.000\n",
       "transaction_date           0.000\n",
       "online_order               1.800\n",
       "order_status               0.000\n",
       "brand                      0.985\n",
       "product_line               0.985\n",
       "product_class              0.985\n",
       "product_size               0.985\n",
       "list_price                 0.000\n",
       "standard_cost              0.985\n",
       "product_first_sold_date    0.985\n",
       "dtype: float64"
      ]
     },
     "execution_count": 102,
     "metadata": {},
     "output_type": "execute_result"
    }
   ],
   "source": [
    "transactions.isnull().mean()*100"
   ]
  },
  {
   "cell_type": "markdown",
   "id": "1e5456a4-2495-4dfb-a59b-b89853f5b990",
   "metadata": {},
   "source": [
    "## 1. Missing Values Check"
   ]
  },
  {
   "cell_type": "markdown",
   "id": "4d939d2f-6b1b-485e-81fd-758017c82a65",
   "metadata": {},
   "source": [
    "### Online Order"
   ]
  },
  {
   "cell_type": "code",
   "execution_count": 103,
   "id": "71498ada-03d6-422b-8f10-d09c48674f5c",
   "metadata": {},
   "outputs": [
    {
     "data": {
      "text/html": [
       "<div>\n",
       "<style scoped>\n",
       "    .dataframe tbody tr th:only-of-type {\n",
       "        vertical-align: middle;\n",
       "    }\n",
       "\n",
       "    .dataframe tbody tr th {\n",
       "        vertical-align: top;\n",
       "    }\n",
       "\n",
       "    .dataframe thead th {\n",
       "        text-align: right;\n",
       "    }\n",
       "</style>\n",
       "<table border=\"1\" class=\"dataframe\">\n",
       "  <thead>\n",
       "    <tr style=\"text-align: right;\">\n",
       "      <th></th>\n",
       "      <th>transaction_id</th>\n",
       "      <th>product_id</th>\n",
       "      <th>customer_id</th>\n",
       "      <th>transaction_date</th>\n",
       "      <th>online_order</th>\n",
       "      <th>order_status</th>\n",
       "      <th>brand</th>\n",
       "      <th>product_line</th>\n",
       "      <th>product_class</th>\n",
       "      <th>product_size</th>\n",
       "      <th>list_price</th>\n",
       "      <th>standard_cost</th>\n",
       "      <th>product_first_sold_date</th>\n",
       "    </tr>\n",
       "  </thead>\n",
       "  <tbody>\n",
       "    <tr>\n",
       "      <th>97</th>\n",
       "      <td>98</td>\n",
       "      <td>49</td>\n",
       "      <td>333</td>\n",
       "      <td>2017-06-23</td>\n",
       "      <td>NaN</td>\n",
       "      <td>Approved</td>\n",
       "      <td>Trek Bicycles</td>\n",
       "      <td>Road</td>\n",
       "      <td>medium</td>\n",
       "      <td>medium</td>\n",
       "      <td>533.51</td>\n",
       "      <td>400.13</td>\n",
       "      <td>37823.0</td>\n",
       "    </tr>\n",
       "    <tr>\n",
       "      <th>166</th>\n",
       "      <td>167</td>\n",
       "      <td>90</td>\n",
       "      <td>3177</td>\n",
       "      <td>2017-04-26</td>\n",
       "      <td>NaN</td>\n",
       "      <td>Approved</td>\n",
       "      <td>Norco Bicycles</td>\n",
       "      <td>Standard</td>\n",
       "      <td>low</td>\n",
       "      <td>medium</td>\n",
       "      <td>363.01</td>\n",
       "      <td>290.41</td>\n",
       "      <td>38482.0</td>\n",
       "    </tr>\n",
       "    <tr>\n",
       "      <th>169</th>\n",
       "      <td>170</td>\n",
       "      <td>6</td>\n",
       "      <td>404</td>\n",
       "      <td>2017-10-16</td>\n",
       "      <td>NaN</td>\n",
       "      <td>Approved</td>\n",
       "      <td>OHM Cycles</td>\n",
       "      <td>Standard</td>\n",
       "      <td>high</td>\n",
       "      <td>medium</td>\n",
       "      <td>227.88</td>\n",
       "      <td>136.73</td>\n",
       "      <td>37838.0</td>\n",
       "    </tr>\n",
       "    <tr>\n",
       "      <th>250</th>\n",
       "      <td>251</td>\n",
       "      <td>63</td>\n",
       "      <td>1967</td>\n",
       "      <td>2017-04-11</td>\n",
       "      <td>NaN</td>\n",
       "      <td>Approved</td>\n",
       "      <td>Solex</td>\n",
       "      <td>Standard</td>\n",
       "      <td>medium</td>\n",
       "      <td>medium</td>\n",
       "      <td>1483.20</td>\n",
       "      <td>99.59</td>\n",
       "      <td>42145.0</td>\n",
       "    </tr>\n",
       "    <tr>\n",
       "      <th>300</th>\n",
       "      <td>301</td>\n",
       "      <td>78</td>\n",
       "      <td>2530</td>\n",
       "      <td>2017-03-24</td>\n",
       "      <td>NaN</td>\n",
       "      <td>Approved</td>\n",
       "      <td>Giant Bicycles</td>\n",
       "      <td>Standard</td>\n",
       "      <td>medium</td>\n",
       "      <td>large</td>\n",
       "      <td>1765.30</td>\n",
       "      <td>709.48</td>\n",
       "      <td>35455.0</td>\n",
       "    </tr>\n",
       "    <tr>\n",
       "      <th>...</th>\n",
       "      <td>...</td>\n",
       "      <td>...</td>\n",
       "      <td>...</td>\n",
       "      <td>...</td>\n",
       "      <td>...</td>\n",
       "      <td>...</td>\n",
       "      <td>...</td>\n",
       "      <td>...</td>\n",
       "      <td>...</td>\n",
       "      <td>...</td>\n",
       "      <td>...</td>\n",
       "      <td>...</td>\n",
       "      <td>...</td>\n",
       "    </tr>\n",
       "    <tr>\n",
       "      <th>19514</th>\n",
       "      <td>19515</td>\n",
       "      <td>51</td>\n",
       "      <td>690</td>\n",
       "      <td>2017-01-22</td>\n",
       "      <td>NaN</td>\n",
       "      <td>Approved</td>\n",
       "      <td>OHM Cycles</td>\n",
       "      <td>Standard</td>\n",
       "      <td>high</td>\n",
       "      <td>medium</td>\n",
       "      <td>2005.66</td>\n",
       "      <td>1203.40</td>\n",
       "      <td>37823.0</td>\n",
       "    </tr>\n",
       "    <tr>\n",
       "      <th>19573</th>\n",
       "      <td>19574</td>\n",
       "      <td>18</td>\n",
       "      <td>1735</td>\n",
       "      <td>2017-01-15</td>\n",
       "      <td>NaN</td>\n",
       "      <td>Approved</td>\n",
       "      <td>Solex</td>\n",
       "      <td>Standard</td>\n",
       "      <td>medium</td>\n",
       "      <td>medium</td>\n",
       "      <td>575.27</td>\n",
       "      <td>431.45</td>\n",
       "      <td>41345.0</td>\n",
       "    </tr>\n",
       "    <tr>\n",
       "      <th>19580</th>\n",
       "      <td>19581</td>\n",
       "      <td>49</td>\n",
       "      <td>1933</td>\n",
       "      <td>2017-10-12</td>\n",
       "      <td>NaN</td>\n",
       "      <td>Approved</td>\n",
       "      <td>Trek Bicycles</td>\n",
       "      <td>Road</td>\n",
       "      <td>medium</td>\n",
       "      <td>medium</td>\n",
       "      <td>533.51</td>\n",
       "      <td>400.13</td>\n",
       "      <td>41064.0</td>\n",
       "    </tr>\n",
       "    <tr>\n",
       "      <th>19635</th>\n",
       "      <td>19636</td>\n",
       "      <td>98</td>\n",
       "      <td>1389</td>\n",
       "      <td>2017-07-26</td>\n",
       "      <td>NaN</td>\n",
       "      <td>Approved</td>\n",
       "      <td>Trek Bicycles</td>\n",
       "      <td>Standard</td>\n",
       "      <td>high</td>\n",
       "      <td>medium</td>\n",
       "      <td>358.39</td>\n",
       "      <td>215.03</td>\n",
       "      <td>38002.0</td>\n",
       "    </tr>\n",
       "    <tr>\n",
       "      <th>19843</th>\n",
       "      <td>19844</td>\n",
       "      <td>3</td>\n",
       "      <td>8</td>\n",
       "      <td>2017-01-28</td>\n",
       "      <td>NaN</td>\n",
       "      <td>Approved</td>\n",
       "      <td>Trek Bicycles</td>\n",
       "      <td>Standard</td>\n",
       "      <td>medium</td>\n",
       "      <td>large</td>\n",
       "      <td>2091.47</td>\n",
       "      <td>388.92</td>\n",
       "      <td>37823.0</td>\n",
       "    </tr>\n",
       "  </tbody>\n",
       "</table>\n",
       "<p>360 rows × 13 columns</p>\n",
       "</div>"
      ],
      "text/plain": [
       "       transaction_id  product_id  customer_id transaction_date  online_order  \\\n",
       "97                 98          49          333       2017-06-23           NaN   \n",
       "166               167          90         3177       2017-04-26           NaN   \n",
       "169               170           6          404       2017-10-16           NaN   \n",
       "250               251          63         1967       2017-04-11           NaN   \n",
       "300               301          78         2530       2017-03-24           NaN   \n",
       "...               ...         ...          ...              ...           ...   \n",
       "19514           19515          51          690       2017-01-22           NaN   \n",
       "19573           19574          18         1735       2017-01-15           NaN   \n",
       "19580           19581          49         1933       2017-10-12           NaN   \n",
       "19635           19636          98         1389       2017-07-26           NaN   \n",
       "19843           19844           3            8       2017-01-28           NaN   \n",
       "\n",
       "      order_status           brand product_line product_class product_size  \\\n",
       "97        Approved   Trek Bicycles         Road        medium       medium   \n",
       "166       Approved  Norco Bicycles     Standard           low       medium   \n",
       "169       Approved      OHM Cycles     Standard          high       medium   \n",
       "250       Approved           Solex     Standard        medium       medium   \n",
       "300       Approved  Giant Bicycles     Standard        medium        large   \n",
       "...            ...             ...          ...           ...          ...   \n",
       "19514     Approved      OHM Cycles     Standard          high       medium   \n",
       "19573     Approved           Solex     Standard        medium       medium   \n",
       "19580     Approved   Trek Bicycles         Road        medium       medium   \n",
       "19635     Approved   Trek Bicycles     Standard          high       medium   \n",
       "19843     Approved   Trek Bicycles     Standard        medium        large   \n",
       "\n",
       "       list_price  standard_cost  product_first_sold_date  \n",
       "97         533.51         400.13                  37823.0  \n",
       "166        363.01         290.41                  38482.0  \n",
       "169        227.88         136.73                  37838.0  \n",
       "250       1483.20          99.59                  42145.0  \n",
       "300       1765.30         709.48                  35455.0  \n",
       "...           ...            ...                      ...  \n",
       "19514     2005.66        1203.40                  37823.0  \n",
       "19573      575.27         431.45                  41345.0  \n",
       "19580      533.51         400.13                  41064.0  \n",
       "19635      358.39         215.03                  38002.0  \n",
       "19843     2091.47         388.92                  37823.0  \n",
       "\n",
       "[360 rows x 13 columns]"
      ]
     },
     "execution_count": 103,
     "metadata": {},
     "output_type": "execute_result"
    }
   ],
   "source": [
    "transactions[transactions['online_order'].isnull()]"
   ]
  },
  {
   "cell_type": "markdown",
   "id": "d20b6936-d82b-4655-9f14-e3c40466b475",
   "metadata": {},
   "source": [
    "**we can perform mode imputation for this categorical column and replace null value with mode of the column**"
   ]
  },
  {
   "cell_type": "code",
   "execution_count": 104,
   "id": "1630d47d-d7f9-4fd5-9b1c-21deacb77b63",
   "metadata": {},
   "outputs": [
    {
     "data": {
      "text/plain": [
       "0    1.0\n",
       "Name: online_order, dtype: float64"
      ]
     },
     "execution_count": 104,
     "metadata": {},
     "output_type": "execute_result"
    }
   ],
   "source": [
    "transactions['online_order'].mode()"
   ]
  },
  {
   "cell_type": "code",
   "execution_count": 105,
   "id": "a8e79b3a-6521-4859-879a-5f9d199d1d7b",
   "metadata": {},
   "outputs": [
    {
     "name": "stderr",
     "output_type": "stream",
     "text": [
      "C:\\Users\\Bhask\\AppData\\Local\\Temp\\ipykernel_15380\\3432893078.py:1: FutureWarning: A value is trying to be set on a copy of a DataFrame or Series through chained assignment using an inplace method.\n",
      "The behavior will change in pandas 3.0. This inplace method will never work because the intermediate object on which we are setting values always behaves as a copy.\n",
      "\n",
      "For example, when doing 'df[col].method(value, inplace=True)', try using 'df.method({col: value}, inplace=True)' or df[col] = df[col].method(value) instead, to perform the operation inplace on the original object.\n",
      "\n",
      "\n",
      "  transactions['online_order'].fillna('1', axis = 0, inplace = True)\n",
      "C:\\Users\\Bhask\\AppData\\Local\\Temp\\ipykernel_15380\\3432893078.py:1: FutureWarning: Setting an item of incompatible dtype is deprecated and will raise an error in a future version of pandas. Value '1' has dtype incompatible with float64, please explicitly cast to a compatible dtype first.\n",
      "  transactions['online_order'].fillna('1', axis = 0, inplace = True)\n"
     ]
    }
   ],
   "source": [
    "transactions['online_order'].fillna('1', axis = 0, inplace = True)"
   ]
  },
  {
   "cell_type": "code",
   "execution_count": 106,
   "id": "f4305ea3-5e8a-455a-9568-3f726b6dc378",
   "metadata": {},
   "outputs": [],
   "source": [
    "# changing the data type\n",
    "transactions['online_order'] = transactions['online_order'].astype('float')"
   ]
  },
  {
   "cell_type": "markdown",
   "id": "add2859c-b7f9-4a65-b3e3-3602f6eb4865",
   "metadata": {},
   "source": [
    "### Brand, Product Line, Product Class, Product Size, Standard Cost, Product First Sold Date"
   ]
  },
  {
   "cell_type": "code",
   "execution_count": 107,
   "id": "c0dd8bc5-fbcc-4ffb-a835-cc3f4909c38f",
   "metadata": {},
   "outputs": [
    {
     "data": {
      "text/plain": [
       "brand                      197\n",
       "product_line               197\n",
       "product_class              197\n",
       "product_size               197\n",
       "standard_cost              197\n",
       "product_first_sold_date    197\n",
       "dtype: int64"
      ]
     },
     "execution_count": 107,
     "metadata": {},
     "output_type": "execute_result"
    }
   ],
   "source": [
    "transactions[transactions['brand'].isnull()][['brand', 'product_line', 'product_class', 'product_size', \n",
    "                                'standard_cost', 'product_first_sold_date']].isnull().sum()"
   ]
  },
  {
   "cell_type": "code",
   "execution_count": 108,
   "id": "0ac6bb56-9837-4a01-a910-f05f85ea07c3",
   "metadata": {},
   "outputs": [],
   "source": [
    "records_to_drop  = transactions[transactions['brand'].isnull()][['brand', 'product_line', 'product_class', 'product_size', \n",
    "                                'standard_cost', 'product_first_sold_date']].index"
   ]
  },
  {
   "cell_type": "code",
   "execution_count": 109,
   "id": "d276fbe3-df24-42dd-90f7-aceec63d861e",
   "metadata": {},
   "outputs": [],
   "source": [
    "# dropped null values\n",
    "\n",
    "transactions.drop(index = records_to_drop, axis = 0, inplace = True )"
   ]
  },
  {
   "cell_type": "code",
   "execution_count": 110,
   "id": "356f7aa7-70b5-40df-b8c8-9bc7b1132ac5",
   "metadata": {},
   "outputs": [
    {
     "data": {
      "text/plain": [
       "transaction_id             0\n",
       "product_id                 0\n",
       "customer_id                0\n",
       "transaction_date           0\n",
       "online_order               0\n",
       "order_status               0\n",
       "brand                      0\n",
       "product_line               0\n",
       "product_class              0\n",
       "product_size               0\n",
       "list_price                 0\n",
       "standard_cost              0\n",
       "product_first_sold_date    0\n",
       "dtype: int64"
      ]
     },
     "execution_count": 110,
     "metadata": {},
     "output_type": "execute_result"
    }
   ],
   "source": [
    "transactions.isnull().sum()"
   ]
  },
  {
   "cell_type": "code",
   "execution_count": 111,
   "id": "5b68ee16-36f0-4538-9d45-b5fec69121d1",
   "metadata": {},
   "outputs": [
    {
     "data": {
      "text/plain": [
       "19803"
      ]
     },
     "execution_count": 111,
     "metadata": {},
     "output_type": "execute_result"
    }
   ],
   "source": [
    "transactions.shape[0]"
   ]
  },
  {
   "cell_type": "markdown",
   "id": "c370b293-5551-4b5e-9bfd-1c8a517ba673",
   "metadata": {},
   "source": [
    "### 2. Creating a new column \"Profit\""
   ]
  },
  {
   "cell_type": "code",
   "execution_count": 112,
   "id": "b5c50008-adbc-4833-9ef0-8409228ad144",
   "metadata": {},
   "outputs": [],
   "source": [
    "transactions['profit'] = transactions['list_price'] - transactions['standard_cost']"
   ]
  },
  {
   "cell_type": "code",
   "execution_count": 113,
   "id": "0de2d91e-1385-4c80-b05b-6cb0bacdd20a",
   "metadata": {},
   "outputs": [
    {
     "data": {
      "text/plain": [
       "<Axes: xlabel='profit', ylabel='Count'>"
      ]
     },
     "execution_count": 113,
     "metadata": {},
     "output_type": "execute_result"
    },
    {
     "data": {
      "image/png": "[encoded data removed]",
      "text/plain": [
       "<Figure size 2000x800 with 1 Axes>"
      ]
     },
     "metadata": {},
     "output_type": "display_data"
    }
   ],
   "source": [
    "# Dystribution of the Profit Column\n",
    "plt.figure(figsize=(20,8))\n",
    "sns.histplot(transactions['profit'])"
   ]
  },
  {
   "cell_type": "markdown",
   "id": "08fe0241-6976-4451-bbf7-ae97ece32649",
   "metadata": {},
   "source": [
    "## 3. Inconsistency Check in Data"
   ]
  },
  {
   "cell_type": "code",
   "execution_count": 114,
   "id": "f608f6f5-3138-4af5-9821-6329dd04e962",
   "metadata": {},
   "outputs": [
    {
     "data": {
      "text/plain": [
       "Index(['transaction_id', 'product_id', 'customer_id', 'transaction_date',\n",
       "       'online_order', 'order_status', 'brand', 'product_line',\n",
       "       'product_class', 'product_size', 'list_price', 'standard_cost',\n",
       "       'product_first_sold_date', 'profit'],\n",
       "      dtype='object')"
      ]
     },
     "execution_count": 114,
     "metadata": {},
     "output_type": "execute_result"
    }
   ],
   "source": [
    "transactions.columns"
   ]
  },
  {
   "cell_type": "markdown",
   "id": "e9c53c5c-75dd-48d6-a155-83d418c7e62a",
   "metadata": {},
   "source": [
    "### Order Status"
   ]
  },
  {
   "cell_type": "code",
   "execution_count": 115,
   "id": "bf2e760d-c611-4779-a705-62357a3053b8",
   "metadata": {},
   "outputs": [
    {
     "data": {
      "text/plain": [
       "order_status\n",
       "Approved     19625\n",
       "Cancelled      178\n",
       "Name: count, dtype: int64"
      ]
     },
     "execution_count": 115,
     "metadata": {},
     "output_type": "execute_result"
    }
   ],
   "source": [
    "transactions['order_status'].value_counts()"
   ]
  },
  {
   "cell_type": "markdown",
   "id": "ca1ebbea-2b71-45af-a43a-b569757af026",
   "metadata": {},
   "source": [
    "**There is no Inconsistency in order status column**"
   ]
  },
  {
   "cell_type": "markdown",
   "id": "424948d8-e1cd-4964-9624-6731a06f5db6",
   "metadata": {},
   "source": [
    "### Brand"
   ]
  },
  {
   "cell_type": "code",
   "execution_count": 116,
   "id": "add7406c-f77e-4094-b780-28851cbfd9c0",
   "metadata": {},
   "outputs": [
    {
     "data": {
      "text/plain": [
       "brand\n",
       "Solex             4253\n",
       "Giant Bicycles    3312\n",
       "WeareA2B          3295\n",
       "OHM Cycles        3043\n",
       "Trek Bicycles     2990\n",
       "Norco Bicycles    2910\n",
       "Name: count, dtype: int64"
      ]
     },
     "execution_count": 116,
     "metadata": {},
     "output_type": "execute_result"
    }
   ],
   "source": [
    "transactions['brand'].value_counts()"
   ]
  },
  {
   "cell_type": "markdown",
   "id": "466f382f-bf24-49df-9664-4e3c5be6470f",
   "metadata": {},
   "source": [
    "**There is no Inconsistency in brand column**"
   ]
  },
  {
   "cell_type": "markdown",
   "id": "7ce37c8a-514e-4389-9d96-4e35e8b30a07",
   "metadata": {},
   "source": [
    "### Product Line"
   ]
  },
  {
   "cell_type": "code",
   "execution_count": 117,
   "id": "7a2fe687-8f59-488e-b096-e2d2aa97508b",
   "metadata": {},
   "outputs": [
    {
     "data": {
      "text/plain": [
       "product_line\n",
       "Standard    14176\n",
       "Road         3970\n",
       "Touring      1234\n",
       "Mountain      423\n",
       "Name: count, dtype: int64"
      ]
     },
     "execution_count": 117,
     "metadata": {},
     "output_type": "execute_result"
    }
   ],
   "source": [
    "transactions['product_line'].value_counts()"
   ]
  },
  {
   "cell_type": "markdown",
   "id": "c6d268f8-3dc3-4dcc-b50f-e8a4299908ea",
   "metadata": {},
   "source": [
    "**There is no Inconsistency in product _line column**"
   ]
  },
  {
   "cell_type": "markdown",
   "id": "50c16a5e-c1c1-4c2c-94f6-509f89bc3f2f",
   "metadata": {},
   "source": [
    "### Product Class"
   ]
  },
  {
   "cell_type": "code",
   "execution_count": 118,
   "id": "80a4234b-9df3-4232-8f40-8d54efc60ee7",
   "metadata": {},
   "outputs": [
    {
     "data": {
      "text/plain": [
       "product_class\n",
       "medium    13826\n",
       "high       3013\n",
       "low        2964\n",
       "Name: count, dtype: int64"
      ]
     },
     "execution_count": 118,
     "metadata": {},
     "output_type": "execute_result"
    }
   ],
   "source": [
    "transactions['product_class'].value_counts()"
   ]
  },
  {
   "cell_type": "markdown",
   "id": "088a9fe4-b207-4efa-a6b6-4acaa3f07b4b",
   "metadata": {},
   "source": [
    "**There is no Inconsistency in product class column**"
   ]
  },
  {
   "cell_type": "markdown",
   "id": "d1914823-69b6-4838-a30f-4375875af734",
   "metadata": {},
   "source": [
    "### Product Size"
   ]
  },
  {
   "cell_type": "code",
   "execution_count": 119,
   "id": "f5a9673d-b578-4680-8b2b-9688d29a7da8",
   "metadata": {},
   "outputs": [
    {
     "data": {
      "text/plain": [
       "product_size\n",
       "medium    12990\n",
       "large      3976\n",
       "small      2837\n",
       "Name: count, dtype: int64"
      ]
     },
     "execution_count": 119,
     "metadata": {},
     "output_type": "execute_result"
    }
   ],
   "source": [
    "transactions['product_size'].value_counts()"
   ]
  },
  {
   "cell_type": "markdown",
   "id": "6e926710-183e-4bd2-b385-83fe3c8bb16b",
   "metadata": {},
   "source": [
    "**There is no Inconsistency in product _size column**"
   ]
  },
  {
   "cell_type": "markdown",
   "id": "0050b006-339c-4012-bad8-bad7d8a12ec5",
   "metadata": {},
   "source": [
    "## 4. Duplication Checks"
   ]
  },
  {
   "cell_type": "code",
   "execution_count": 120,
   "id": "747beab7-7b66-4e23-8af7-d574ecf3e333",
   "metadata": {},
   "outputs": [
    {
     "data": {
      "text/plain": [
       "np.int64(19803)"
      ]
     },
     "execution_count": 120,
     "metadata": {},
     "output_type": "execute_result"
    }
   ],
   "source": [
    "transactions.duplicated().count()"
   ]
  },
  {
   "cell_type": "code",
   "execution_count": 121,
   "id": "a92b4e73-5deb-4c10-a21c-1df592052904",
   "metadata": {},
   "outputs": [
    {
     "data": {
      "text/plain": [
       "transaction_id             19803\n",
       "product_id                 19803\n",
       "customer_id                19803\n",
       "transaction_date           19803\n",
       "online_order               19803\n",
       "order_status               19803\n",
       "brand                      19803\n",
       "product_line               19803\n",
       "product_class              19803\n",
       "product_size               19803\n",
       "list_price                 19803\n",
       "standard_cost              19803\n",
       "product_first_sold_date    19803\n",
       "profit                     19803\n",
       "dtype: int64"
      ]
     },
     "execution_count": 121,
     "metadata": {},
     "output_type": "execute_result"
    }
   ],
   "source": [
    "transactions.count()"
   ]
  },
  {
   "cell_type": "code",
   "execution_count": 122,
   "id": "00d7d2db-a361-486d-859c-43fa33b8bdc4",
   "metadata": {},
   "outputs": [
    {
     "data": {
      "text/plain": [
       "19803"
      ]
     },
     "execution_count": 122,
     "metadata": {},
     "output_type": "execute_result"
    }
   ],
   "source": [
    "transactions.shape[0]"
   ]
  },
  {
   "cell_type": "markdown",
   "id": "b984bcfb-8286-4f49-92b5-6e4ad97acbd5",
   "metadata": {},
   "source": [
    "**Since both the numbers are same. There are no duplicate records in the dataset**"
   ]
  },
  {
   "cell_type": "markdown",
   "id": "c04d937d-cb82-4254-969a-df46de2caed4",
   "metadata": {},
   "source": [
    "## 5. Exporting the Cleaned transaction DataSet to csv\n"
   ]
  },
  {
   "cell_type": "code",
   "execution_count": 123,
   "id": "ca64e65b-bc16-45da-bf19-46676c483b09",
   "metadata": {},
   "outputs": [],
   "source": [
    "transactions.to_csv('Transactions_Cleaned.csv', index = False)"
   ]
  },
  {
   "cell_type": "code",
   "execution_count": null,
   "id": "39617a9a-907d-4813-914b-3023c22e4252",
   "metadata": {},
   "outputs": [],
   "source": []
  },
  {
   "cell_type": "markdown",
   "id": "330196b8-e3ff-490a-ac22-5ae0fa9f3e7d",
   "metadata": {},
   "source": [
    "## ------------------------------------------------- END -------------------------------------------------------"
   ]
  },
  {
   "cell_type": "code",
   "execution_count": 124,
   "id": "5596d4d8-d269-4139-ac2b-f7104dba6c2e",
   "metadata": {},
   "outputs": [],
   "source": [
    "# Merging both the Transaction Dataset and Customer Demographics Dataset based on customer_id.\n",
    "\n",
    "merg_trans_cust = transactions.merge(cust_demo, on = 'customer_id', how = 'inner')"
   ]
  },
  {
   "cell_type": "code",
   "execution_count": 125,
   "id": "e89ff217-93f1-4985-8e1c-dcde2d709065",
   "metadata": {},
   "outputs": [
    {
     "name": "stdout",
     "output_type": "stream",
     "text": [
      "<class 'pandas.core.frame.DataFrame'>\n",
      "RangeIndex: 19354 entries, 0 to 19353\n",
      "Data columns (total 26 columns):\n",
      " #   Column                               Non-Null Count  Dtype         \n",
      "---  ------                               --------------  -----         \n",
      " 0   transaction_id                       19354 non-null  int64         \n",
      " 1   product_id                           19354 non-null  int64         \n",
      " 2   customer_id                          19354 non-null  int64         \n",
      " 3   transaction_date                     19354 non-null  datetime64[ns]\n",
      " 4   online_order                         19354 non-null  float64       \n",
      " 5   order_status                         19354 non-null  object        \n",
      " 6   brand                                19354 non-null  object        \n",
      " 7   product_line                         19354 non-null  object        \n",
      " 8   product_class                        19354 non-null  object        \n",
      " 9   product_size                         19354 non-null  object        \n",
      " 10  list_price                           19354 non-null  float64       \n",
      " 11  standard_cost                        19354 non-null  float64       \n",
      " 12  product_first_sold_date              19354 non-null  float64       \n",
      " 13  profit                               19354 non-null  float64       \n",
      " 14  first_name                           19354 non-null  object        \n",
      " 15  last_name                            19354 non-null  object        \n",
      " 16  gender                               19354 non-null  object        \n",
      " 17  past_3_years_bike_related_purchases  19354 non-null  int64         \n",
      " 18  DOB                                  19354 non-null  datetime64[ns]\n",
      " 19  job_title                            19354 non-null  object        \n",
      " 20  job_industry_category                19354 non-null  object        \n",
      " 21  wealth_segment                       19354 non-null  object        \n",
      " 22  deceased_indicator                   19354 non-null  object        \n",
      " 23  owns_car                             19354 non-null  object        \n",
      " 24  tenure                               19354 non-null  float64       \n",
      " 25  age                                  19354 non-null  int64         \n",
      "dtypes: datetime64[ns](2), float64(6), int64(5), object(13)\n",
      "memory usage: 3.8+ MB\n"
     ]
    }
   ],
   "source": [
    "merg_trans_cust.info()"
   ]
  },
  {
   "cell_type": "code",
   "execution_count": null,
   "id": "4880d264-bb61-42aa-a0e4-9b3f290eed5b",
   "metadata": {},
   "outputs": [],
   "source": []
  },
  {
   "cell_type": "markdown",
   "id": "00c8132d-ee67-425e-a317-17beda0f5cef",
   "metadata": {},
   "source": [
    "## 1. RFM Analysis"
   ]
  },
  {
   "cell_type": "code",
   "execution_count": 126,
   "id": "ca5b88f3-6477-4de3-be4f-5d5041fc5b27",
   "metadata": {},
   "outputs": [
    {
     "data": {
      "text/plain": [
       "Timestamp('2017-12-30 00:00:00')"
      ]
     },
     "execution_count": 126,
     "metadata": {},
     "output_type": "execute_result"
    }
   ],
   "source": [
    "# the latest transaction date\n",
    "\n",
    "last_trans_date = merg_trans_cust['transaction_date'].max()\n",
    "last_trans_date"
   ]
  },
  {
   "cell_type": "markdown",
   "id": "577f2050-46fa-457b-baed-d9f8f066862f",
   "metadata": {},
   "source": [
    "**Taking the last transaction date as a reference date for comparision and \n",
    "finding the number of days between a transaction date and last transaction date to compute the recency.**\n",
    "\n",
    "**Creating a RFM table that will contain all the values for recency , frequency and Monetray data.** "
   ]
  },
  {
   "cell_type": "code",
   "execution_count": 127,
   "id": "e031908c-576b-4ca4-9e06-89b81937784f",
   "metadata": {},
   "outputs": [],
   "source": [
    "# Creating a RFM table that will contain all the values for recency , frequency and Monetray data. \n",
    "\n",
    "rfm_table = merg_trans_cust.groupby(['customer_id']).agg({'transaction_date': lambda date : (last_trans_date - date.max()).days,\n",
    "                                             'transaction_id': 'count',\n",
    "                                             'profit': 'sum'})"
   ]
  },
  {
   "cell_type": "code",
   "execution_count": 128,
   "id": "1c903b69-84c2-48bc-841c-5c5d843aa35e",
   "metadata": {},
   "outputs": [
    {
     "data": {
      "text/html": [
       "<div>\n",
       "<style scoped>\n",
       "    .dataframe tbody tr th:only-of-type {\n",
       "        vertical-align: middle;\n",
       "    }\n",
       "\n",
       "    .dataframe tbody tr th {\n",
       "        vertical-align: top;\n",
       "    }\n",
       "\n",
       "    .dataframe thead th {\n",
       "        text-align: right;\n",
       "    }\n",
       "</style>\n",
       "<table border=\"1\" class=\"dataframe\">\n",
       "  <thead>\n",
       "    <tr style=\"text-align: right;\">\n",
       "      <th></th>\n",
       "      <th>transaction_date</th>\n",
       "      <th>transaction_id</th>\n",
       "      <th>profit</th>\n",
       "    </tr>\n",
       "    <tr>\n",
       "      <th>customer_id</th>\n",
       "      <th></th>\n",
       "      <th></th>\n",
       "      <th></th>\n",
       "    </tr>\n",
       "  </thead>\n",
       "  <tbody>\n",
       "    <tr>\n",
       "      <th>1</th>\n",
       "      <td>7</td>\n",
       "      <td>11</td>\n",
       "      <td>3018.09</td>\n",
       "    </tr>\n",
       "    <tr>\n",
       "      <th>2</th>\n",
       "      <td>128</td>\n",
       "      <td>3</td>\n",
       "      <td>2226.26</td>\n",
       "    </tr>\n",
       "    <tr>\n",
       "      <th>3</th>\n",
       "      <td>102</td>\n",
       "      <td>8</td>\n",
       "      <td>3362.81</td>\n",
       "    </tr>\n",
       "    <tr>\n",
       "      <th>4</th>\n",
       "      <td>195</td>\n",
       "      <td>2</td>\n",
       "      <td>220.57</td>\n",
       "    </tr>\n",
       "    <tr>\n",
       "      <th>5</th>\n",
       "      <td>16</td>\n",
       "      <td>6</td>\n",
       "      <td>2394.94</td>\n",
       "    </tr>\n",
       "  </tbody>\n",
       "</table>\n",
       "</div>"
      ],
      "text/plain": [
       "             transaction_date  transaction_id   profit\n",
       "customer_id                                           \n",
       "1                           7              11  3018.09\n",
       "2                         128               3  2226.26\n",
       "3                         102               8  3362.81\n",
       "4                         195               2   220.57\n",
       "5                          16               6  2394.94"
      ]
     },
     "execution_count": 128,
     "metadata": {},
     "output_type": "execute_result"
    }
   ],
   "source": [
    "rfm_table.head()"
   ]
  },
  {
   "cell_type": "code",
   "execution_count": 129,
   "id": "26626ba1-4977-4548-a492-73ef935f51cf",
   "metadata": {},
   "outputs": [],
   "source": [
    "# Renaming column names to appropiate names\n",
    "\n",
    "rfm_table.rename(columns = {'transaction_date': 'recency',\n",
    "                           'transaction_id': 'frequency',\n",
    "                            'profit':'monetary'}, inplace = True)"
   ]
  },
  {
   "cell_type": "code",
   "execution_count": 130,
   "id": "d555f998-7643-4f46-86db-f800d0e24f27",
   "metadata": {},
   "outputs": [
    {
     "data": {
      "text/html": [
       "<div>\n",
       "<style scoped>\n",
       "    .dataframe tbody tr th:only-of-type {\n",
       "        vertical-align: middle;\n",
       "    }\n",
       "\n",
       "    .dataframe tbody tr th {\n",
       "        vertical-align: top;\n",
       "    }\n",
       "\n",
       "    .dataframe thead th {\n",
       "        text-align: right;\n",
       "    }\n",
       "</style>\n",
       "<table border=\"1\" class=\"dataframe\">\n",
       "  <thead>\n",
       "    <tr style=\"text-align: right;\">\n",
       "      <th></th>\n",
       "      <th>recency</th>\n",
       "      <th>frequency</th>\n",
       "      <th>monetary</th>\n",
       "    </tr>\n",
       "  </thead>\n",
       "  <tbody>\n",
       "    <tr>\n",
       "      <th>count</th>\n",
       "      <td>3416.000000</td>\n",
       "      <td>3416.000000</td>\n",
       "      <td>3416.000000</td>\n",
       "    </tr>\n",
       "    <tr>\n",
       "      <th>mean</th>\n",
       "      <td>61.636710</td>\n",
       "      <td>5.665691</td>\n",
       "      <td>3120.489830</td>\n",
       "    </tr>\n",
       "    <tr>\n",
       "      <th>std</th>\n",
       "      <td>58.528636</td>\n",
       "      <td>2.310852</td>\n",
       "      <td>1770.197523</td>\n",
       "    </tr>\n",
       "    <tr>\n",
       "      <th>min</th>\n",
       "      <td>0.000000</td>\n",
       "      <td>1.000000</td>\n",
       "      <td>15.080000</td>\n",
       "    </tr>\n",
       "    <tr>\n",
       "      <th>25%</th>\n",
       "      <td>18.000000</td>\n",
       "      <td>4.000000</td>\n",
       "      <td>1834.892500</td>\n",
       "    </tr>\n",
       "    <tr>\n",
       "      <th>50%</th>\n",
       "      <td>44.000000</td>\n",
       "      <td>6.000000</td>\n",
       "      <td>2848.865000</td>\n",
       "    </tr>\n",
       "    <tr>\n",
       "      <th>75%</th>\n",
       "      <td>86.000000</td>\n",
       "      <td>7.000000</td>\n",
       "      <td>4170.790000</td>\n",
       "    </tr>\n",
       "    <tr>\n",
       "      <th>max</th>\n",
       "      <td>353.000000</td>\n",
       "      <td>14.000000</td>\n",
       "      <td>11668.950000</td>\n",
       "    </tr>\n",
       "  </tbody>\n",
       "</table>\n",
       "</div>"
      ],
      "text/plain": [
       "           recency    frequency      monetary\n",
       "count  3416.000000  3416.000000   3416.000000\n",
       "mean     61.636710     5.665691   3120.489830\n",
       "std      58.528636     2.310852   1770.197523\n",
       "min       0.000000     1.000000     15.080000\n",
       "25%      18.000000     4.000000   1834.892500\n",
       "50%      44.000000     6.000000   2848.865000\n",
       "75%      86.000000     7.000000   4170.790000\n",
       "max     353.000000    14.000000  11668.950000"
      ]
     },
     "execution_count": 130,
     "metadata": {},
     "output_type": "execute_result"
    }
   ],
   "source": [
    "rfm_table.describe()"
   ]
  },
  {
   "cell_type": "code",
   "execution_count": 131,
   "id": "8bdef2e7-998e-4ac9-9d7a-f189e9dfbf1c",
   "metadata": {},
   "outputs": [],
   "source": [
    "# Dividing the recency, frequency and monetary into 4 quartiles (25%, 50%, 75% and max).\n",
    "# These values will help us to calculate RFM score for a customer and classify based on their RFM score.\n",
    "\n",
    "rfm_table['r_quartile'] = pd.qcut(rfm_table['recency'], 4, ['4','3','2','1'])\n",
    "rfm_table['f_quartile'] = pd.qcut(rfm_table['frequency'], 4, ['1','2','3','4'])\n",
    "rfm_table['m_quartile'] = pd.qcut(rfm_table['monetary'], 4, ['1','2','3','4'])"
   ]
  },
  {
   "cell_type": "code",
   "execution_count": 132,
   "id": "485b8dc8-9046-41ea-af42-64dfa22b3807",
   "metadata": {},
   "outputs": [
    {
     "data": {
      "text/html": [
       "<div>\n",
       "<style scoped>\n",
       "    .dataframe tbody tr th:only-of-type {\n",
       "        vertical-align: middle;\n",
       "    }\n",
       "\n",
       "    .dataframe tbody tr th {\n",
       "        vertical-align: top;\n",
       "    }\n",
       "\n",
       "    .dataframe thead th {\n",
       "        text-align: right;\n",
       "    }\n",
       "</style>\n",
       "<table border=\"1\" class=\"dataframe\">\n",
       "  <thead>\n",
       "    <tr style=\"text-align: right;\">\n",
       "      <th></th>\n",
       "      <th>recency</th>\n",
       "      <th>frequency</th>\n",
       "      <th>monetary</th>\n",
       "      <th>r_quartile</th>\n",
       "      <th>f_quartile</th>\n",
       "      <th>m_quartile</th>\n",
       "    </tr>\n",
       "    <tr>\n",
       "      <th>customer_id</th>\n",
       "      <th></th>\n",
       "      <th></th>\n",
       "      <th></th>\n",
       "      <th></th>\n",
       "      <th></th>\n",
       "      <th></th>\n",
       "    </tr>\n",
       "  </thead>\n",
       "  <tbody>\n",
       "    <tr>\n",
       "      <th>1</th>\n",
       "      <td>7</td>\n",
       "      <td>11</td>\n",
       "      <td>3018.09</td>\n",
       "      <td>4</td>\n",
       "      <td>4</td>\n",
       "      <td>3</td>\n",
       "    </tr>\n",
       "    <tr>\n",
       "      <th>2</th>\n",
       "      <td>128</td>\n",
       "      <td>3</td>\n",
       "      <td>2226.26</td>\n",
       "      <td>1</td>\n",
       "      <td>1</td>\n",
       "      <td>2</td>\n",
       "    </tr>\n",
       "    <tr>\n",
       "      <th>3</th>\n",
       "      <td>102</td>\n",
       "      <td>8</td>\n",
       "      <td>3362.81</td>\n",
       "      <td>1</td>\n",
       "      <td>4</td>\n",
       "      <td>3</td>\n",
       "    </tr>\n",
       "    <tr>\n",
       "      <th>4</th>\n",
       "      <td>195</td>\n",
       "      <td>2</td>\n",
       "      <td>220.57</td>\n",
       "      <td>1</td>\n",
       "      <td>1</td>\n",
       "      <td>1</td>\n",
       "    </tr>\n",
       "    <tr>\n",
       "      <th>5</th>\n",
       "      <td>16</td>\n",
       "      <td>6</td>\n",
       "      <td>2394.94</td>\n",
       "      <td>4</td>\n",
       "      <td>2</td>\n",
       "      <td>2</td>\n",
       "    </tr>\n",
       "  </tbody>\n",
       "</table>\n",
       "</div>"
      ],
      "text/plain": [
       "             recency  frequency  monetary r_quartile f_quartile m_quartile\n",
       "customer_id                                                               \n",
       "1                  7         11   3018.09          4          4          3\n",
       "2                128          3   2226.26          1          1          2\n",
       "3                102          8   3362.81          1          4          3\n",
       "4                195          2    220.57          1          1          1\n",
       "5                 16          6   2394.94          4          2          2"
      ]
     },
     "execution_count": 132,
     "metadata": {},
     "output_type": "execute_result"
    }
   ],
   "source": [
    "rfm_table.head()"
   ]
  },
  {
   "cell_type": "code",
   "execution_count": 133,
   "id": "30b3f4d3-2de3-406f-913a-fb9b4b3ab0ef",
   "metadata": {},
   "outputs": [],
   "source": [
    "# created new column rfm_segment\n",
    "\n",
    "rfm_table['rfm_segment'] = rfm_table['r_quartile'].astype('str') + rfm_table['f_quartile'].astype('str') + rfm_table['m_quartile'].astype('str')"
   ]
  },
  {
   "cell_type": "code",
   "execution_count": 134,
   "id": "8780514a-817b-4925-afb0-aac4f1ddf891",
   "metadata": {},
   "outputs": [],
   "source": [
    "# Caluclation of RFM Score.\n",
    "# created new column rfm_score\n",
    "rfm_table['rfm_score'] = rfm_table[['r_quartile', 'f_quartile', 'm_quartile']].astype('int').sum(axis = 1)"
   ]
  },
  {
   "cell_type": "code",
   "execution_count": 135,
   "id": "544ae9df-1cb2-4a8d-a3a0-ddf193a056f0",
   "metadata": {},
   "outputs": [
    {
     "data": {
      "text/html": [
       "<div>\n",
       "<style scoped>\n",
       "    .dataframe tbody tr th:only-of-type {\n",
       "        vertical-align: middle;\n",
       "    }\n",
       "\n",
       "    .dataframe tbody tr th {\n",
       "        vertical-align: top;\n",
       "    }\n",
       "\n",
       "    .dataframe thead th {\n",
       "        text-align: right;\n",
       "    }\n",
       "</style>\n",
       "<table border=\"1\" class=\"dataframe\">\n",
       "  <thead>\n",
       "    <tr style=\"text-align: right;\">\n",
       "      <th></th>\n",
       "      <th>recency</th>\n",
       "      <th>frequency</th>\n",
       "      <th>monetary</th>\n",
       "      <th>r_quartile</th>\n",
       "      <th>f_quartile</th>\n",
       "      <th>m_quartile</th>\n",
       "      <th>rfm_segment</th>\n",
       "      <th>rfm_score</th>\n",
       "    </tr>\n",
       "    <tr>\n",
       "      <th>customer_id</th>\n",
       "      <th></th>\n",
       "      <th></th>\n",
       "      <th></th>\n",
       "      <th></th>\n",
       "      <th></th>\n",
       "      <th></th>\n",
       "      <th></th>\n",
       "      <th></th>\n",
       "    </tr>\n",
       "  </thead>\n",
       "  <tbody>\n",
       "    <tr>\n",
       "      <th>1</th>\n",
       "      <td>7</td>\n",
       "      <td>11</td>\n",
       "      <td>3018.09</td>\n",
       "      <td>4</td>\n",
       "      <td>4</td>\n",
       "      <td>3</td>\n",
       "      <td>443</td>\n",
       "      <td>11</td>\n",
       "    </tr>\n",
       "    <tr>\n",
       "      <th>2</th>\n",
       "      <td>128</td>\n",
       "      <td>3</td>\n",
       "      <td>2226.26</td>\n",
       "      <td>1</td>\n",
       "      <td>1</td>\n",
       "      <td>2</td>\n",
       "      <td>112</td>\n",
       "      <td>4</td>\n",
       "    </tr>\n",
       "    <tr>\n",
       "      <th>3</th>\n",
       "      <td>102</td>\n",
       "      <td>8</td>\n",
       "      <td>3362.81</td>\n",
       "      <td>1</td>\n",
       "      <td>4</td>\n",
       "      <td>3</td>\n",
       "      <td>143</td>\n",
       "      <td>8</td>\n",
       "    </tr>\n",
       "    <tr>\n",
       "      <th>4</th>\n",
       "      <td>195</td>\n",
       "      <td>2</td>\n",
       "      <td>220.57</td>\n",
       "      <td>1</td>\n",
       "      <td>1</td>\n",
       "      <td>1</td>\n",
       "      <td>111</td>\n",
       "      <td>3</td>\n",
       "    </tr>\n",
       "    <tr>\n",
       "      <th>5</th>\n",
       "      <td>16</td>\n",
       "      <td>6</td>\n",
       "      <td>2394.94</td>\n",
       "      <td>4</td>\n",
       "      <td>2</td>\n",
       "      <td>2</td>\n",
       "      <td>422</td>\n",
       "      <td>8</td>\n",
       "    </tr>\n",
       "  </tbody>\n",
       "</table>\n",
       "</div>"
      ],
      "text/plain": [
       "             recency  frequency  monetary r_quartile f_quartile m_quartile  \\\n",
       "customer_id                                                                  \n",
       "1                  7         11   3018.09          4          4          3   \n",
       "2                128          3   2226.26          1          1          2   \n",
       "3                102          8   3362.81          1          4          3   \n",
       "4                195          2    220.57          1          1          1   \n",
       "5                 16          6   2394.94          4          2          2   \n",
       "\n",
       "            rfm_segment  rfm_score  \n",
       "customer_id                         \n",
       "1                   443         11  \n",
       "2                   112          4  \n",
       "3                   143          8  \n",
       "4                   111          3  \n",
       "5                   422          8  "
      ]
     },
     "execution_count": 135,
     "metadata": {},
     "output_type": "execute_result"
    }
   ],
   "source": [
    "rfm_table.head()"
   ]
  },
  {
   "cell_type": "code",
   "execution_count": 136,
   "id": "aa6b1538-c2fe-4d6f-8e1a-0bb438c56b13",
   "metadata": {},
   "outputs": [],
   "source": [
    "# # Assigning a title to a customer.\n",
    "rfm_table['customer_rfm_label'] = pd.qcut(rfm_table['rfm_score'], 4, ['Bronze','Silver','Gold','Platinum'])"
   ]
  },
  {
   "cell_type": "code",
   "execution_count": 137,
   "id": "aff00ffa-95fa-4721-aea1-c8a9af05d0bc",
   "metadata": {},
   "outputs": [
    {
     "data": {
      "text/html": [
       "<div>\n",
       "<style scoped>\n",
       "    .dataframe tbody tr th:only-of-type {\n",
       "        vertical-align: middle;\n",
       "    }\n",
       "\n",
       "    .dataframe tbody tr th {\n",
       "        vertical-align: top;\n",
       "    }\n",
       "\n",
       "    .dataframe thead th {\n",
       "        text-align: right;\n",
       "    }\n",
       "</style>\n",
       "<table border=\"1\" class=\"dataframe\">\n",
       "  <thead>\n",
       "    <tr style=\"text-align: right;\">\n",
       "      <th></th>\n",
       "      <th>recency</th>\n",
       "      <th>frequency</th>\n",
       "      <th>monetary</th>\n",
       "      <th>r_quartile</th>\n",
       "      <th>f_quartile</th>\n",
       "      <th>m_quartile</th>\n",
       "      <th>rfm_segment</th>\n",
       "      <th>rfm_score</th>\n",
       "      <th>customer_rfm_label</th>\n",
       "    </tr>\n",
       "    <tr>\n",
       "      <th>customer_id</th>\n",
       "      <th></th>\n",
       "      <th></th>\n",
       "      <th></th>\n",
       "      <th></th>\n",
       "      <th></th>\n",
       "      <th></th>\n",
       "      <th></th>\n",
       "      <th></th>\n",
       "      <th></th>\n",
       "    </tr>\n",
       "  </thead>\n",
       "  <tbody>\n",
       "    <tr>\n",
       "      <th>1</th>\n",
       "      <td>7</td>\n",
       "      <td>11</td>\n",
       "      <td>3018.09</td>\n",
       "      <td>4</td>\n",
       "      <td>4</td>\n",
       "      <td>3</td>\n",
       "      <td>443</td>\n",
       "      <td>11</td>\n",
       "      <td>Platinum</td>\n",
       "    </tr>\n",
       "    <tr>\n",
       "      <th>2</th>\n",
       "      <td>128</td>\n",
       "      <td>3</td>\n",
       "      <td>2226.26</td>\n",
       "      <td>1</td>\n",
       "      <td>1</td>\n",
       "      <td>2</td>\n",
       "      <td>112</td>\n",
       "      <td>4</td>\n",
       "      <td>Bronze</td>\n",
       "    </tr>\n",
       "    <tr>\n",
       "      <th>3</th>\n",
       "      <td>102</td>\n",
       "      <td>8</td>\n",
       "      <td>3362.81</td>\n",
       "      <td>1</td>\n",
       "      <td>4</td>\n",
       "      <td>3</td>\n",
       "      <td>143</td>\n",
       "      <td>8</td>\n",
       "      <td>Gold</td>\n",
       "    </tr>\n",
       "    <tr>\n",
       "      <th>4</th>\n",
       "      <td>195</td>\n",
       "      <td>2</td>\n",
       "      <td>220.57</td>\n",
       "      <td>1</td>\n",
       "      <td>1</td>\n",
       "      <td>1</td>\n",
       "      <td>111</td>\n",
       "      <td>3</td>\n",
       "      <td>Bronze</td>\n",
       "    </tr>\n",
       "    <tr>\n",
       "      <th>5</th>\n",
       "      <td>16</td>\n",
       "      <td>6</td>\n",
       "      <td>2394.94</td>\n",
       "      <td>4</td>\n",
       "      <td>2</td>\n",
       "      <td>2</td>\n",
       "      <td>422</td>\n",
       "      <td>8</td>\n",
       "      <td>Gold</td>\n",
       "    </tr>\n",
       "    <tr>\n",
       "      <th>...</th>\n",
       "      <td>...</td>\n",
       "      <td>...</td>\n",
       "      <td>...</td>\n",
       "      <td>...</td>\n",
       "      <td>...</td>\n",
       "      <td>...</td>\n",
       "      <td>...</td>\n",
       "      <td>...</td>\n",
       "      <td>...</td>\n",
       "    </tr>\n",
       "    <tr>\n",
       "      <th>3496</th>\n",
       "      <td>256</td>\n",
       "      <td>4</td>\n",
       "      <td>2045.84</td>\n",
       "      <td>1</td>\n",
       "      <td>1</td>\n",
       "      <td>2</td>\n",
       "      <td>112</td>\n",
       "      <td>4</td>\n",
       "      <td>Bronze</td>\n",
       "    </tr>\n",
       "    <tr>\n",
       "      <th>3497</th>\n",
       "      <td>52</td>\n",
       "      <td>3</td>\n",
       "      <td>1648.32</td>\n",
       "      <td>2</td>\n",
       "      <td>1</td>\n",
       "      <td>1</td>\n",
       "      <td>211</td>\n",
       "      <td>4</td>\n",
       "      <td>Bronze</td>\n",
       "    </tr>\n",
       "    <tr>\n",
       "      <th>3498</th>\n",
       "      <td>127</td>\n",
       "      <td>6</td>\n",
       "      <td>3147.33</td>\n",
       "      <td>1</td>\n",
       "      <td>2</td>\n",
       "      <td>3</td>\n",
       "      <td>123</td>\n",
       "      <td>6</td>\n",
       "      <td>Silver</td>\n",
       "    </tr>\n",
       "    <tr>\n",
       "      <th>3499</th>\n",
       "      <td>51</td>\n",
       "      <td>7</td>\n",
       "      <td>4955.25</td>\n",
       "      <td>2</td>\n",
       "      <td>3</td>\n",
       "      <td>4</td>\n",
       "      <td>234</td>\n",
       "      <td>9</td>\n",
       "      <td>Gold</td>\n",
       "    </tr>\n",
       "    <tr>\n",
       "      <th>3500</th>\n",
       "      <td>144</td>\n",
       "      <td>6</td>\n",
       "      <td>1785.86</td>\n",
       "      <td>1</td>\n",
       "      <td>2</td>\n",
       "      <td>1</td>\n",
       "      <td>121</td>\n",
       "      <td>4</td>\n",
       "      <td>Bronze</td>\n",
       "    </tr>\n",
       "  </tbody>\n",
       "</table>\n",
       "<p>3416 rows × 9 columns</p>\n",
       "</div>"
      ],
      "text/plain": [
       "             recency  frequency  monetary r_quartile f_quartile m_quartile  \\\n",
       "customer_id                                                                  \n",
       "1                  7         11   3018.09          4          4          3   \n",
       "2                128          3   2226.26          1          1          2   \n",
       "3                102          8   3362.81          1          4          3   \n",
       "4                195          2    220.57          1          1          1   \n",
       "5                 16          6   2394.94          4          2          2   \n",
       "...              ...        ...       ...        ...        ...        ...   \n",
       "3496             256          4   2045.84          1          1          2   \n",
       "3497              52          3   1648.32          2          1          1   \n",
       "3498             127          6   3147.33          1          2          3   \n",
       "3499              51          7   4955.25          2          3          4   \n",
       "3500             144          6   1785.86          1          2          1   \n",
       "\n",
       "            rfm_segment  rfm_score customer_rfm_label  \n",
       "customer_id                                            \n",
       "1                   443         11           Platinum  \n",
       "2                   112          4             Bronze  \n",
       "3                   143          8               Gold  \n",
       "4                   111          3             Bronze  \n",
       "5                   422          8               Gold  \n",
       "...                 ...        ...                ...  \n",
       "3496                112          4             Bronze  \n",
       "3497                211          4             Bronze  \n",
       "3498                123          6             Silver  \n",
       "3499                234          9               Gold  \n",
       "3500                121          4             Bronze  \n",
       "\n",
       "[3416 rows x 9 columns]"
      ]
     },
     "execution_count": 137,
     "metadata": {},
     "output_type": "execute_result"
    }
   ],
   "source": [
    "rfm_table"
   ]
  },
  {
   "cell_type": "code",
   "execution_count": 138,
   "id": "addc7d8d-2a25-42a2-bdce-81f30b922646",
   "metadata": {},
   "outputs": [
    {
     "data": {
      "text/html": [
       "<div>\n",
       "<style scoped>\n",
       "    .dataframe tbody tr th:only-of-type {\n",
       "        vertical-align: middle;\n",
       "    }\n",
       "\n",
       "    .dataframe tbody tr th {\n",
       "        vertical-align: top;\n",
       "    }\n",
       "\n",
       "    .dataframe thead th {\n",
       "        text-align: right;\n",
       "    }\n",
       "</style>\n",
       "<table border=\"1\" class=\"dataframe\">\n",
       "  <thead>\n",
       "    <tr style=\"text-align: right;\">\n",
       "      <th></th>\n",
       "      <th>transaction_id</th>\n",
       "      <th>product_id</th>\n",
       "      <th>customer_id</th>\n",
       "      <th>transaction_date</th>\n",
       "      <th>online_order</th>\n",
       "      <th>order_status</th>\n",
       "      <th>brand</th>\n",
       "      <th>product_line</th>\n",
       "      <th>product_class</th>\n",
       "      <th>product_size</th>\n",
       "      <th>...</th>\n",
       "      <th>past_3_years_bike_related_purchases</th>\n",
       "      <th>DOB</th>\n",
       "      <th>job_title</th>\n",
       "      <th>job_industry_category</th>\n",
       "      <th>wealth_segment</th>\n",
       "      <th>deceased_indicator</th>\n",
       "      <th>owns_car</th>\n",
       "      <th>tenure</th>\n",
       "      <th>age</th>\n",
       "      <th>age_group</th>\n",
       "    </tr>\n",
       "  </thead>\n",
       "  <tbody>\n",
       "    <tr>\n",
       "      <th>0</th>\n",
       "      <td>1</td>\n",
       "      <td>2</td>\n",
       "      <td>2950</td>\n",
       "      <td>2017-02-25</td>\n",
       "      <td>0.0</td>\n",
       "      <td>Approved</td>\n",
       "      <td>Solex</td>\n",
       "      <td>Standard</td>\n",
       "      <td>medium</td>\n",
       "      <td>medium</td>\n",
       "      <td>...</td>\n",
       "      <td>19</td>\n",
       "      <td>1955-01-11</td>\n",
       "      <td>Software Engineer I</td>\n",
       "      <td>Financial Services</td>\n",
       "      <td>Mass Customer</td>\n",
       "      <td>N</td>\n",
       "      <td>Yes</td>\n",
       "      <td>10.0</td>\n",
       "      <td>70</td>\n",
       "      <td>80</td>\n",
       "    </tr>\n",
       "    <tr>\n",
       "      <th>1</th>\n",
       "      <td>2</td>\n",
       "      <td>3</td>\n",
       "      <td>3120</td>\n",
       "      <td>2017-05-21</td>\n",
       "      <td>1.0</td>\n",
       "      <td>Approved</td>\n",
       "      <td>Trek Bicycles</td>\n",
       "      <td>Standard</td>\n",
       "      <td>medium</td>\n",
       "      <td>large</td>\n",
       "      <td>...</td>\n",
       "      <td>89</td>\n",
       "      <td>1979-02-04</td>\n",
       "      <td>Clinical Specialist</td>\n",
       "      <td>Health</td>\n",
       "      <td>Mass Customer</td>\n",
       "      <td>N</td>\n",
       "      <td>Yes</td>\n",
       "      <td>10.0</td>\n",
       "      <td>45</td>\n",
       "      <td>50</td>\n",
       "    </tr>\n",
       "    <tr>\n",
       "      <th>2</th>\n",
       "      <td>3</td>\n",
       "      <td>37</td>\n",
       "      <td>402</td>\n",
       "      <td>2017-10-16</td>\n",
       "      <td>0.0</td>\n",
       "      <td>Approved</td>\n",
       "      <td>OHM Cycles</td>\n",
       "      <td>Standard</td>\n",
       "      <td>low</td>\n",
       "      <td>medium</td>\n",
       "      <td>...</td>\n",
       "      <td>9</td>\n",
       "      <td>1977-06-03</td>\n",
       "      <td>Desktop Support Technician</td>\n",
       "      <td>Retail</td>\n",
       "      <td>Affluent Customer</td>\n",
       "      <td>N</td>\n",
       "      <td>No</td>\n",
       "      <td>22.0</td>\n",
       "      <td>47</td>\n",
       "      <td>50</td>\n",
       "    </tr>\n",
       "    <tr>\n",
       "      <th>3</th>\n",
       "      <td>4</td>\n",
       "      <td>88</td>\n",
       "      <td>3135</td>\n",
       "      <td>2017-08-31</td>\n",
       "      <td>0.0</td>\n",
       "      <td>Approved</td>\n",
       "      <td>Norco Bicycles</td>\n",
       "      <td>Standard</td>\n",
       "      <td>medium</td>\n",
       "      <td>medium</td>\n",
       "      <td>...</td>\n",
       "      <td>83</td>\n",
       "      <td>1962-01-14</td>\n",
       "      <td>Staff Scientist</td>\n",
       "      <td>Financial Services</td>\n",
       "      <td>Mass Customer</td>\n",
       "      <td>N</td>\n",
       "      <td>No</td>\n",
       "      <td>16.0</td>\n",
       "      <td>63</td>\n",
       "      <td>70</td>\n",
       "    </tr>\n",
       "    <tr>\n",
       "      <th>4</th>\n",
       "      <td>5</td>\n",
       "      <td>78</td>\n",
       "      <td>787</td>\n",
       "      <td>2017-10-01</td>\n",
       "      <td>1.0</td>\n",
       "      <td>Approved</td>\n",
       "      <td>Giant Bicycles</td>\n",
       "      <td>Standard</td>\n",
       "      <td>medium</td>\n",
       "      <td>large</td>\n",
       "      <td>...</td>\n",
       "      <td>29</td>\n",
       "      <td>1996-12-15</td>\n",
       "      <td>Missing</td>\n",
       "      <td>Retail</td>\n",
       "      <td>Affluent Customer</td>\n",
       "      <td>N</td>\n",
       "      <td>Yes</td>\n",
       "      <td>2.0</td>\n",
       "      <td>28</td>\n",
       "      <td>30</td>\n",
       "    </tr>\n",
       "  </tbody>\n",
       "</table>\n",
       "<p>5 rows × 27 columns</p>\n",
       "</div>"
      ],
      "text/plain": [
       "   transaction_id  product_id  customer_id transaction_date  online_order  \\\n",
       "0               1           2         2950       2017-02-25           0.0   \n",
       "1               2           3         3120       2017-05-21           1.0   \n",
       "2               3          37          402       2017-10-16           0.0   \n",
       "3               4          88         3135       2017-08-31           0.0   \n",
       "4               5          78          787       2017-10-01           1.0   \n",
       "\n",
       "  order_status           brand product_line product_class product_size  ...  \\\n",
       "0     Approved           Solex     Standard        medium       medium  ...   \n",
       "1     Approved   Trek Bicycles     Standard        medium        large  ...   \n",
       "2     Approved      OHM Cycles     Standard           low       medium  ...   \n",
       "3     Approved  Norco Bicycles     Standard        medium       medium  ...   \n",
       "4     Approved  Giant Bicycles     Standard        medium        large  ...   \n",
       "\n",
       "   past_3_years_bike_related_purchases        DOB                   job_title  \\\n",
       "0                                   19 1955-01-11         Software Engineer I   \n",
       "1                                   89 1979-02-04         Clinical Specialist   \n",
       "2                                    9 1977-06-03  Desktop Support Technician   \n",
       "3                                   83 1962-01-14             Staff Scientist   \n",
       "4                                   29 1996-12-15                     Missing   \n",
       "\n",
       "   job_industry_category     wealth_segment deceased_indicator owns_car  \\\n",
       "0     Financial Services      Mass Customer                  N      Yes   \n",
       "1                 Health      Mass Customer                  N      Yes   \n",
       "2                 Retail  Affluent Customer                  N       No   \n",
       "3     Financial Services      Mass Customer                  N       No   \n",
       "4                 Retail  Affluent Customer                  N      Yes   \n",
       "\n",
       "   tenure age age_group  \n",
       "0    10.0  70        80  \n",
       "1    10.0  45        50  \n",
       "2    22.0  47        50  \n",
       "3    16.0  63        70  \n",
       "4     2.0  28        30  \n",
       "\n",
       "[5 rows x 27 columns]"
      ]
     },
     "execution_count": 138,
     "metadata": {},
     "output_type": "execute_result"
    }
   ],
   "source": [
    "merg_trans_cust['age_group'] = merg_trans_cust['age'].apply(lambda x : (math.floor(x/10)+1)*10)\n",
    "merg_trans_cust.head()"
   ]
  },
  {
   "cell_type": "markdown",
   "id": "b53ba7a7-1067-45b9-8b4b-0031f3528eea",
   "metadata": {},
   "source": [
    "## Merging both RFM Table with Transaction and Customer Tables\n",
    "The RFM_Table dataframe is merged with the Transactions and Customer Demographics datasets, to gain depper insights of Customer Segemnts along with transactions. The dataframes are joined based on customer_ids from both the datasets"
   ]
  },
  {
   "cell_type": "code",
   "execution_count": 139,
   "id": "b4d42262-3a6d-46e7-9aae-02b643359f69",
   "metadata": {},
   "outputs": [],
   "source": [
    "cust_trans_rfm = merg_trans_cust.merge(rfm_table, on = 'customer_id', how = 'inner')"
   ]
  },
  {
   "cell_type": "code",
   "execution_count": 140,
   "id": "21802ae9-36bc-4ffb-ac19-83396c08a70b",
   "metadata": {},
   "outputs": [
    {
     "name": "stdout",
     "output_type": "stream",
     "text": [
      "<class 'pandas.core.frame.DataFrame'>\n",
      "RangeIndex: 19354 entries, 0 to 19353\n",
      "Data columns (total 36 columns):\n",
      " #   Column                               Non-Null Count  Dtype         \n",
      "---  ------                               --------------  -----         \n",
      " 0   transaction_id                       19354 non-null  int64         \n",
      " 1   product_id                           19354 non-null  int64         \n",
      " 2   customer_id                          19354 non-null  int64         \n",
      " 3   transaction_date                     19354 non-null  datetime64[ns]\n",
      " 4   online_order                         19354 non-null  float64       \n",
      " 5   order_status                         19354 non-null  object        \n",
      " 6   brand                                19354 non-null  object        \n",
      " 7   product_line                         19354 non-null  object        \n",
      " 8   product_class                        19354 non-null  object        \n",
      " 9   product_size                         19354 non-null  object        \n",
      " 10  list_price                           19354 non-null  float64       \n",
      " 11  standard_cost                        19354 non-null  float64       \n",
      " 12  product_first_sold_date              19354 non-null  float64       \n",
      " 13  profit                               19354 non-null  float64       \n",
      " 14  first_name                           19354 non-null  object        \n",
      " 15  last_name                            19354 non-null  object        \n",
      " 16  gender                               19354 non-null  object        \n",
      " 17  past_3_years_bike_related_purchases  19354 non-null  int64         \n",
      " 18  DOB                                  19354 non-null  datetime64[ns]\n",
      " 19  job_title                            19354 non-null  object        \n",
      " 20  job_industry_category                19354 non-null  object        \n",
      " 21  wealth_segment                       19354 non-null  object        \n",
      " 22  deceased_indicator                   19354 non-null  object        \n",
      " 23  owns_car                             19354 non-null  object        \n",
      " 24  tenure                               19354 non-null  float64       \n",
      " 25  age                                  19354 non-null  int64         \n",
      " 26  age_group                            19354 non-null  int64         \n",
      " 27  recency                              19354 non-null  int64         \n",
      " 28  frequency                            19354 non-null  int64         \n",
      " 29  monetary                             19354 non-null  float64       \n",
      " 30  r_quartile                           19354 non-null  category      \n",
      " 31  f_quartile                           19354 non-null  category      \n",
      " 32  m_quartile                           19354 non-null  category      \n",
      " 33  rfm_segment                          19354 non-null  object        \n",
      " 34  rfm_score                            19354 non-null  int64         \n",
      " 35  customer_rfm_label                   19354 non-null  category      \n",
      "dtypes: category(4), datetime64[ns](2), float64(7), int64(9), object(14)\n",
      "memory usage: 4.8+ MB\n"
     ]
    }
   ],
   "source": [
    "cust_trans_rfm.info()"
   ]
  },
  {
   "cell_type": "markdown",
   "id": "61cac403-7dab-4dbb-8b73-04ade91ac107",
   "metadata": {},
   "source": [
    "## Creating a Detail Customer title / tag based on RFM Segment\n",
    "An extended version of customer title is made which divides the entire number of customers into 11 groups. The groups are mainly Platinum Customers, Very Loyal, Becoming Loyal, Recent Customers, Potential Customers, Late Bloomer, Loosing Customers, High Risk Customers, Almost Lost Customers, Evasive Customers and Lost Customers.\n",
    "The demarkation of customers into the above mentioned groups is based on their RFM scores."
   ]
  },
  {
   "cell_type": "code",
   "execution_count": 141,
   "id": "16c4a3b5-435e-4cfa-9e68-b58c61d72b98",
   "metadata": {},
   "outputs": [],
   "source": [
    "# Function as a lookup to appropiate customer titles based on RFM score.\n",
    "\n",
    "def cust_score_title_lkup(cols):\n",
    "    \n",
    "    rfm_score = cols[0]\n",
    "    \n",
    "    if rfm_score >= 444:\n",
    "        return 'Platinum Customer'\n",
    "    elif rfm_score >=433 and rfm_score < 444:\n",
    "        return 'Very Loyal'\n",
    "    elif rfm_score >=421 and rfm_score < 433:\n",
    "        return 'Becoming Loyal'\n",
    "    elif rfm_score >=344 and rfm_score < 421:\n",
    "        return 'Recent Customer'\n",
    "    elif rfm_score >=323 and rfm_score < 344:\n",
    "        return 'Potential Customer'\n",
    "    elif rfm_score >=311 and rfm_score < 323:\n",
    "        return 'Late Bloomer'\n",
    "    elif rfm_score >=224 and rfm_score < 311:\n",
    "        return 'Loosing Customer'\n",
    "    elif rfm_score >=212 and rfm_score < 224:\n",
    "        return 'High Risk Customer'\n",
    "    elif rfm_score >=124 and rfm_score < 212:\n",
    "        return 'Almost Lost Customer'\n",
    "    elif rfm_score >=112 and rfm_score < 124:\n",
    "        return 'Evasive Customer'\n",
    "    else :\n",
    "        return 'Lost Customer'"
   ]
  },
  {
   "cell_type": "code",
   "execution_count": 142,
   "id": "a42b1a27-1941-400e-8e9d-a4629a072cfa",
   "metadata": {},
   "outputs": [
    {
     "name": "stderr",
     "output_type": "stream",
     "text": [
      "C:\\Users\\Bhask\\AppData\\Local\\Temp\\ipykernel_15380\\1375572388.py:5: FutureWarning: Series.__getitem__ treating keys as positions is deprecated. In a future version, integer keys will always be treated as labels (consistent with DataFrame behavior). To access a value by position, use `ser.iloc[pos]`\n",
      "  rfm_score = cols[0]\n"
     ]
    }
   ],
   "source": [
    "cust_trans_rfm['detail_cust_title']= cust_trans_rfm[['rfm_segment']].astype('int').apply(cust_score_title_lkup, axis = 1)"
   ]
  },
  {
   "cell_type": "code",
   "execution_count": 143,
   "id": "67eb6b19-a372-492e-8acb-8ffd4c33d3b6",
   "metadata": {},
   "outputs": [
    {
     "name": "stdout",
     "output_type": "stream",
     "text": [
      "<class 'pandas.core.frame.DataFrame'>\n",
      "RangeIndex: 19354 entries, 0 to 19353\n",
      "Data columns (total 37 columns):\n",
      " #   Column                               Non-Null Count  Dtype         \n",
      "---  ------                               --------------  -----         \n",
      " 0   transaction_id                       19354 non-null  int64         \n",
      " 1   product_id                           19354 non-null  int64         \n",
      " 2   customer_id                          19354 non-null  int64         \n",
      " 3   transaction_date                     19354 non-null  datetime64[ns]\n",
      " 4   online_order                         19354 non-null  float64       \n",
      " 5   order_status                         19354 non-null  object        \n",
      " 6   brand                                19354 non-null  object        \n",
      " 7   product_line                         19354 non-null  object        \n",
      " 8   product_class                        19354 non-null  object        \n",
      " 9   product_size                         19354 non-null  object        \n",
      " 10  list_price                           19354 non-null  float64       \n",
      " 11  standard_cost                        19354 non-null  float64       \n",
      " 12  product_first_sold_date              19354 non-null  float64       \n",
      " 13  profit                               19354 non-null  float64       \n",
      " 14  first_name                           19354 non-null  object        \n",
      " 15  last_name                            19354 non-null  object        \n",
      " 16  gender                               19354 non-null  object        \n",
      " 17  past_3_years_bike_related_purchases  19354 non-null  int64         \n",
      " 18  DOB                                  19354 non-null  datetime64[ns]\n",
      " 19  job_title                            19354 non-null  object        \n",
      " 20  job_industry_category                19354 non-null  object        \n",
      " 21  wealth_segment                       19354 non-null  object        \n",
      " 22  deceased_indicator                   19354 non-null  object        \n",
      " 23  owns_car                             19354 non-null  object        \n",
      " 24  tenure                               19354 non-null  float64       \n",
      " 25  age                                  19354 non-null  int64         \n",
      " 26  age_group                            19354 non-null  int64         \n",
      " 27  recency                              19354 non-null  int64         \n",
      " 28  frequency                            19354 non-null  int64         \n",
      " 29  monetary                             19354 non-null  float64       \n",
      " 30  r_quartile                           19354 non-null  category      \n",
      " 31  f_quartile                           19354 non-null  category      \n",
      " 32  m_quartile                           19354 non-null  category      \n",
      " 33  rfm_segment                          19354 non-null  object        \n",
      " 34  rfm_score                            19354 non-null  int64         \n",
      " 35  customer_rfm_label                   19354 non-null  category      \n",
      " 36  detail_cust_title                    19354 non-null  object        \n",
      "dtypes: category(4), datetime64[ns](2), float64(7), int64(9), object(15)\n",
      "memory usage: 4.9+ MB\n"
     ]
    }
   ],
   "source": [
    "cust_trans_rfm.info()"
   ]
  },
  {
   "cell_type": "markdown",
   "id": "4cb076ef-3fcb-48dc-aede-51a7024bf6bd",
   "metadata": {},
   "source": [
    "## 2. Exporting to CSV File"
   ]
  },
  {
   "cell_type": "code",
   "execution_count": 144,
   "id": "71633d60-2da7-4200-9daf-1451ccc5cf37",
   "metadata": {},
   "outputs": [],
   "source": [
    "cust_trans_rfm.to_csv('Cust_Trans_RFM.csv', index = False)"
   ]
  },
  {
   "cell_type": "code",
   "execution_count": null,
   "id": "21a859f4-f30d-4974-85d2-fb3f9488496c",
   "metadata": {},
   "outputs": [],
   "source": []
  },
  {
   "cell_type": "markdown",
   "id": "f47f7d4b-c209-4144-828c-6ed66cfcf547",
   "metadata": {},
   "source": [
    "# **Data Analysis and Exploration**"
   ]
  },
  {
   "cell_type": "code",
   "execution_count": null,
   "id": "549566c5-04e9-40b9-9cd1-ce8e2f9b4ae4",
   "metadata": {},
   "outputs": [],
   "source": []
  },
  {
   "cell_type": "markdown",
   "id": "4d4ddb35-fcdc-4c20-95cc-bc7492983041",
   "metadata": {},
   "source": [
    "### New Customer vs Old Customer Age Distributions"
   ]
  },
  {
   "cell_type": "code",
   "execution_count": 146,
   "id": "9c28ed2a-28e8-44f7-98f8-223cc1c5a2ac",
   "metadata": {},
   "outputs": [
    {
     "data": {
      "image/png": "[encoded data removed]",
      "text/plain": [
       "<Figure size 800x500 with 1 Axes>"
      ]
     },
     "metadata": {},
     "output_type": "display_data"
    }
   ],
   "source": [
    "plt.figure(figsize=(8,5))\n",
    "sns.histplot(new_customer['age_group'])\n",
    "plt.xlabel('Age Group')\n",
    "plt.ylabel('Number of Customes')\n",
    "plt.title('New Customers - Age Distribution')\n",
    "plt.savefig('New Customers - Age Distribution.jpg');"
   ]
  },
  {
   "cell_type": "code",
   "execution_count": null,
   "id": "3a89c292-caea-4ef5-9127-f713053128cc",
   "metadata": {},
   "outputs": [],
   "source": []
  },
  {
   "cell_type": "code",
   "execution_count": 147,
   "id": "f6f19e87-412a-468f-a3dd-3e92674d8bf7",
   "metadata": {},
   "outputs": [
    {
     "data": {
      "image/png": "[encoded data removed]",
      "text/plain": [
       "<Figure size 800x500 with 1 Axes>"
      ]
     },
     "metadata": {},
     "output_type": "display_data"
    }
   ],
   "source": [
    "plt.figure(figsize=(8,5))\n",
    "sns.histplot(cust_trans_rfm['age_group'], kde=False, bins=15)\n",
    "plt.xlabel('Age Group')\n",
    "plt.ylabel('Number of Customes')\n",
    "plt.title('Old Customers - Age Distribution')\n",
    "plt.savefig('Old Customers - Age Distribution.jpg');"
   ]
  },
  {
   "cell_type": "markdown",
   "id": "747b19ac-9cba-489b-a7fc-bc41b3abc710",
   "metadata": {},
   "source": [
    "## Bike related purchases over last 3 years by gender"
   ]
  },
  {
   "cell_type": "code",
   "execution_count": 148,
   "id": "19ec39bd-2cb2-4a52-9b36-356dca72f00b",
   "metadata": {},
   "outputs": [],
   "source": [
    "purchasebygender = cust_trans_rfm.groupby('gender').agg({'past_3_years_bike_related_purchases': 'sum'}).reset_index()"
   ]
  },
  {
   "cell_type": "code",
   "execution_count": 149,
   "id": "a7ad8ec8-9b92-43d2-8efd-9d6b9152e7ac",
   "metadata": {},
   "outputs": [
    {
     "data": {
      "image/png": "[encoded data removed]",
      "text/plain": [
       "<Figure size 600x500 with 1 Axes>"
      ]
     },
     "metadata": {},
     "output_type": "display_data"
    }
   ],
   "source": [
    "plt.figure(figsize=(6, 5)) \n",
    "sns.barplot(x = 'gender', y = 'past_3_years_bike_related_purchases', data = purchasebygender, hue = 'gender' , palette= \"winter\") \n",
    "plt.title('Bike-Related Purchases by Gender in the Past 3 Years')\n",
    "plt.xlabel('Gender')\n",
    "plt.ylabel('Total Purchase')\n",
    "plt.title('Female vs Male past 3 years Bike purchases')\n",
    "plt.show()"
   ]
  },
  {
   "cell_type": "markdown",
   "id": "666fd79a-9387-48e9-8720-4bab9cca086d",
   "metadata": {},
   "source": [
    "## Job Industry Customer Distribution"
   ]
  },
  {
   "cell_type": "code",
   "execution_count": 150,
   "id": "430a9aa9-4dfe-49a4-9498-0100f11ad6b2",
   "metadata": {},
   "outputs": [
    {
     "data": {
      "text/html": [
       "<div>\n",
       "<style scoped>\n",
       "    .dataframe tbody tr th:only-of-type {\n",
       "        vertical-align: middle;\n",
       "    }\n",
       "\n",
       "    .dataframe tbody tr th {\n",
       "        vertical-align: top;\n",
       "    }\n",
       "\n",
       "    .dataframe thead th {\n",
       "        text-align: right;\n",
       "    }\n",
       "</style>\n",
       "<table border=\"1\" class=\"dataframe\">\n",
       "  <thead>\n",
       "    <tr style=\"text-align: right;\">\n",
       "      <th></th>\n",
       "      <th>first_name</th>\n",
       "      <th>last_name</th>\n",
       "      <th>gender</th>\n",
       "      <th>past_3_years_bike_related_purchases</th>\n",
       "      <th>DOB</th>\n",
       "      <th>job_title</th>\n",
       "      <th>job_industry_category</th>\n",
       "      <th>wealth_segment</th>\n",
       "      <th>deceased_indicator</th>\n",
       "      <th>owns_car</th>\n",
       "      <th>tenure</th>\n",
       "      <th>address</th>\n",
       "      <th>postcode</th>\n",
       "      <th>state</th>\n",
       "      <th>country</th>\n",
       "      <th>property_valuation</th>\n",
       "      <th>Rank</th>\n",
       "      <th>Value</th>\n",
       "      <th>age</th>\n",
       "      <th>age_group</th>\n",
       "    </tr>\n",
       "  </thead>\n",
       "  <tbody>\n",
       "    <tr>\n",
       "      <th>0</th>\n",
       "      <td>Chickie</td>\n",
       "      <td>Brister</td>\n",
       "      <td>Male</td>\n",
       "      <td>86</td>\n",
       "      <td>1957-07-12</td>\n",
       "      <td>General Manager</td>\n",
       "      <td>Manufacturing</td>\n",
       "      <td>Mass Customer</td>\n",
       "      <td>N</td>\n",
       "      <td>Yes</td>\n",
       "      <td>14</td>\n",
       "      <td>45 Shopko Center</td>\n",
       "      <td>4500</td>\n",
       "      <td>QLD</td>\n",
       "      <td>Australia</td>\n",
       "      <td>6</td>\n",
       "      <td>1</td>\n",
       "      <td>1.718750</td>\n",
       "      <td>67</td>\n",
       "      <td>70</td>\n",
       "    </tr>\n",
       "    <tr>\n",
       "      <th>1</th>\n",
       "      <td>Morly</td>\n",
       "      <td>Genery</td>\n",
       "      <td>Male</td>\n",
       "      <td>69</td>\n",
       "      <td>1970-03-22</td>\n",
       "      <td>Structural Engineer</td>\n",
       "      <td>Property</td>\n",
       "      <td>Mass Customer</td>\n",
       "      <td>N</td>\n",
       "      <td>No</td>\n",
       "      <td>16</td>\n",
       "      <td>14 Mccormick Park</td>\n",
       "      <td>2113</td>\n",
       "      <td>NSW</td>\n",
       "      <td>Australia</td>\n",
       "      <td>11</td>\n",
       "      <td>1</td>\n",
       "      <td>1.718750</td>\n",
       "      <td>54</td>\n",
       "      <td>60</td>\n",
       "    </tr>\n",
       "    <tr>\n",
       "      <th>2</th>\n",
       "      <td>Ardelis</td>\n",
       "      <td>Forrester</td>\n",
       "      <td>Female</td>\n",
       "      <td>10</td>\n",
       "      <td>1974-08-28</td>\n",
       "      <td>Senior Cost Accountant</td>\n",
       "      <td>Financial Services</td>\n",
       "      <td>Affluent Customer</td>\n",
       "      <td>N</td>\n",
       "      <td>No</td>\n",
       "      <td>10</td>\n",
       "      <td>5 Colorado Crossing</td>\n",
       "      <td>3505</td>\n",
       "      <td>VIC</td>\n",
       "      <td>Australia</td>\n",
       "      <td>5</td>\n",
       "      <td>1</td>\n",
       "      <td>1.718750</td>\n",
       "      <td>50</td>\n",
       "      <td>60</td>\n",
       "    </tr>\n",
       "    <tr>\n",
       "      <th>3</th>\n",
       "      <td>Lucine</td>\n",
       "      <td>Stutt</td>\n",
       "      <td>Female</td>\n",
       "      <td>64</td>\n",
       "      <td>1979-01-28</td>\n",
       "      <td>Account Representative III</td>\n",
       "      <td>Manufacturing</td>\n",
       "      <td>Affluent Customer</td>\n",
       "      <td>N</td>\n",
       "      <td>Yes</td>\n",
       "      <td>5</td>\n",
       "      <td>207 Annamark Plaza</td>\n",
       "      <td>4814</td>\n",
       "      <td>QLD</td>\n",
       "      <td>Australia</td>\n",
       "      <td>1</td>\n",
       "      <td>4</td>\n",
       "      <td>1.703125</td>\n",
       "      <td>46</td>\n",
       "      <td>50</td>\n",
       "    </tr>\n",
       "    <tr>\n",
       "      <th>4</th>\n",
       "      <td>Melinda</td>\n",
       "      <td>Hadlee</td>\n",
       "      <td>Female</td>\n",
       "      <td>34</td>\n",
       "      <td>1965-09-21</td>\n",
       "      <td>Financial Analyst</td>\n",
       "      <td>Financial Services</td>\n",
       "      <td>Affluent Customer</td>\n",
       "      <td>N</td>\n",
       "      <td>No</td>\n",
       "      <td>19</td>\n",
       "      <td>115 Montana Place</td>\n",
       "      <td>2093</td>\n",
       "      <td>NSW</td>\n",
       "      <td>Australia</td>\n",
       "      <td>9</td>\n",
       "      <td>4</td>\n",
       "      <td>1.703125</td>\n",
       "      <td>59</td>\n",
       "      <td>60</td>\n",
       "    </tr>\n",
       "  </tbody>\n",
       "</table>\n",
       "</div>"
      ],
      "text/plain": [
       "  first_name  last_name  gender  past_3_years_bike_related_purchases  \\\n",
       "0    Chickie    Brister    Male                                   86   \n",
       "1      Morly     Genery    Male                                   69   \n",
       "2    Ardelis  Forrester  Female                                   10   \n",
       "3     Lucine      Stutt  Female                                   64   \n",
       "4    Melinda     Hadlee  Female                                   34   \n",
       "\n",
       "         DOB                   job_title job_industry_category  \\\n",
       "0 1957-07-12             General Manager         Manufacturing   \n",
       "1 1970-03-22         Structural Engineer              Property   \n",
       "2 1974-08-28      Senior Cost Accountant    Financial Services   \n",
       "3 1979-01-28  Account Representative III         Manufacturing   \n",
       "4 1965-09-21           Financial Analyst    Financial Services   \n",
       "\n",
       "      wealth_segment deceased_indicator owns_car  tenure              address  \\\n",
       "0      Mass Customer                  N      Yes      14     45 Shopko Center   \n",
       "1      Mass Customer                  N       No      16    14 Mccormick Park   \n",
       "2  Affluent Customer                  N       No      10  5 Colorado Crossing   \n",
       "3  Affluent Customer                  N      Yes       5   207 Annamark Plaza   \n",
       "4  Affluent Customer                  N       No      19    115 Montana Place   \n",
       "\n",
       "   postcode state    country  property_valuation  Rank     Value  age  \\\n",
       "0      4500   QLD  Australia                   6     1  1.718750   67   \n",
       "1      2113   NSW  Australia                  11     1  1.718750   54   \n",
       "2      3505   VIC  Australia                   5     1  1.718750   50   \n",
       "3      4814   QLD  Australia                   1     4  1.703125   46   \n",
       "4      2093   NSW  Australia                   9     4  1.703125   59   \n",
       "\n",
       "   age_group  \n",
       "0         70  \n",
       "1         60  \n",
       "2         60  \n",
       "3         50  \n",
       "4         60  "
      ]
     },
     "execution_count": 150,
     "metadata": {},
     "output_type": "execute_result"
    }
   ],
   "source": [
    "new_customer.head()"
   ]
  },
  {
   "cell_type": "code",
   "execution_count": 151,
   "id": "331b8109-2d04-40d2-a8bf-7111a6dfcbda",
   "metadata": {},
   "outputs": [
    {
     "data": {
      "image/png": "[encoded data removed]",
      "text/plain": [
       "<Figure size 1280x480 with 1 Axes>"
      ]
     },
     "metadata": {},
     "output_type": "display_data"
    }
   ],
   "source": [
    "plt.figure(figsize = (16,6), dpi=80)\n",
    "sns.countplot(x = new_customer['job_industry_category'], \n",
    "              data=new_customer[~(new_customer['job_industry_category']=='Missing')],\n",
    "              hue =new_customer['job_industry_category'] ,\n",
    "              palette= \"cool\") \n",
    "plt.title('New Customers - Job Industry Customer Distribution', fontsize=16)\n",
    "plt.xlabel('Job Category', fontsize=14)\n",
    "plt.ylabel('Total Number of Customers', fontsize=14)\n",
    "plt.savefig('New Customers - Job Industry Customer Distribution.jpg')\n",
    "plt.show() "
   ]
  },
  {
   "cell_type": "code",
   "execution_count": 152,
   "id": "025bdbbd-2434-41f4-b450-107e2908de92",
   "metadata": {},
   "outputs": [
    {
     "name": "stderr",
     "output_type": "stream",
     "text": [
      "C:\\Users\\Bhask\\AppData\\Local\\Temp\\ipykernel_15380\\2580959495.py:2: FutureWarning: \n",
      "\n",
      "Passing `palette` without assigning `hue` is deprecated and will be removed in v0.14.0. Assign the `x` variable to `hue` and set `legend=False` for the same effect.\n",
      "\n",
      "  sns.countplot(x = cust_trans_rfm['job_industry_category'],\n"
     ]
    },
    {
     "data": {
      "image/png": "[encoded data removed]",
      "text/plain": [
       "<Figure size 1280x480 with 1 Axes>"
      ]
     },
     "metadata": {},
     "output_type": "display_data"
    }
   ],
   "source": [
    "plt.figure(figsize = (16,6), dpi=80)\n",
    "sns.countplot(x = cust_trans_rfm['job_industry_category'], \n",
    "              data=cust_trans_rfm[~(cust_trans_rfm['job_industry_category']=='Missing')],\n",
    "              #hue =cust_trans_rfm['job_industry_category'] ,\n",
    "              palette= \"cool\") \n",
    "plt.title('Old Customers - Job Industry Customer Distribution', fontsize=16)\n",
    "plt.xlabel('Job Category', fontsize=14)\n",
    "plt.ylabel('Total Number of Customers', fontsize=14)\n",
    "plt.savefig('Old Customers - Job Industry Customer Distribution.jpg')\n",
    "plt.show() "
   ]
  },
  {
   "cell_type": "markdown",
   "id": "148f9261-59ca-4bde-a699-959eb0c55216",
   "metadata": {},
   "source": [
    "Among the **New Customers** the highest amount of sales comes from customers having a **job in Manufacturing and Financial services sector**.The samllest chunk of sales comes from customers in **Agriculture sector and from Telecom sector**. Similar trend is observed among **Old Customers.**"
   ]
  },
  {
   "cell_type": "markdown",
   "id": "8b8cad1e-c343-49ea-a3ed-f081bd078330",
   "metadata": {},
   "source": [
    "### Wealth Segmentation by Age Group\n"
   ]
  },
  {
   "cell_type": "code",
   "execution_count": 153,
   "id": "12482873-2832-433f-93b2-6dc7613e3d43",
   "metadata": {},
   "outputs": [],
   "source": [
    "# For new customers\n",
    "\n",
    "segmentation_by_age_group = (new_customer.groupby(['wealth_segment', 'age_group']).size().reset_index()).rename(columns={0:'Number of Customers'})"
   ]
  },
  {
   "cell_type": "code",
   "execution_count": 154,
   "id": "d4466e40-8316-4eea-ae1a-2e723ff22aca",
   "metadata": {},
   "outputs": [
    {
     "data": {
      "text/html": [
       "<div>\n",
       "<style scoped>\n",
       "    .dataframe tbody tr th:only-of-type {\n",
       "        vertical-align: middle;\n",
       "    }\n",
       "\n",
       "    .dataframe tbody tr th {\n",
       "        vertical-align: top;\n",
       "    }\n",
       "\n",
       "    .dataframe thead th {\n",
       "        text-align: right;\n",
       "    }\n",
       "</style>\n",
       "<table border=\"1\" class=\"dataframe\">\n",
       "  <thead>\n",
       "    <tr style=\"text-align: right;\">\n",
       "      <th></th>\n",
       "      <th>wealth_segment</th>\n",
       "      <th>age_group</th>\n",
       "      <th>Number of Customers</th>\n",
       "    </tr>\n",
       "  </thead>\n",
       "  <tbody>\n",
       "    <tr>\n",
       "      <th>0</th>\n",
       "      <td>Affluent Customer</td>\n",
       "      <td>30</td>\n",
       "      <td>36</td>\n",
       "    </tr>\n",
       "    <tr>\n",
       "      <th>1</th>\n",
       "      <td>Affluent Customer</td>\n",
       "      <td>40</td>\n",
       "      <td>22</td>\n",
       "    </tr>\n",
       "    <tr>\n",
       "      <th>2</th>\n",
       "      <td>Affluent Customer</td>\n",
       "      <td>50</td>\n",
       "      <td>48</td>\n",
       "    </tr>\n",
       "    <tr>\n",
       "      <th>3</th>\n",
       "      <td>Affluent Customer</td>\n",
       "      <td>60</td>\n",
       "      <td>48</td>\n",
       "    </tr>\n",
       "    <tr>\n",
       "      <th>4</th>\n",
       "      <td>Affluent Customer</td>\n",
       "      <td>70</td>\n",
       "      <td>34</td>\n",
       "    </tr>\n",
       "    <tr>\n",
       "      <th>5</th>\n",
       "      <td>Affluent Customer</td>\n",
       "      <td>80</td>\n",
       "      <td>33</td>\n",
       "    </tr>\n",
       "    <tr>\n",
       "      <th>6</th>\n",
       "      <td>Affluent Customer</td>\n",
       "      <td>90</td>\n",
       "      <td>14</td>\n",
       "    </tr>\n",
       "    <tr>\n",
       "      <th>7</th>\n",
       "      <td>High Net Worth</td>\n",
       "      <td>30</td>\n",
       "      <td>21</td>\n",
       "    </tr>\n",
       "    <tr>\n",
       "      <th>8</th>\n",
       "      <td>High Net Worth</td>\n",
       "      <td>40</td>\n",
       "      <td>41</td>\n",
       "    </tr>\n",
       "    <tr>\n",
       "      <th>9</th>\n",
       "      <td>High Net Worth</td>\n",
       "      <td>50</td>\n",
       "      <td>47</td>\n",
       "    </tr>\n",
       "    <tr>\n",
       "      <th>10</th>\n",
       "      <td>High Net Worth</td>\n",
       "      <td>60</td>\n",
       "      <td>38</td>\n",
       "    </tr>\n",
       "    <tr>\n",
       "      <th>11</th>\n",
       "      <td>High Net Worth</td>\n",
       "      <td>70</td>\n",
       "      <td>49</td>\n",
       "    </tr>\n",
       "    <tr>\n",
       "      <th>12</th>\n",
       "      <td>High Net Worth</td>\n",
       "      <td>80</td>\n",
       "      <td>35</td>\n",
       "    </tr>\n",
       "    <tr>\n",
       "      <th>13</th>\n",
       "      <td>High Net Worth</td>\n",
       "      <td>90</td>\n",
       "      <td>18</td>\n",
       "    </tr>\n",
       "    <tr>\n",
       "      <th>14</th>\n",
       "      <td>Mass Customer</td>\n",
       "      <td>30</td>\n",
       "      <td>53</td>\n",
       "    </tr>\n",
       "    <tr>\n",
       "      <th>15</th>\n",
       "      <td>Mass Customer</td>\n",
       "      <td>40</td>\n",
       "      <td>62</td>\n",
       "    </tr>\n",
       "    <tr>\n",
       "      <th>16</th>\n",
       "      <td>Mass Customer</td>\n",
       "      <td>50</td>\n",
       "      <td>86</td>\n",
       "    </tr>\n",
       "    <tr>\n",
       "      <th>17</th>\n",
       "      <td>Mass Customer</td>\n",
       "      <td>60</td>\n",
       "      <td>112</td>\n",
       "    </tr>\n",
       "    <tr>\n",
       "      <th>18</th>\n",
       "      <td>Mass Customer</td>\n",
       "      <td>70</td>\n",
       "      <td>89</td>\n",
       "    </tr>\n",
       "    <tr>\n",
       "      <th>19</th>\n",
       "      <td>Mass Customer</td>\n",
       "      <td>80</td>\n",
       "      <td>59</td>\n",
       "    </tr>\n",
       "    <tr>\n",
       "      <th>20</th>\n",
       "      <td>Mass Customer</td>\n",
       "      <td>90</td>\n",
       "      <td>38</td>\n",
       "    </tr>\n",
       "  </tbody>\n",
       "</table>\n",
       "</div>"
      ],
      "text/plain": [
       "       wealth_segment  age_group  Number of Customers\n",
       "0   Affluent Customer         30                   36\n",
       "1   Affluent Customer         40                   22\n",
       "2   Affluent Customer         50                   48\n",
       "3   Affluent Customer         60                   48\n",
       "4   Affluent Customer         70                   34\n",
       "5   Affluent Customer         80                   33\n",
       "6   Affluent Customer         90                   14\n",
       "7      High Net Worth         30                   21\n",
       "8      High Net Worth         40                   41\n",
       "9      High Net Worth         50                   47\n",
       "10     High Net Worth         60                   38\n",
       "11     High Net Worth         70                   49\n",
       "12     High Net Worth         80                   35\n",
       "13     High Net Worth         90                   18\n",
       "14      Mass Customer         30                   53\n",
       "15      Mass Customer         40                   62\n",
       "16      Mass Customer         50                   86\n",
       "17      Mass Customer         60                  112\n",
       "18      Mass Customer         70                   89\n",
       "19      Mass Customer         80                   59\n",
       "20      Mass Customer         90                   38"
      ]
     },
     "execution_count": 154,
     "metadata": {},
     "output_type": "execute_result"
    }
   ],
   "source": [
    "segmentation_by_age_group"
   ]
  },
  {
   "cell_type": "code",
   "execution_count": 155,
   "id": "1c1701b9-c953-41ff-bccb-11fe46c2908a",
   "metadata": {},
   "outputs": [
    {
     "data": {
      "image/png": "[encoded data removed]",
      "text/plain": [
       "<Figure size 900x500 with 1 Axes>"
      ]
     },
     "metadata": {},
     "output_type": "display_data"
    }
   ],
   "source": [
    "plt.figure(figsize= (9,5))\n",
    "sns.barplot(x = 'age_group', y= 'Number of Customers', hue = 'wealth_segment', data = segmentation_by_age_group, palette = 'summer')\n",
    "plt.title('New Customer - Wealth Segmentation by Age Group')\n",
    "plt.xlabel('Age Group')\n",
    "plt.ylabel('Number of customer')\n",
    "plt.savefig('New Customers - Wealth Segmentation by Age Group.jpg')\n",
    "plt.show()"
   ]
  },
  {
   "cell_type": "code",
   "execution_count": 156,
   "id": "3048fe34-9a41-4fde-b5b6-0065613cd5c9",
   "metadata": {},
   "outputs": [],
   "source": [
    "# old Customers\n",
    "\n",
    "old_segmentation_by_age_group = (cust_trans_rfm.groupby(['wealth_segment', 'age_group']).size().reset_index()).rename(columns={0:'Number of Customers'})"
   ]
  },
  {
   "cell_type": "code",
   "execution_count": 157,
   "id": "33f7b8ea-9b1b-4b21-8d43-1d625c41df01",
   "metadata": {},
   "outputs": [
    {
     "data": {
      "image/png": "[encoded data removed]",
      "text/plain": [
       "<Figure size 900x500 with 1 Axes>"
      ]
     },
     "metadata": {},
     "output_type": "display_data"
    }
   ],
   "source": [
    "plt.figure(figsize= (9,5))\n",
    "sns.barplot(x = 'age_group', y= 'Number of Customers', hue = 'wealth_segment', data = old_segmentation_by_age_group, palette = 'summer')\n",
    "plt.title('Old Customer - Wealth Segmentation by Age Group')\n",
    "plt.xlabel('Age Group')\n",
    "plt.ylabel('Number of customer')\n",
    "plt.savefig('old Customers - Wealth Segmentation by Age Group.jpg')\n",
    "plt.show()\n"
   ]
  },
  {
   "cell_type": "markdown",
   "id": "320400eb-a9d5-47c1-8053-02e7c4b96cf8",
   "metadata": {},
   "source": [
    "### Car owner across each State"
   ]
  },
  {
   "cell_type": "code",
   "execution_count": 158,
   "id": "656e45fd-ca49-401a-b6ae-9298b8b96bcb",
   "metadata": {},
   "outputs": [],
   "source": [
    "# Merging the RFM data with Customer Address dataset.\n",
    "\n",
    "cust_trans_addr = pd.merge(cust_trans_rfm , cust_address, left_on = 'customer_id' , \n",
    "                           right_on = 'customer_id', how='inner')"
   ]
  },
  {
   "cell_type": "code",
   "execution_count": 159,
   "id": "547cac77-d238-4ac7-a40c-1a1326c5d725",
   "metadata": {},
   "outputs": [
    {
     "data": {
      "text/html": [
       "<div>\n",
       "<style scoped>\n",
       "    .dataframe tbody tr th:only-of-type {\n",
       "        vertical-align: middle;\n",
       "    }\n",
       "\n",
       "    .dataframe tbody tr th {\n",
       "        vertical-align: top;\n",
       "    }\n",
       "\n",
       "    .dataframe thead th {\n",
       "        text-align: right;\n",
       "    }\n",
       "</style>\n",
       "<table border=\"1\" class=\"dataframe\">\n",
       "  <thead>\n",
       "    <tr style=\"text-align: right;\">\n",
       "      <th></th>\n",
       "      <th>transaction_id</th>\n",
       "      <th>product_id</th>\n",
       "      <th>customer_id</th>\n",
       "      <th>transaction_date</th>\n",
       "      <th>online_order</th>\n",
       "      <th>order_status</th>\n",
       "      <th>brand</th>\n",
       "      <th>product_line</th>\n",
       "      <th>product_class</th>\n",
       "      <th>product_size</th>\n",
       "      <th>...</th>\n",
       "      <th>m_quartile</th>\n",
       "      <th>rfm_segment</th>\n",
       "      <th>rfm_score</th>\n",
       "      <th>customer_rfm_label</th>\n",
       "      <th>detail_cust_title</th>\n",
       "      <th>address</th>\n",
       "      <th>postcode</th>\n",
       "      <th>state</th>\n",
       "      <th>country</th>\n",
       "      <th>property_valuation</th>\n",
       "    </tr>\n",
       "  </thead>\n",
       "  <tbody>\n",
       "    <tr>\n",
       "      <th>0</th>\n",
       "      <td>1</td>\n",
       "      <td>2</td>\n",
       "      <td>2950</td>\n",
       "      <td>2017-02-25</td>\n",
       "      <td>0.0</td>\n",
       "      <td>Approved</td>\n",
       "      <td>Solex</td>\n",
       "      <td>Standard</td>\n",
       "      <td>medium</td>\n",
       "      <td>medium</td>\n",
       "      <td>...</td>\n",
       "      <td>1</td>\n",
       "      <td>211</td>\n",
       "      <td>4</td>\n",
       "      <td>Bronze</td>\n",
       "      <td>Almost Lost Customer</td>\n",
       "      <td>984 Hoepker Court</td>\n",
       "      <td>3064</td>\n",
       "      <td>VIC</td>\n",
       "      <td>Australia</td>\n",
       "      <td>6</td>\n",
       "    </tr>\n",
       "    <tr>\n",
       "      <th>1</th>\n",
       "      <td>2</td>\n",
       "      <td>3</td>\n",
       "      <td>3120</td>\n",
       "      <td>2017-05-21</td>\n",
       "      <td>1.0</td>\n",
       "      <td>Approved</td>\n",
       "      <td>Trek Bicycles</td>\n",
       "      <td>Standard</td>\n",
       "      <td>medium</td>\n",
       "      <td>large</td>\n",
       "      <td>...</td>\n",
       "      <td>4</td>\n",
       "      <td>334</td>\n",
       "      <td>10</td>\n",
       "      <td>Platinum</td>\n",
       "      <td>Potential Customer</td>\n",
       "      <td>4 Shopko Circle</td>\n",
       "      <td>2196</td>\n",
       "      <td>NSW</td>\n",
       "      <td>Australia</td>\n",
       "      <td>5</td>\n",
       "    </tr>\n",
       "    <tr>\n",
       "      <th>2</th>\n",
       "      <td>3</td>\n",
       "      <td>37</td>\n",
       "      <td>402</td>\n",
       "      <td>2017-10-16</td>\n",
       "      <td>0.0</td>\n",
       "      <td>Approved</td>\n",
       "      <td>OHM Cycles</td>\n",
       "      <td>Standard</td>\n",
       "      <td>low</td>\n",
       "      <td>medium</td>\n",
       "      <td>...</td>\n",
       "      <td>4</td>\n",
       "      <td>224</td>\n",
       "      <td>8</td>\n",
       "      <td>Gold</td>\n",
       "      <td>Loosing Customer</td>\n",
       "      <td>586 Miller Parkway</td>\n",
       "      <td>2835</td>\n",
       "      <td>NSW</td>\n",
       "      <td>Australia</td>\n",
       "      <td>1</td>\n",
       "    </tr>\n",
       "    <tr>\n",
       "      <th>3</th>\n",
       "      <td>4</td>\n",
       "      <td>88</td>\n",
       "      <td>3135</td>\n",
       "      <td>2017-08-31</td>\n",
       "      <td>0.0</td>\n",
       "      <td>Approved</td>\n",
       "      <td>Norco Bicycles</td>\n",
       "      <td>Standard</td>\n",
       "      <td>medium</td>\n",
       "      <td>medium</td>\n",
       "      <td>...</td>\n",
       "      <td>3</td>\n",
       "      <td>133</td>\n",
       "      <td>7</td>\n",
       "      <td>Silver</td>\n",
       "      <td>Almost Lost Customer</td>\n",
       "      <td>1617 Harper Parkway</td>\n",
       "      <td>2096</td>\n",
       "      <td>NSW</td>\n",
       "      <td>Australia</td>\n",
       "      <td>10</td>\n",
       "    </tr>\n",
       "    <tr>\n",
       "      <th>4</th>\n",
       "      <td>5</td>\n",
       "      <td>78</td>\n",
       "      <td>787</td>\n",
       "      <td>2017-10-01</td>\n",
       "      <td>1.0</td>\n",
       "      <td>Approved</td>\n",
       "      <td>Giant Bicycles</td>\n",
       "      <td>Standard</td>\n",
       "      <td>medium</td>\n",
       "      <td>large</td>\n",
       "      <td>...</td>\n",
       "      <td>4</td>\n",
       "      <td>244</td>\n",
       "      <td>10</td>\n",
       "      <td>Platinum</td>\n",
       "      <td>Loosing Customer</td>\n",
       "      <td>0601 Stephen Place</td>\n",
       "      <td>2292</td>\n",
       "      <td>NSW</td>\n",
       "      <td>Australia</td>\n",
       "      <td>7</td>\n",
       "    </tr>\n",
       "  </tbody>\n",
       "</table>\n",
       "<p>5 rows × 42 columns</p>\n",
       "</div>"
      ],
      "text/plain": [
       "   transaction_id  product_id  customer_id transaction_date  online_order  \\\n",
       "0               1           2         2950       2017-02-25           0.0   \n",
       "1               2           3         3120       2017-05-21           1.0   \n",
       "2               3          37          402       2017-10-16           0.0   \n",
       "3               4          88         3135       2017-08-31           0.0   \n",
       "4               5          78          787       2017-10-01           1.0   \n",
       "\n",
       "  order_status           brand product_line product_class product_size  ...  \\\n",
       "0     Approved           Solex     Standard        medium       medium  ...   \n",
       "1     Approved   Trek Bicycles     Standard        medium        large  ...   \n",
       "2     Approved      OHM Cycles     Standard           low       medium  ...   \n",
       "3     Approved  Norco Bicycles     Standard        medium       medium  ...   \n",
       "4     Approved  Giant Bicycles     Standard        medium        large  ...   \n",
       "\n",
       "   m_quartile  rfm_segment  rfm_score  customer_rfm_label  \\\n",
       "0           1          211          4              Bronze   \n",
       "1           4          334         10            Platinum   \n",
       "2           4          224          8                Gold   \n",
       "3           3          133          7              Silver   \n",
       "4           4          244         10            Platinum   \n",
       "\n",
       "      detail_cust_title              address postcode  state    country  \\\n",
       "0  Almost Lost Customer    984 Hoepker Court     3064    VIC  Australia   \n",
       "1    Potential Customer      4 Shopko Circle     2196    NSW  Australia   \n",
       "2      Loosing Customer   586 Miller Parkway     2835    NSW  Australia   \n",
       "3  Almost Lost Customer  1617 Harper Parkway     2096    NSW  Australia   \n",
       "4      Loosing Customer   0601 Stephen Place     2292    NSW  Australia   \n",
       "\n",
       "  property_valuation  \n",
       "0                  6  \n",
       "1                  5  \n",
       "2                  1  \n",
       "3                 10  \n",
       "4                  7  \n",
       "\n",
       "[5 rows x 42 columns]"
      ]
     },
     "execution_count": 159,
     "metadata": {},
     "output_type": "execute_result"
    }
   ],
   "source": [
    "cust_trans_addr.head()"
   ]
  },
  {
   "cell_type": "code",
   "execution_count": 160,
   "id": "46fce0d6-2a07-4861-a5a6-85c267c507e9",
   "metadata": {},
   "outputs": [],
   "source": [
    "# new customers\n",
    "car_owner_across_each_state = cust_trans_addr.groupby(['owns_car', 'state']).agg({'customer_id':'count'}).reset_index()"
   ]
  },
  {
   "cell_type": "code",
   "execution_count": 161,
   "id": "f2671889-ef32-4c54-b676-65fb9f396a61",
   "metadata": {},
   "outputs": [
    {
     "data": {
      "text/html": [
       "<div>\n",
       "<style scoped>\n",
       "    .dataframe tbody tr th:only-of-type {\n",
       "        vertical-align: middle;\n",
       "    }\n",
       "\n",
       "    .dataframe tbody tr th {\n",
       "        vertical-align: top;\n",
       "    }\n",
       "\n",
       "    .dataframe thead th {\n",
       "        text-align: right;\n",
       "    }\n",
       "</style>\n",
       "<table border=\"1\" class=\"dataframe\">\n",
       "  <thead>\n",
       "    <tr style=\"text-align: right;\">\n",
       "      <th></th>\n",
       "      <th>owns_car</th>\n",
       "      <th>state</th>\n",
       "      <th>customer_id</th>\n",
       "    </tr>\n",
       "  </thead>\n",
       "  <tbody>\n",
       "    <tr>\n",
       "      <th>0</th>\n",
       "      <td>No</td>\n",
       "      <td>NSW</td>\n",
       "      <td>5019</td>\n",
       "    </tr>\n",
       "    <tr>\n",
       "      <th>1</th>\n",
       "      <td>No</td>\n",
       "      <td>QLD</td>\n",
       "      <td>2077</td>\n",
       "    </tr>\n",
       "    <tr>\n",
       "      <th>2</th>\n",
       "      <td>No</td>\n",
       "      <td>VIC</td>\n",
       "      <td>2533</td>\n",
       "    </tr>\n",
       "    <tr>\n",
       "      <th>3</th>\n",
       "      <td>Yes</td>\n",
       "      <td>NSW</td>\n",
       "      <td>5308</td>\n",
       "    </tr>\n",
       "    <tr>\n",
       "      <th>4</th>\n",
       "      <td>Yes</td>\n",
       "      <td>QLD</td>\n",
       "      <td>2058</td>\n",
       "    </tr>\n",
       "    <tr>\n",
       "      <th>5</th>\n",
       "      <td>Yes</td>\n",
       "      <td>VIC</td>\n",
       "      <td>2332</td>\n",
       "    </tr>\n",
       "  </tbody>\n",
       "</table>\n",
       "</div>"
      ],
      "text/plain": [
       "  owns_car state  customer_id\n",
       "0       No   NSW         5019\n",
       "1       No   QLD         2077\n",
       "2       No   VIC         2533\n",
       "3      Yes   NSW         5308\n",
       "4      Yes   QLD         2058\n",
       "5      Yes   VIC         2332"
      ]
     },
     "execution_count": 161,
     "metadata": {},
     "output_type": "execute_result"
    }
   ],
   "source": [
    "car_owner_across_each_state"
   ]
  },
  {
   "cell_type": "code",
   "execution_count": 162,
   "id": "3a7b9839-9ace-49e9-8bf5-be0ae666a85e",
   "metadata": {},
   "outputs": [
    {
     "data": {
      "text/plain": [
       "Text(0.5, 1.0, 'Number of Customers who own a car by State')"
      ]
     },
     "execution_count": 162,
     "metadata": {},
     "output_type": "execute_result"
    },
    {
     "data": {
      "image/png": "[encoded data removed]",
      "text/plain": [
       "<Figure size 850x510 with 1 Axes>"
      ]
     },
     "metadata": {},
     "output_type": "display_data"
    }
   ],
   "source": [
    "plt.figure(figsize = (10,6), dpi = 85)\n",
    "sns.barplot(x= 'state', y = 'customer_id', hue = 'owns_car', data = car_owner_across_each_state, palette = 'winter')\n",
    "plt.xlabel('State')\n",
    "plt.ylabel('Number of Customres')\n",
    "plt.title('Number of Customers who own a car by State')"
   ]
  },
  {
   "cell_type": "markdown",
   "id": "254992df-0aae-4aca-9306-749993dc640c",
   "metadata": {},
   "source": [
    "NSW has the largest number of people that donot own a car. It seems that a higher amount of data is collected from NSW compared to other states. In QLD the distribution between customers having a car or not having is even. In Victoria the number is split evenly. Both the numbers are significantly lower than that of NSW"
   ]
  },
  {
   "cell_type": "markdown",
   "id": "39a58321-786e-4408-9c54-6d4fc4ea0be3",
   "metadata": {},
   "source": [
    "# RFM Analysis Scatter Plots"
   ]
  },
  {
   "cell_type": "code",
   "execution_count": 163,
   "id": "69441c03-495f-4185-8a42-6fa28ccf62a0",
   "metadata": {},
   "outputs": [
    {
     "data": {
      "text/html": [
       "<div>\n",
       "<style scoped>\n",
       "    .dataframe tbody tr th:only-of-type {\n",
       "        vertical-align: middle;\n",
       "    }\n",
       "\n",
       "    .dataframe tbody tr th {\n",
       "        vertical-align: top;\n",
       "    }\n",
       "\n",
       "    .dataframe thead th {\n",
       "        text-align: right;\n",
       "    }\n",
       "</style>\n",
       "<table border=\"1\" class=\"dataframe\">\n",
       "  <thead>\n",
       "    <tr style=\"text-align: right;\">\n",
       "      <th></th>\n",
       "      <th>transaction_id</th>\n",
       "      <th>product_id</th>\n",
       "      <th>customer_id</th>\n",
       "      <th>transaction_date</th>\n",
       "      <th>online_order</th>\n",
       "      <th>order_status</th>\n",
       "      <th>brand</th>\n",
       "      <th>product_line</th>\n",
       "      <th>product_class</th>\n",
       "      <th>product_size</th>\n",
       "      <th>...</th>\n",
       "      <th>recency</th>\n",
       "      <th>frequency</th>\n",
       "      <th>monetary</th>\n",
       "      <th>r_quartile</th>\n",
       "      <th>f_quartile</th>\n",
       "      <th>m_quartile</th>\n",
       "      <th>rfm_segment</th>\n",
       "      <th>rfm_score</th>\n",
       "      <th>customer_rfm_label</th>\n",
       "      <th>detail_cust_title</th>\n",
       "    </tr>\n",
       "  </thead>\n",
       "  <tbody>\n",
       "    <tr>\n",
       "      <th>0</th>\n",
       "      <td>1</td>\n",
       "      <td>2</td>\n",
       "      <td>2950</td>\n",
       "      <td>2017-02-25</td>\n",
       "      <td>0.0</td>\n",
       "      <td>Approved</td>\n",
       "      <td>Solex</td>\n",
       "      <td>Standard</td>\n",
       "      <td>medium</td>\n",
       "      <td>medium</td>\n",
       "      <td>...</td>\n",
       "      <td>75</td>\n",
       "      <td>3</td>\n",
       "      <td>645.99</td>\n",
       "      <td>2</td>\n",
       "      <td>1</td>\n",
       "      <td>1</td>\n",
       "      <td>211</td>\n",
       "      <td>4</td>\n",
       "      <td>Bronze</td>\n",
       "      <td>Almost Lost Customer</td>\n",
       "    </tr>\n",
       "    <tr>\n",
       "      <th>1</th>\n",
       "      <td>2</td>\n",
       "      <td>3</td>\n",
       "      <td>3120</td>\n",
       "      <td>2017-05-21</td>\n",
       "      <td>1.0</td>\n",
       "      <td>Approved</td>\n",
       "      <td>Trek Bicycles</td>\n",
       "      <td>Standard</td>\n",
       "      <td>medium</td>\n",
       "      <td>large</td>\n",
       "      <td>...</td>\n",
       "      <td>20</td>\n",
       "      <td>7</td>\n",
       "      <td>4179.11</td>\n",
       "      <td>3</td>\n",
       "      <td>3</td>\n",
       "      <td>4</td>\n",
       "      <td>334</td>\n",
       "      <td>10</td>\n",
       "      <td>Platinum</td>\n",
       "      <td>Potential Customer</td>\n",
       "    </tr>\n",
       "    <tr>\n",
       "      <th>2</th>\n",
       "      <td>3</td>\n",
       "      <td>37</td>\n",
       "      <td>402</td>\n",
       "      <td>2017-10-16</td>\n",
       "      <td>0.0</td>\n",
       "      <td>Approved</td>\n",
       "      <td>OHM Cycles</td>\n",
       "      <td>Standard</td>\n",
       "      <td>low</td>\n",
       "      <td>medium</td>\n",
       "      <td>...</td>\n",
       "      <td>56</td>\n",
       "      <td>6</td>\n",
       "      <td>4965.43</td>\n",
       "      <td>2</td>\n",
       "      <td>2</td>\n",
       "      <td>4</td>\n",
       "      <td>224</td>\n",
       "      <td>8</td>\n",
       "      <td>Gold</td>\n",
       "      <td>Loosing Customer</td>\n",
       "    </tr>\n",
       "    <tr>\n",
       "      <th>3</th>\n",
       "      <td>4</td>\n",
       "      <td>88</td>\n",
       "      <td>3135</td>\n",
       "      <td>2017-08-31</td>\n",
       "      <td>0.0</td>\n",
       "      <td>Approved</td>\n",
       "      <td>Norco Bicycles</td>\n",
       "      <td>Standard</td>\n",
       "      <td>medium</td>\n",
       "      <td>medium</td>\n",
       "      <td>...</td>\n",
       "      <td>121</td>\n",
       "      <td>7</td>\n",
       "      <td>3983.97</td>\n",
       "      <td>1</td>\n",
       "      <td>3</td>\n",
       "      <td>3</td>\n",
       "      <td>133</td>\n",
       "      <td>7</td>\n",
       "      <td>Silver</td>\n",
       "      <td>Almost Lost Customer</td>\n",
       "    </tr>\n",
       "    <tr>\n",
       "      <th>4</th>\n",
       "      <td>5</td>\n",
       "      <td>78</td>\n",
       "      <td>787</td>\n",
       "      <td>2017-10-01</td>\n",
       "      <td>1.0</td>\n",
       "      <td>Approved</td>\n",
       "      <td>Giant Bicycles</td>\n",
       "      <td>Standard</td>\n",
       "      <td>medium</td>\n",
       "      <td>large</td>\n",
       "      <td>...</td>\n",
       "      <td>75</td>\n",
       "      <td>10</td>\n",
       "      <td>6646.00</td>\n",
       "      <td>2</td>\n",
       "      <td>4</td>\n",
       "      <td>4</td>\n",
       "      <td>244</td>\n",
       "      <td>10</td>\n",
       "      <td>Platinum</td>\n",
       "      <td>Loosing Customer</td>\n",
       "    </tr>\n",
       "  </tbody>\n",
       "</table>\n",
       "<p>5 rows × 37 columns</p>\n",
       "</div>"
      ],
      "text/plain": [
       "   transaction_id  product_id  customer_id transaction_date  online_order  \\\n",
       "0               1           2         2950       2017-02-25           0.0   \n",
       "1               2           3         3120       2017-05-21           1.0   \n",
       "2               3          37          402       2017-10-16           0.0   \n",
       "3               4          88         3135       2017-08-31           0.0   \n",
       "4               5          78          787       2017-10-01           1.0   \n",
       "\n",
       "  order_status           brand product_line product_class product_size  ...  \\\n",
       "0     Approved           Solex     Standard        medium       medium  ...   \n",
       "1     Approved   Trek Bicycles     Standard        medium        large  ...   \n",
       "2     Approved      OHM Cycles     Standard           low       medium  ...   \n",
       "3     Approved  Norco Bicycles     Standard        medium       medium  ...   \n",
       "4     Approved  Giant Bicycles     Standard        medium        large  ...   \n",
       "\n",
       "   recency  frequency  monetary  r_quartile f_quartile m_quartile rfm_segment  \\\n",
       "0       75          3    645.99           2          1          1         211   \n",
       "1       20          7   4179.11           3          3          4         334   \n",
       "2       56          6   4965.43           2          2          4         224   \n",
       "3      121          7   3983.97           1          3          3         133   \n",
       "4       75         10   6646.00           2          4          4         244   \n",
       "\n",
       "   rfm_score customer_rfm_label     detail_cust_title  \n",
       "0          4             Bronze  Almost Lost Customer  \n",
       "1         10           Platinum    Potential Customer  \n",
       "2          8               Gold      Loosing Customer  \n",
       "3          7             Silver  Almost Lost Customer  \n",
       "4         10           Platinum      Loosing Customer  \n",
       "\n",
       "[5 rows x 37 columns]"
      ]
     },
     "execution_count": 163,
     "metadata": {},
     "output_type": "execute_result"
    }
   ],
   "source": [
    "cust_trans_rfm.head()"
   ]
  },
  {
   "cell_type": "code",
   "execution_count": 164,
   "id": "7e40ccd5-7f10-4d4a-a0bb-c969068c1844",
   "metadata": {},
   "outputs": [
    {
     "data": {
      "image/png": "[encoded data removed]",
      "text/plain": [
       "<Figure size 900x500 with 1 Axes>"
      ]
     },
     "metadata": {},
     "output_type": "display_data"
    }
   ],
   "source": [
    "plt.figure(figsize=(9,5))\n",
    "sns.scatterplot(x='recency' , y='monetary', data = cust_trans_rfm, s= 80)\n",
    "plt.xlabel('Recency')\n",
    "plt.ylabel('Monetary ($)')\n",
    "plt.title('Recency vs Monetary')\n",
    "plt.savefig('Recency vs Monetary.jpg')\n",
    "plt.show()"
   ]
  },
  {
   "cell_type": "code",
   "execution_count": null,
   "id": "635eb51a-d883-43bd-87e0-e9b31fc3fea7",
   "metadata": {},
   "outputs": [],
   "source": []
  },
  {
   "cell_type": "code",
   "execution_count": 165,
   "id": "317bda3c-e8e5-4aca-861c-b09f59400e70",
   "metadata": {},
   "outputs": [
    {
     "data": {
      "text/plain": [
       "<Figure size 1000x700 with 0 Axes>"
      ]
     },
     "metadata": {},
     "output_type": "display_data"
    },
    {
     "data": {
      "image/png": "[encoded data removed]",
      "text/plain": [
       "<Figure size 640x480 with 1 Axes>"
      ]
     },
     "metadata": {},
     "output_type": "display_data"
    }
   ],
   "source": [
    "plt.figure(figsize=(10,7))\n",
    "cust_trans_rfm.plot.scatter(x='frequency' , y='monetary', s = 50)\n",
    "plt.xlabel('Frequency')\n",
    "plt.ylabel('Monetary ($)')\n",
    "plt.title('Frequency vs Monetary')\n",
    "plt.savefig('Frequency vs Monetary.jpg')\n",
    "plt.show()"
   ]
  },
  {
   "cell_type": "code",
   "execution_count": 166,
   "id": "ad5b5d54-dea9-4bdd-b013-2a0e1ca5b0be",
   "metadata": {},
   "outputs": [
    {
     "name": "stderr",
     "output_type": "stream",
     "text": [
      "C:\\Users\\Bhask\\AppData\\Local\\Temp\\ipykernel_15380\\3736590168.py:1: FutureWarning: The default of observed=False is deprecated and will be changed to True in a future version of pandas. Pass observed=False to retain current behavior or observed=True to adopt the future default and silence this warning.\n",
      "  rfm_label = cust_trans_rfm.groupby('customer_rfm_label').agg({'customer_id':'count'}).reset_index()\n"
     ]
    },
    {
     "data": {
      "image/png": "[encoded data removed]",
      "text/plain": [
       "<Figure size 700x500 with 1 Axes>"
      ]
     },
     "metadata": {},
     "output_type": "display_data"
    }
   ],
   "source": [
    "rfm_label = cust_trans_rfm.groupby('customer_rfm_label').agg({'customer_id':'count'}).reset_index()\n",
    "plt.figure(figsize= (7,5))\n",
    "sns.barplot(x= 'customer_rfm_label', y = 'customer_id', data = rfm_label, hue = 'customer_rfm_label', palette = 'winter')\n",
    "plt.xlabel('RFM Label')\n",
    "plt.ylabel('Number Of Customer')\n",
    "plt.title('Customer Distribution by RFM Label')\n",
    "plt.savefig('Customer Distribution by RFM Label.jpg')\n",
    "plt.show()"
   ]
  },
  {
   "cell_type": "code",
   "execution_count": null,
   "id": "0af05865-2702-4d8c-90e5-8c13e929168e",
   "metadata": {},
   "outputs": [],
   "source": []
  },
  {
   "cell_type": "code",
   "execution_count": 167,
   "id": "f4a46ce6-440a-43f3-a0c4-3e919c5d07a3",
   "metadata": {},
   "outputs": [],
   "source": [
    "grouped = cust_trans_rfm.groupby('detail_cust_title').agg({'customer_id':'count'}).reset_index()"
   ]
  },
  {
   "cell_type": "code",
   "execution_count": 168,
   "id": "baefc0a8-09ab-4e91-9491-1cec88a7dea8",
   "metadata": {},
   "outputs": [
    {
     "data": {
      "image/png": "[encoded data removed]",
      "text/plain": [
       "<Figure size 1700x700 with 1 Axes>"
      ]
     },
     "metadata": {},
     "output_type": "display_data"
    }
   ],
   "source": [
    "plt.figure(figsize= (17,7))\n",
    "sns.barplot(data = grouped, x = 'customer_id', y= 'detail_cust_title', hue = 'detail_cust_title', palette='viridis' )\n",
    "plt.xlabel('Number of Customer')\n",
    "plt.ylabel('Customer Segment')\n",
    "plt.title('Number of Customers by Customer Segment')\n",
    "plt.savefig('Number of Customers by Customer Segment.jpg')\n",
    "plt.show()"
   ]
  },
  {
   "cell_type": "code",
   "execution_count": 169,
   "id": "e20ac6c2-77a6-4291-9bb4-5352cfcc331b",
   "metadata": {},
   "outputs": [],
   "source": [
    "# converting the datatype \n",
    "cust_trans_rfm['m_quartile'] = cust_trans_rfm['m_quartile'].astype(int) \n",
    "cust_trans_rfm['f_quartile'] = cust_trans_rfm['f_quartile'].astype(int) \n",
    "cust_trans_rfm['r_quartile'] = cust_trans_rfm['r_quartile'].astype(int)"
   ]
  },
  {
   "cell_type": "code",
   "execution_count": 170,
   "id": "23219627-aaa4-49c4-973f-2fa674e0a254",
   "metadata": {},
   "outputs": [],
   "source": [
    "\n",
    "grouped_segment =cust_trans_rfm.groupby('detail_cust_title')[['m_quartile','f_quartile','r_quartile']].mean().reset_index()"
   ]
  },
  {
   "cell_type": "code",
   "execution_count": 171,
   "id": "5e516d6a-e5ff-4206-89cb-3adca1caa12b",
   "metadata": {},
   "outputs": [],
   "source": [
    "# Melt the data for easier plotting with seaborn\n",
    "grouped_melted = grouped_segment.melt(id_vars='detail_cust_title', value_vars=['m_quartile', 'f_quartile', 'r_quartile'],\n",
    "                              var_name='Quartile', value_name='Average')"
   ]
  },
  {
   "cell_type": "code",
   "execution_count": 172,
   "id": "10e40448-86dd-4d8d-ad4c-6b131f95eda1",
   "metadata": {},
   "outputs": [
    {
     "data": {
      "image/png": "[encoded data removed]",
      "text/plain": [
       "<Figure size 1440x480 with 1 Axes>"
      ]
     },
     "metadata": {},
     "output_type": "display_data"
    }
   ],
   "source": [
    "plt.figure(figsize=(18,6), dpi = 80)\n",
    "sns.barplot(x='detail_cust_title', y='Average', hue='Quartile', data=grouped_melted, palette='Blues')\n",
    "plt.xlabel('Customer Segment', fontsize=14)\n",
    "plt.ylabel('Average Quartile', fontsize=14)\n",
    "plt.title('Comparision of RFM Segments by Average Quartile', fontsize=16)\n",
    "# Rotate x-axis labels for better readability\n",
    "plt.xticks(rotation=45, ha='right')\n",
    "plt.legend(title='Quartile')\n",
    "plt.savefig('Comparision of RFM Segments by Average Quartile.jpg')\n",
    "plt.show()"
   ]
  },
  {
   "cell_type": "code",
   "execution_count": null,
   "id": "f84921db-e6a7-4c6d-a6ae-236d4f16f42e",
   "metadata": {},
   "outputs": [],
   "source": []
  },
  {
   "cell_type": "code",
   "execution_count": null,
   "id": "380195a0-7439-427f-8b04-282364e9b5c8",
   "metadata": {},
   "outputs": [],
   "source": []
  },
  {
   "cell_type": "code",
   "execution_count": null,
   "id": "cf4f79d6-53ab-4b06-a6c3-b1b7d2e917d3",
   "metadata": {},
   "outputs": [],
   "source": []
  },
  {
   "cell_type": "code",
   "execution_count": null,
   "id": "2500650a-7ed9-42f0-a2a6-1d7e945bec45",
   "metadata": {},
   "outputs": [],
   "source": []
  },
  {
   "cell_type": "code",
   "execution_count": null,
   "id": "59228a05-1cee-45c1-b99d-fb94e4158030",
   "metadata": {},
   "outputs": [],
   "source": []
  },
  {
   "cell_type": "code",
   "execution_count": null,
   "id": "21ba6f4f-43a8-4891-8f08-e3f62d8106a8",
   "metadata": {},
   "outputs": [],
   "source": []
  },
  {
   "cell_type": "code",
   "execution_count": null,
   "id": "6e71cf02-3fee-4b50-8b2f-0dca45d9a5b9",
   "metadata": {},
   "outputs": [],
   "source": []
  },
  {
   "cell_type": "code",
   "execution_count": null,
   "id": "48155c50-a371-4c70-881a-10cfefa15ed1",
   "metadata": {},
   "outputs": [],
   "source": []
  },
  {
   "cell_type": "code",
   "execution_count": null,
   "id": "c0328295-e288-4e20-9a65-43fb37a21071",
   "metadata": {},
   "outputs": [],
   "source": []
  },
  {
   "cell_type": "code",
   "execution_count": null,
   "id": "1328fddb-2c5a-46db-b4ec-c154ae2a63ae",
   "metadata": {},
   "outputs": [],
   "source": []
  },
  {
   "cell_type": "code",
   "execution_count": null,
   "id": "d513de0a-a582-4f02-bb72-037c4bbba703",
   "metadata": {},
   "outputs": [],
   "source": []
  },
  {
   "cell_type": "code",
   "execution_count": null,
   "id": "6cd8faf3-6105-4bc1-a849-fd669c688aff",
   "metadata": {},
   "outputs": [],
   "source": []
  },
  {
   "cell_type": "code",
   "execution_count": null,
   "id": "b5aa36d8-fa14-4c9d-a237-7d26b8d36884",
   "metadata": {},
   "outputs": [],
   "source": []
  },
  {
   "cell_type": "code",
   "execution_count": null,
   "id": "6dd14b36-af7b-42f9-a4c0-12b91e33b47b",
   "metadata": {},
   "outputs": [],
   "source": []
  }
 ],
 "metadata": {
  "kernelspec": {
   "display_name": "Python 3 (ipykernel)",
   "language": "python",
   "name": "python3"
  },
  "language_info": {
   "codemirror_mode": {
    "name": "ipython",
    "version": 3
   },
   "file_extension": ".py",
   "mimetype": "text/x-python",
   "name": "python",
   "nbconvert_exporter": "python",
   "pygments_lexer": "ipython3",
   "version": "3.13.0"
  }
 },
 "nbformat": 4,
 "nbformat_minor": 5
}
